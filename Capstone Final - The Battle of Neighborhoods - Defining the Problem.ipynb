{
    "cells": [
        {
            "cell_type": "markdown",
            "metadata": {},
            "source": "# The Best Place to Eat Pasta throughout the US"
        },
        {
            "cell_type": "markdown",
            "metadata": {},
            "source": "Coursera IBM Data Science Professional Certificate Capstone"
        },
        {
            "cell_type": "markdown",
            "metadata": {},
            "source": "# Introduction/Business Problem"
        },
        {
            "cell_type": "markdown",
            "metadata": {},
            "source": "If you're like me, you love pasta. Any place I visit I have to try out their best pasta restuarant in town to see how it compares to the other places that I've been. The problem that I am aiming to solve, will be what are the best pasta restuarants throughout the major cities in the US. "
        },
        {
            "cell_type": "markdown",
            "metadata": {},
            "source": "# Data Selection"
        },
        {
            "cell_type": "markdown",
            "metadata": {},
            "source": "I plan on using the Foursquare API to collect data about the locations of pasta restuarants in the following US cities: Houston, Texas, San Diego, California, Chicago, Illinois, Seattle, Oregon, and New York City, New York. I am hoping that this data will provide enough information to determine the best restuarant to visit. "
        },
        {
            "cell_type": "code",
            "execution_count": null,
            "metadata": {},
            "outputs": [],
            "source": ""
        }
    ],
    "metadata": {
        "kernelspec": {
            "display_name": "Python 3.7",
            "language": "python",
            "name": "python3"
        },
        "language_info": {
            "codemirror_mode": {
                "name": "ipython",
                "version": 3
            },
            "file_extension": ".py",
            "mimetype": "text/x-python",
            "name": "python",
            "nbconvert_exporter": "python",
            "pygments_lexer": "ipython3",
            "version": "3.7.9"
        }
    },
    "nbformat": 4,
    "nbformat_minor": 1
}