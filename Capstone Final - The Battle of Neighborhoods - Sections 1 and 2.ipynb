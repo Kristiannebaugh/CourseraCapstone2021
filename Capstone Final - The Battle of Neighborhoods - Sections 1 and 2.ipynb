{
    "cells": [
        {
            "cell_type": "markdown",
            "metadata": {},
            "source": "# The Best Places to Eat Italian throughout the US"
        },
        {
            "cell_type": "markdown",
            "metadata": {},
            "source": "Coursera IBM Data Science Professional Certificate Capstone\n\nBy: Kristianne Baugh"
        },
        {
            "cell_type": "markdown",
            "metadata": {},
            "source": "## Table of Contents"
        },
        {
            "cell_type": "markdown",
            "metadata": {},
            "source": "-Introduction/Business Problem\n\n-Data \n\n-Methodology\n\n-Analysis\n\n-Results and Discussion\n\n-Conclusion"
        },
        {
            "cell_type": "markdown",
            "metadata": {},
            "source": "# 1. Introduction/Business Problem"
        },
        {
            "cell_type": "markdown",
            "metadata": {},
            "source": "## Background"
        },
        {
            "cell_type": "markdown",
            "metadata": {},
            "source": "According to the Daily Meal webblog, there are no shortages of Italian Restuarants to choose from throughout the United States. Each state has the best Italian restuarant, by popular votes. https://www.thedailymeal.com/eat/best-italian-restaurant-every-state-gallery\n\nAlso, the Daily Meal webblog has an article about the top 50 best Italian restuarants in the United states, and many of those restaurants are in New York. https://www.thedailymeal.com/eat/americas-best-italian-restaurants-gallery\n\nHowever, what if I wanted a list of the best Italian restuarants in certain areas, such as New York, Michigan, Houston, Seattle, and Massachusetts? Also, what if I wanted to compare them? "
        },
        {
            "cell_type": "markdown",
            "metadata": {},
            "source": "## Problem Description"
        },
        {
            "cell_type": "markdown",
            "metadata": {},
            "source": "While the Daily Meal has a great list of places to visit, if a tourist is craving Italian food, my approach to this problem will be to use Foursquare API to collect the data on Italian restuarants within New York, Michigan, Houston, Seattle, and Massachusetts. I will then compare them in order to determine the best places to eat Italian food. "
        },
        {
            "cell_type": "markdown",
            "metadata": {},
            "source": "## Target Audience"
        },
        {
            "cell_type": "markdown",
            "metadata": {},
            "source": "My target audience will consist of mainly tourists who are looking for authentic Italian restuarants throughout New York, Michigan, Houston, Seattle, and Massachusetts. "
        },
        {
            "cell_type": "markdown",
            "metadata": {},
            "source": "## Success Criteria"
        },
        {
            "cell_type": "markdown",
            "metadata": {},
            "source": "The success of this investigation will depend upon the following: \n\n1. Popularity of the restuarant\n2. Price range of the restuarant\n3. Wait time of the restuarant"
        },
        {
            "cell_type": "markdown",
            "metadata": {},
            "source": "# 2. Data Selection"
        },
        {
            "cell_type": "markdown",
            "metadata": {},
            "source": "I plan on using the Foursquare API to collect data about the locations of pasta restuarants in the following US cities: New York, Michigan, Houston, Seattle, and Massachusetts. I am hoping that this data will provide enough information to determine the best restuarant to visit according to the above-mentioned success criteria.\n\nI will use Foursquare to gather the top Italian restuarants within those cities, and then compare their popularity, prices, and wait time in order to determine the best restuarants in those locations. I will then compare the top restuarants with each other to determine which one would be the absolute best Italian restuarant to visit. "
        },
        {
            "cell_type": "code",
            "execution_count": 4,
            "metadata": {},
            "outputs": [
                {
                    "name": "stderr",
                    "output_type": "stream",
                    "text": "/opt/conda/envs/Python-3.7-main/lib/python3.7/site-packages/ipykernel/__main__.py:16: FutureWarning: Passing a negative integer is deprecated in version 1.0 and will not be supported in future version. Instead, use None to not limit the column width.\n"
                }
            ],
            "source": "import pandas as pd\nimport locale\nimport requests\nimport numpy as np\nimport matplotlib.cm as cm\nimport matplotlib.colors as colors\nimport matplotlib.pyplot as plt\nimport json\nfrom math import sin, cos, sqrt, atan2, radians\nfrom sklearn.cluster import KMeans\nimport matplotlib.path as mpltPath\n\nlocale.setlocale(locale.LC_ALL, 'en_US.UTF8')\npd.set_option('display.max_column',None)\npd.set_option('display.max_rows', None)\npd.set_option('display.max_colwidth', -1)"
        },
        {
            "cell_type": "code",
            "execution_count": 7,
            "metadata": {},
            "outputs": [
                {
                    "name": "stdout",
                    "output_type": "stream",
                    "text": "Requirement already satisfied: folium in /opt/conda/envs/Python-3.7-main/lib/python3.7/site-packages (0.11.0)\nRequirement already satisfied: jinja2>=2.9 in /opt/conda/envs/Python-3.7-main/lib/python3.7/site-packages (from folium) (2.11.2)\nRequirement already satisfied: numpy in /opt/conda/envs/Python-3.7-main/lib/python3.7/site-packages (from folium) (1.18.5)\nRequirement already satisfied: branca>=0.3.0 in /opt/conda/envs/Python-3.7-main/lib/python3.7/site-packages (from folium) (0.4.2)\nRequirement already satisfied: requests in /opt/conda/envs/Python-3.7-main/lib/python3.7/site-packages (from folium) (2.24.0)\nRequirement already satisfied: MarkupSafe>=0.23 in /opt/conda/envs/Python-3.7-main/lib/python3.7/site-packages (from jinja2>=2.9->folium) (1.1.1)\nRequirement already satisfied: certifi>=2017.4.17 in /opt/conda/envs/Python-3.7-main/lib/python3.7/site-packages (from requests->folium) (2020.12.5)\nRequirement already satisfied: urllib3!=1.25.0,!=1.25.1,<1.26,>=1.21.1 in /opt/conda/envs/Python-3.7-main/lib/python3.7/site-packages (from requests->folium) (1.25.9)\nRequirement already satisfied: chardet<4,>=3.0.2 in /opt/conda/envs/Python-3.7-main/lib/python3.7/site-packages (from requests->folium) (3.0.4)\nRequirement already satisfied: idna<3,>=2.5 in /opt/conda/envs/Python-3.7-main/lib/python3.7/site-packages (from requests->folium) (2.9)\n"
                }
            ],
            "source": "!python3 -m pip install folium"
        },
        {
            "cell_type": "code",
            "execution_count": 15,
            "metadata": {},
            "outputs": [
                {
                    "name": "stdout",
                    "output_type": "stream",
                    "text": "Your credentails:\nCLIENT_ID: BVHVVQMLE03WWNN1YMOZZ5BBT4SGCVWQA3Y2DGVA44ZBXLUJ\nCLIENT_SECRET:GL12QT0SOAFRYPELNEH0RUTO3J0DGXKYSPYSLVAEE5Y4ZQ3I\n"
                }
            ],
            "source": "CLIENT_ID = 'BVHVVQMLE03WWNN1YMOZZ5BBT4SGCVWQA3Y2DGVA44ZBXLUJ'\nCLIENT_SECRET = 'GL12QT0SOAFRYPELNEH0RUTO3J0DGXKYSPYSLVAEE5Y4ZQ3I'\nACCESS_TOKEN = 'BNNWRWLRJIQ31AVOXGYDOCCERWVBLU5CPOF2CTS0JFKTV3WV'\nVERSION = '20180604'\nLIMIT = 30\nprint('Your credentails:')\nprint('CLIENT_ID: ' + CLIENT_ID)\nprint('CLIENT_SECRET:' + CLIENT_SECRET)"
        },
        {
            "cell_type": "markdown",
            "metadata": {},
            "source": "## Let's say that I am in New York City and Staying at The Plaza Hotel. "
        },
        {
            "cell_type": "code",
            "execution_count": 16,
            "metadata": {},
            "outputs": [
                {
                    "name": "stdout",
                    "output_type": "stream",
                    "text": "40.8152452 -73.9357728\n"
                }
            ],
            "source": "address = '5th Avenue, New York, NY'\n\ngeolocator = Nominatim(user_agent=\"foursquare_agent\")\nlocation = geolocator.geocode(address)\nlatitude = location.latitude\nlongitude = location.longitude\nprint(latitude, longitude)"
        },
        {
            "cell_type": "markdown",
            "metadata": {},
            "source": "I'm looking for the best Italian Restuarant in New York City right now."
        },
        {
            "cell_type": "code",
            "execution_count": 17,
            "metadata": {},
            "outputs": [
                {
                    "name": "stdout",
                    "output_type": "stream",
                    "text": "Italian .... Got it!\n"
                }
            ],
            "source": "search_query = 'Italian'\nradius = 1000\nprint(search_query + ' .... Got it!')"
        },
        {
            "cell_type": "code",
            "execution_count": 22,
            "metadata": {},
            "outputs": [
                {
                    "data": {
                        "text/plain": "'https://api.foursquare.com/v2/venues/search?client_id=BVHVVQMLE03WWNN1YMOZZ5BBT4SGCVWQA3Y2DGVA44ZBXLUJ&client_secret=GL12QT0SOAFRYPELNEH0RUTO3J0DGXKYSPYSLVAEE5Y4ZQ3I&ll=40.8152452,-73.9357728&oauth_token=BNNWRWLRJIQ31AVOXGYDOCCERWVBLU5CPOF2CTS0JFKTV3WV&v=20180604&query=Italian&radius=1000&limit=30'"
                    },
                    "execution_count": 22,
                    "metadata": {},
                    "output_type": "execute_result"
                }
            ],
            "source": "url = 'https://api.foursquare.com/v2/venues/search?client_id=BVHVVQMLE03WWNN1YMOZZ5BBT4SGCVWQA3Y2DGVA44ZBXLUJ&client_secret=GL12QT0SOAFRYPELNEH0RUTO3J0DGXKYSPYSLVAEE5Y4ZQ3I&ll=40.8152452,-73.9357728&oauth_token=BNNWRWLRJIQ31AVOXGYDOCCERWVBLU5CPOF2CTS0JFKTV3WV&v=20180604&query=Italian&radius=1000&limit=30'.format(CLIENT_ID, CLIENT_SECRET, latitude, longitude,ACCESS_TOKEN, VERSION, search_query, radius, LIMIT)\nurl"
        },
        {
            "cell_type": "code",
            "execution_count": 23,
            "metadata": {},
            "outputs": [
                {
                    "data": {
                        "text/plain": "{'meta': {'code': 200, 'requestId': '5ff5f7e80a51b26be4370d13'},\n 'notifications': [{'type': 'notificationTray', 'item': {'unreadCount': 0}}],\n 'response': {'venues': [{'id': '4c40f185e26920a1d5bb5de7',\n    'name': \"Yolanda's Italian Pizzeria & Restaurant\",\n    'location': {'address': '292 E 149th St',\n     'crossStreet': 'off Morris Avenue',\n     'lat': 40.81709844985412,\n     'lng': -73.92186622574978,\n     'labeledLatLngs': [{'label': 'display',\n       'lat': 40.81709844985412,\n       'lng': -73.92186622574978},\n      {'label': 'entrance', 'lat': 40.816997, 'lng': -73.921803}],\n     'distance': 1189,\n     'postalCode': '10451',\n     'cc': 'US',\n     'city': 'Bronx',\n     'state': 'NY',\n     'country': 'United States',\n     'formattedAddress': ['292 E 149th St (off Morris Avenue)',\n      'Bronx, NY 10451']},\n    'categories': [{'id': '4bf58dd8d48988d1ca941735',\n      'name': 'Pizza Place',\n      'pluralName': 'Pizza Places',\n      'shortName': 'Pizza',\n      'icon': {'prefix': 'https://ss3.4sqi.net/img/categories_v2/food/pizza_',\n       'suffix': '.png'},\n      'primary': True}],\n    'referralId': 'v-1609955304',\n    'hasPerk': False},\n   {'id': '4e74bc8ca809582dd59b548c',\n    'name': \"Passarelli's Italian Sausage\",\n    'location': {'address': \"Randall's Island\",\n     'lat': 40.81425232316303,\n     'lng': -73.93421114826005,\n     'labeledLatLngs': [{'label': 'display',\n       'lat': 40.81425232316303,\n       'lng': -73.93421114826005}],\n     'distance': 171,\n     'cc': 'US',\n     'city': 'Bronx',\n     'state': 'NY',\n     'country': 'United States',\n     'formattedAddress': [\"Randall's Island\", 'Bronx, NY']},\n    'categories': [],\n    'referralId': 'v-1609955304',\n    'hasPerk': False}]}}"
                    },
                    "execution_count": 23,
                    "metadata": {},
                    "output_type": "execute_result"
                }
            ],
            "source": "results = requests.get(url).json()\nresults"
        },
        {
            "cell_type": "markdown",
            "metadata": {},
            "source": "Results in New York"
        },
        {
            "cell_type": "code",
            "execution_count": 24,
            "metadata": {},
            "outputs": [
                {
                    "name": "stderr",
                    "output_type": "stream",
                    "text": "/opt/conda/envs/Python-3.7-main/lib/python3.7/site-packages/ipykernel/__main__.py:3: FutureWarning: pandas.io.json.json_normalize is deprecated, use pandas.json_normalize instead\n  app.launch_new_instance()\n"
                },
                {
                    "data": {
                        "text/html": "<div>\n<style scoped>\n    .dataframe tbody tr th:only-of-type {\n        vertical-align: middle;\n    }\n\n    .dataframe tbody tr th {\n        vertical-align: top;\n    }\n\n    .dataframe thead th {\n        text-align: right;\n    }\n</style>\n<table border=\"1\" class=\"dataframe\">\n  <thead>\n    <tr style=\"text-align: right;\">\n      <th></th>\n      <th>id</th>\n      <th>name</th>\n      <th>categories</th>\n      <th>referralId</th>\n      <th>hasPerk</th>\n      <th>location.address</th>\n      <th>location.crossStreet</th>\n      <th>location.lat</th>\n      <th>location.lng</th>\n      <th>location.labeledLatLngs</th>\n      <th>location.distance</th>\n      <th>location.postalCode</th>\n      <th>location.cc</th>\n      <th>location.city</th>\n      <th>location.state</th>\n      <th>location.country</th>\n      <th>location.formattedAddress</th>\n    </tr>\n  </thead>\n  <tbody>\n    <tr>\n      <th>0</th>\n      <td>4c40f185e26920a1d5bb5de7</td>\n      <td>Yolanda's Italian Pizzeria &amp; Restaurant</td>\n      <td>[{'id': '4bf58dd8d48988d1ca941735', 'name': 'Pizza Place', 'pluralName': 'Pizza Places', 'shortName': 'Pizza', 'icon': {'prefix': 'https://ss3.4sqi.net/img/categories_v2/food/pizza_', 'suffix': '.png'}, 'primary': True}]</td>\n      <td>v-1609955304</td>\n      <td>False</td>\n      <td>292 E 149th St</td>\n      <td>off Morris Avenue</td>\n      <td>40.817098</td>\n      <td>-73.921866</td>\n      <td>[{'label': 'display', 'lat': 40.81709844985412, 'lng': -73.92186622574978}, {'label': 'entrance', 'lat': 40.816997, 'lng': -73.921803}]</td>\n      <td>1189</td>\n      <td>10451</td>\n      <td>US</td>\n      <td>Bronx</td>\n      <td>NY</td>\n      <td>United States</td>\n      <td>[292 E 149th St (off Morris Avenue), Bronx, NY 10451]</td>\n    </tr>\n    <tr>\n      <th>1</th>\n      <td>4e74bc8ca809582dd59b548c</td>\n      <td>Passarelli's Italian Sausage</td>\n      <td>[]</td>\n      <td>v-1609955304</td>\n      <td>False</td>\n      <td>Randall's Island</td>\n      <td>NaN</td>\n      <td>40.814252</td>\n      <td>-73.934211</td>\n      <td>[{'label': 'display', 'lat': 40.81425232316303, 'lng': -73.93421114826005}]</td>\n      <td>171</td>\n      <td>NaN</td>\n      <td>US</td>\n      <td>Bronx</td>\n      <td>NY</td>\n      <td>United States</td>\n      <td>[Randall's Island, Bronx, NY]</td>\n    </tr>\n  </tbody>\n</table>\n</div>",
                        "text/plain": "                         id                                     name  \\\n0  4c40f185e26920a1d5bb5de7  Yolanda's Italian Pizzeria & Restaurant   \n1  4e74bc8ca809582dd59b548c  Passarelli's Italian Sausage              \n\n                                                                                                                                                                                                                     categories  \\\n0  [{'id': '4bf58dd8d48988d1ca941735', 'name': 'Pizza Place', 'pluralName': 'Pizza Places', 'shortName': 'Pizza', 'icon': {'prefix': 'https://ss3.4sqi.net/img/categories_v2/food/pizza_', 'suffix': '.png'}, 'primary': True}]   \n1  []                                                                                                                                                                                                                             \n\n     referralId  hasPerk  location.address location.crossStreet  location.lat  \\\n0  v-1609955304  False    292 E 149th St    off Morris Avenue    40.817098      \n1  v-1609955304  False    Randall's Island  NaN                  40.814252      \n\n   location.lng  \\\n0 -73.921866      \n1 -73.934211      \n\n                                                                                                                   location.labeledLatLngs  \\\n0  [{'label': 'display', 'lat': 40.81709844985412, 'lng': -73.92186622574978}, {'label': 'entrance', 'lat': 40.816997, 'lng': -73.921803}]   \n1  [{'label': 'display', 'lat': 40.81425232316303, 'lng': -73.93421114826005}]                                                               \n\n   location.distance location.postalCode location.cc location.city  \\\n0  1189               10451               US          Bronx          \n1  171                NaN                 US          Bronx          \n\n  location.state location.country  \\\n0  NY             United States     \n1  NY             United States     \n\n                               location.formattedAddress  \n0  [292 E 149th St (off Morris Avenue), Bronx, NY 10451]  \n1  [Randall's Island, Bronx, NY]                          "
                    },
                    "execution_count": 24,
                    "metadata": {},
                    "output_type": "execute_result"
                }
            ],
            "source": "venues = results['response']['venues']\n\ndataframe = json_normalize(venues)\ndataframe.head()"
        },
        {
            "cell_type": "markdown",
            "metadata": {},
            "source": "So it appears that there are only 2 Italian Restaurants within New York City that are close to The Plaza Hotel. "
        },
        {
            "cell_type": "markdown",
            "metadata": {},
            "source": "I want to clean up the NY dataframe "
        },
        {
            "cell_type": "code",
            "execution_count": 29,
            "metadata": {},
            "outputs": [
                {
                    "data": {
                        "text/html": "<div>\n<style scoped>\n    .dataframe tbody tr th:only-of-type {\n        vertical-align: middle;\n    }\n\n    .dataframe tbody tr th {\n        vertical-align: top;\n    }\n\n    .dataframe thead th {\n        text-align: right;\n    }\n</style>\n<table border=\"1\" class=\"dataframe\">\n  <thead>\n    <tr style=\"text-align: right;\">\n      <th></th>\n      <th>name</th>\n      <th>categories</th>\n      <th>address</th>\n      <th>crossStreet</th>\n      <th>lat</th>\n      <th>lng</th>\n      <th>labeledLatLngs</th>\n      <th>distance</th>\n      <th>postalCode</th>\n      <th>cc</th>\n      <th>city</th>\n      <th>state</th>\n      <th>country</th>\n      <th>formattedAddress</th>\n      <th>id</th>\n    </tr>\n  </thead>\n  <tbody>\n    <tr>\n      <th>0</th>\n      <td>Mario's</td>\n      <td>Italian Restaurant</td>\n      <td>4222 2nd Ave</td>\n      <td>btwn W.Canfield St. &amp; W.Willis St.</td>\n      <td>42.350318</td>\n      <td>-83.065788</td>\n      <td>[{'label': 'display', 'lat': 42.35031768732882, 'lng': -83.06578768571968}, {'label': 'entrance', 'lat': 42.350334, 'lng': -83.065915}]</td>\n      <td>1028</td>\n      <td>48201</td>\n      <td>US</td>\n      <td>Detroit</td>\n      <td>MI</td>\n      <td>United States</td>\n      <td>[4222 2nd Ave (btwn W.Canfield St. &amp; W.Willis St.), Detroit, MI 48201]</td>\n      <td>4bce2b0acc8cd13aaee3c3cf</td>\n    </tr>\n  </tbody>\n</table>\n</div>",
                        "text/plain": "      name          categories       address  \\\n0  Mario's  Italian Restaurant  4222 2nd Ave   \n\n                          crossStreet        lat        lng  \\\n0  btwn W.Canfield St. & W.Willis St.  42.350318 -83.065788   \n\n                                                                                                                            labeledLatLngs  \\\n0  [{'label': 'display', 'lat': 42.35031768732882, 'lng': -83.06578768571968}, {'label': 'entrance', 'lat': 42.350334, 'lng': -83.065915}]   \n\n   distance postalCode  cc     city state        country  \\\n0  1028      48201      US  Detroit  MI    United States   \n\n                                                         formattedAddress  \\\n0  [4222 2nd Ave (btwn W.Canfield St. & W.Willis St.), Detroit, MI 48201]   \n\n                         id  \n0  4bce2b0acc8cd13aaee3c3cf  "
                    },
                    "execution_count": 29,
                    "metadata": {},
                    "output_type": "execute_result"
                }
            ],
            "source": "filtered_columns = ['name', 'categories'] + [col for col in dataframe.columns if col.startswith('location.')] + ['id']\nNY_dataframe_filtered = dataframe.loc[:, filtered_columns]\n\ndef get_category_type(row):\n    try:\n        categories_list = row['categories']\n    except:\n        categories_list = row['venue.categories']\n        \n    if len(categories_list) == 0:\n        return None\n    else:\n        return categories_list[0]['name']\n\n\nNY_dataframe_filtered['categories'] = NY_dataframe_filtered.apply(get_category_type, axis=1)\n\nNY_dataframe_filtered.columns = [column.split('.')[-1] for column in NY_dataframe_filtered.columns]\n\nNY_dataframe_filtered"
        },
        {
            "cell_type": "markdown",
            "metadata": {},
            "source": "Get a nice visualization"
        },
        {
            "cell_type": "code",
            "execution_count": 32,
            "metadata": {
                "scrolled": true
            },
            "outputs": [
                {
                    "data": {
                        "text/html": "<div style=\"width:100%;\"><div style=\"position:relative;width:100%;height:0;padding-bottom:60%;\"><span style=\"color:#565656\">Make this Notebook Trusted to load map: File -> Trust Notebook</span><iframe src=\"about:blank\" style=\"position:absolute;width:100%;height:100%;left:0;top:0;border:none !important;\" data-html=%3C%21DOCTYPE%20html%3E%0A%3Chead%3E%20%20%20%20%0A%20%20%20%20%3Cmeta%20http-equiv%3D%22content-type%22%20content%3D%22text/html%3B%20charset%3DUTF-8%22%20/%3E%0A%20%20%20%20%0A%20%20%20%20%20%20%20%20%3Cscript%3E%0A%20%20%20%20%20%20%20%20%20%20%20%20L_NO_TOUCH%20%3D%20false%3B%0A%20%20%20%20%20%20%20%20%20%20%20%20L_DISABLE_3D%20%3D%20false%3B%0A%20%20%20%20%20%20%20%20%3C/script%3E%0A%20%20%20%20%0A%20%20%20%20%3Cscript%20src%3D%22https%3A//cdn.jsdelivr.net/npm/leaflet%401.6.0/dist/leaflet.js%22%3E%3C/script%3E%0A%20%20%20%20%3Cscript%20src%3D%22https%3A//code.jquery.com/jquery-1.12.4.min.js%22%3E%3C/script%3E%0A%20%20%20%20%3Cscript%20src%3D%22https%3A//maxcdn.bootstrapcdn.com/bootstrap/3.2.0/js/bootstrap.min.js%22%3E%3C/script%3E%0A%20%20%20%20%3Cscript%20src%3D%22https%3A//cdnjs.cloudflare.com/ajax/libs/Leaflet.awesome-markers/2.0.2/leaflet.awesome-markers.js%22%3E%3C/script%3E%0A%20%20%20%20%3Clink%20rel%3D%22stylesheet%22%20href%3D%22https%3A//cdn.jsdelivr.net/npm/leaflet%401.6.0/dist/leaflet.css%22/%3E%0A%20%20%20%20%3Clink%20rel%3D%22stylesheet%22%20href%3D%22https%3A//maxcdn.bootstrapcdn.com/bootstrap/3.2.0/css/bootstrap.min.css%22/%3E%0A%20%20%20%20%3Clink%20rel%3D%22stylesheet%22%20href%3D%22https%3A//maxcdn.bootstrapcdn.com/bootstrap/3.2.0/css/bootstrap-theme.min.css%22/%3E%0A%20%20%20%20%3Clink%20rel%3D%22stylesheet%22%20href%3D%22https%3A//maxcdn.bootstrapcdn.com/font-awesome/4.6.3/css/font-awesome.min.css%22/%3E%0A%20%20%20%20%3Clink%20rel%3D%22stylesheet%22%20href%3D%22https%3A//cdnjs.cloudflare.com/ajax/libs/Leaflet.awesome-markers/2.0.2/leaflet.awesome-markers.css%22/%3E%0A%20%20%20%20%3Clink%20rel%3D%22stylesheet%22%20href%3D%22https%3A//rawcdn.githack.com/python-visualization/folium/master/folium/templates/leaflet.awesome.rotate.css%22/%3E%0A%20%20%20%20%3Cstyle%3Ehtml%2C%20body%20%7Bwidth%3A%20100%25%3Bheight%3A%20100%25%3Bmargin%3A%200%3Bpadding%3A%200%3B%7D%3C/style%3E%0A%20%20%20%20%3Cstyle%3E%23map%20%7Bposition%3Aabsolute%3Btop%3A0%3Bbottom%3A0%3Bright%3A0%3Bleft%3A0%3B%7D%3C/style%3E%0A%20%20%20%20%0A%20%20%20%20%20%20%20%20%20%20%20%20%3Cmeta%20name%3D%22viewport%22%20content%3D%22width%3Ddevice-width%2C%0A%20%20%20%20%20%20%20%20%20%20%20%20%20%20%20%20initial-scale%3D1.0%2C%20maximum-scale%3D1.0%2C%20user-scalable%3Dno%22%20/%3E%0A%20%20%20%20%20%20%20%20%20%20%20%20%3Cstyle%3E%0A%20%20%20%20%20%20%20%20%20%20%20%20%20%20%20%20%23map_e51783173d664d2aa26f63065dbfa2f8%20%7B%0A%20%20%20%20%20%20%20%20%20%20%20%20%20%20%20%20%20%20%20%20position%3A%20relative%3B%0A%20%20%20%20%20%20%20%20%20%20%20%20%20%20%20%20%20%20%20%20width%3A%20100.0%25%3B%0A%20%20%20%20%20%20%20%20%20%20%20%20%20%20%20%20%20%20%20%20height%3A%20100.0%25%3B%0A%20%20%20%20%20%20%20%20%20%20%20%20%20%20%20%20%20%20%20%20left%3A%200.0%25%3B%0A%20%20%20%20%20%20%20%20%20%20%20%20%20%20%20%20%20%20%20%20top%3A%200.0%25%3B%0A%20%20%20%20%20%20%20%20%20%20%20%20%20%20%20%20%7D%0A%20%20%20%20%20%20%20%20%20%20%20%20%3C/style%3E%0A%20%20%20%20%20%20%20%20%0A%3C/head%3E%0A%3Cbody%3E%20%20%20%20%0A%20%20%20%20%0A%20%20%20%20%20%20%20%20%20%20%20%20%3Cdiv%20class%3D%22folium-map%22%20id%3D%22map_e51783173d664d2aa26f63065dbfa2f8%22%20%3E%3C/div%3E%0A%20%20%20%20%20%20%20%20%0A%3C/body%3E%0A%3Cscript%3E%20%20%20%20%0A%20%20%20%20%0A%20%20%20%20%20%20%20%20%20%20%20%20var%20map_e51783173d664d2aa26f63065dbfa2f8%20%3D%20L.map%28%0A%20%20%20%20%20%20%20%20%20%20%20%20%20%20%20%20%22map_e51783173d664d2aa26f63065dbfa2f8%22%2C%0A%20%20%20%20%20%20%20%20%20%20%20%20%20%20%20%20%7B%0A%20%20%20%20%20%20%20%20%20%20%20%20%20%20%20%20%20%20%20%20center%3A%20%5B42.3595105%2C%20-83.06452586249985%5D%2C%0A%20%20%20%20%20%20%20%20%20%20%20%20%20%20%20%20%20%20%20%20crs%3A%20L.CRS.EPSG3857%2C%0A%20%20%20%20%20%20%20%20%20%20%20%20%20%20%20%20%20%20%20%20zoom%3A%2013%2C%0A%20%20%20%20%20%20%20%20%20%20%20%20%20%20%20%20%20%20%20%20zoomControl%3A%20true%2C%0A%20%20%20%20%20%20%20%20%20%20%20%20%20%20%20%20%20%20%20%20preferCanvas%3A%20false%2C%0A%20%20%20%20%20%20%20%20%20%20%20%20%20%20%20%20%7D%0A%20%20%20%20%20%20%20%20%20%20%20%20%29%3B%0A%0A%20%20%20%20%20%20%20%20%20%20%20%20%0A%0A%20%20%20%20%20%20%20%20%0A%20%20%20%20%0A%20%20%20%20%20%20%20%20%20%20%20%20var%20tile_layer_6f10faae2fec4b3fbbc2cdb67088e82e%20%3D%20L.tileLayer%28%0A%20%20%20%20%20%20%20%20%20%20%20%20%20%20%20%20%22https%3A//%7Bs%7D.tile.openstreetmap.org/%7Bz%7D/%7Bx%7D/%7By%7D.png%22%2C%0A%20%20%20%20%20%20%20%20%20%20%20%20%20%20%20%20%7B%22attribution%22%3A%20%22Data%20by%20%5Cu0026copy%3B%20%5Cu003ca%20href%3D%5C%22http%3A//openstreetmap.org%5C%22%5Cu003eOpenStreetMap%5Cu003c/a%5Cu003e%2C%20under%20%5Cu003ca%20href%3D%5C%22http%3A//www.openstreetmap.org/copyright%5C%22%5Cu003eODbL%5Cu003c/a%5Cu003e.%22%2C%20%22detectRetina%22%3A%20false%2C%20%22maxNativeZoom%22%3A%2018%2C%20%22maxZoom%22%3A%2018%2C%20%22minZoom%22%3A%200%2C%20%22noWrap%22%3A%20false%2C%20%22opacity%22%3A%201%2C%20%22subdomains%22%3A%20%22abc%22%2C%20%22tms%22%3A%20false%7D%0A%20%20%20%20%20%20%20%20%20%20%20%20%29.addTo%28map_e51783173d664d2aa26f63065dbfa2f8%29%3B%0A%20%20%20%20%20%20%20%20%0A%20%20%20%20%0A%20%20%20%20%20%20%20%20%20%20%20%20var%20circle_marker_fce508bee00248818df21f53004de9be%20%3D%20L.circleMarker%28%0A%20%20%20%20%20%20%20%20%20%20%20%20%20%20%20%20%5B42.3595105%2C%20-83.06452586249985%5D%2C%0A%20%20%20%20%20%20%20%20%20%20%20%20%20%20%20%20%7B%22bubblingMouseEvents%22%3A%20true%2C%20%22color%22%3A%20%22red%22%2C%20%22dashArray%22%3A%20null%2C%20%22dashOffset%22%3A%20null%2C%20%22fill%22%3A%20true%2C%20%22fillColor%22%3A%20%22red%22%2C%20%22fillOpacity%22%3A%200.6%2C%20%22fillRule%22%3A%20%22evenodd%22%2C%20%22lineCap%22%3A%20%22round%22%2C%20%22lineJoin%22%3A%20%22round%22%2C%20%22opacity%22%3A%201.0%2C%20%22radius%22%3A%2010%2C%20%22stroke%22%3A%20true%2C%20%22weight%22%3A%203%7D%0A%20%20%20%20%20%20%20%20%20%20%20%20%29.addTo%28map_e51783173d664d2aa26f63065dbfa2f8%29%3B%0A%20%20%20%20%20%20%20%20%0A%20%20%20%20%0A%20%20%20%20%20%20%20%20var%20popup_c76004ce74624a75aea846cc8ebef9f1%20%3D%20L.popup%28%7B%22maxWidth%22%3A%20%22100%25%22%7D%29%3B%0A%0A%20%20%20%20%20%20%20%20%0A%20%20%20%20%20%20%20%20%20%20%20%20var%20html_e8b9e9cf694a4156a846e8728a2d13c2%20%3D%20%24%28%60%3Cdiv%20id%3D%22html_e8b9e9cf694a4156a846e8728a2d13c2%22%20style%3D%22width%3A%20100.0%25%3B%20height%3A%20100.0%25%3B%22%3EThe%20Plaza%20Hotel%3C/div%3E%60%29%5B0%5D%3B%0A%20%20%20%20%20%20%20%20%20%20%20%20popup_c76004ce74624a75aea846cc8ebef9f1.setContent%28html_e8b9e9cf694a4156a846e8728a2d13c2%29%3B%0A%20%20%20%20%20%20%20%20%0A%0A%20%20%20%20%20%20%20%20circle_marker_fce508bee00248818df21f53004de9be.bindPopup%28popup_c76004ce74624a75aea846cc8ebef9f1%29%0A%20%20%20%20%20%20%20%20%3B%0A%0A%20%20%20%20%20%20%20%20%0A%20%20%20%20%0A%20%20%20%20%0A%20%20%20%20%20%20%20%20%20%20%20%20var%20circle_marker_5bf6eae1375a43639a0e52d15bed2777%20%3D%20L.circleMarker%28%0A%20%20%20%20%20%20%20%20%20%20%20%20%20%20%20%20%5B42.35031768732882%2C%20-83.06578768571968%5D%2C%0A%20%20%20%20%20%20%20%20%20%20%20%20%20%20%20%20%7B%22bubblingMouseEvents%22%3A%20true%2C%20%22color%22%3A%20%22blue%22%2C%20%22dashArray%22%3A%20null%2C%20%22dashOffset%22%3A%20null%2C%20%22fill%22%3A%20true%2C%20%22fillColor%22%3A%20%22blue%22%2C%20%22fillOpacity%22%3A%200.6%2C%20%22fillRule%22%3A%20%22evenodd%22%2C%20%22lineCap%22%3A%20%22round%22%2C%20%22lineJoin%22%3A%20%22round%22%2C%20%22opacity%22%3A%201.0%2C%20%22radius%22%3A%205%2C%20%22stroke%22%3A%20true%2C%20%22weight%22%3A%203%7D%0A%20%20%20%20%20%20%20%20%20%20%20%20%29.addTo%28map_e51783173d664d2aa26f63065dbfa2f8%29%3B%0A%20%20%20%20%20%20%20%20%0A%20%20%20%20%0A%20%20%20%20%20%20%20%20var%20popup_c5c5c31e5bed461bb6aa982e76cf12d2%20%3D%20L.popup%28%7B%22maxWidth%22%3A%20%22100%25%22%7D%29%3B%0A%0A%20%20%20%20%20%20%20%20%0A%20%20%20%20%20%20%20%20%20%20%20%20var%20html_997c13fd31824b489e2dddb7a45a1ed0%20%3D%20%24%28%60%3Cdiv%20id%3D%22html_997c13fd31824b489e2dddb7a45a1ed0%22%20style%3D%22width%3A%20100.0%25%3B%20height%3A%20100.0%25%3B%22%3EItalian%20Restaurant%3C/div%3E%60%29%5B0%5D%3B%0A%20%20%20%20%20%20%20%20%20%20%20%20popup_c5c5c31e5bed461bb6aa982e76cf12d2.setContent%28html_997c13fd31824b489e2dddb7a45a1ed0%29%3B%0A%20%20%20%20%20%20%20%20%0A%0A%20%20%20%20%20%20%20%20circle_marker_5bf6eae1375a43639a0e52d15bed2777.bindPopup%28popup_c5c5c31e5bed461bb6aa982e76cf12d2%29%0A%20%20%20%20%20%20%20%20%3B%0A%0A%20%20%20%20%20%20%20%20%0A%20%20%20%20%0A%3C/script%3E onload=\"this.contentDocument.open();this.contentDocument.write(    decodeURIComponent(this.getAttribute('data-html')));this.contentDocument.close();\" allowfullscreen webkitallowfullscreen mozallowfullscreen></iframe></div></div>",
                        "text/plain": "<folium.folium.Map at 0x7fe612102a50>"
                    },
                    "execution_count": 32,
                    "metadata": {},
                    "output_type": "execute_result"
                }
            ],
            "source": "NY_dataframe_filtered.name\n\nNY_venues_map = folium.Map(location=[latitude, longitude], zoom_start=13)\n\nfolium.CircleMarker(\n    [latitude, longitude],\n    radius=10,\n    color='red',\n    popup='The Plaza Hotel',\n    fill = True,\n    fill_color = 'red',\n    fill_opacity = 0.6\n).add_to(NY_venues_map)\n\n\nfor lat, lng, label in zip(NY_dataframe_filtered.lat, NY_dataframe_filtered.lng, NY_dataframe_filtered.categories):\n    folium.CircleMarker(\n        [lat, lng],\n        radius=5,\n        color='blue',\n        popup=label,\n        fill = True,\n        fill_color='blue',\n        fill_opacity=0.6\n    ).add_to(NY_venues_map)\n\nNY_venues_map"
        },
        {
            "cell_type": "markdown",
            "metadata": {},
            "source": "## I will now do the same for Michigan, particulary Detroit. Let's say that I visited the Detroit Institute of Arts and am, of course, craving Italian food. "
        },
        {
            "cell_type": "code",
            "execution_count": 25,
            "metadata": {},
            "outputs": [
                {
                    "name": "stdout",
                    "output_type": "stream",
                    "text": "42.3595105 -83.06452586249985\n"
                }
            ],
            "source": "address = '5200 Woodward Avenue, Detroit, Michigan'\n\ngeolocator = Nominatim(user_agent=\"foursquare_agent\")\nlocation = geolocator.geocode(address)\nlatitude = location.latitude\nlongitude = location.longitude\nprint(latitude, longitude)"
        },
        {
            "cell_type": "code",
            "execution_count": 26,
            "metadata": {},
            "outputs": [
                {
                    "name": "stdout",
                    "output_type": "stream",
                    "text": "Italian .... Got it!\n"
                }
            ],
            "source": "search_query = 'Italian'\nradius = 1000\nprint(search_query + ' .... Got it!')"
        },
        {
            "cell_type": "code",
            "execution_count": 27,
            "metadata": {},
            "outputs": [
                {
                    "data": {
                        "text/plain": "'https://api.foursquare.com/v2/venues/search?client_id=BVHVVQMLE03WWNN1YMOZZ5BBT4SGCVWQA3Y2DGVA44ZBXLUJ&client_secret=GL12QT0SOAFRYPELNEH0RUTO3J0DGXKYSPYSLVAEE5Y4ZQ3I&ll=42.3595105,-83.06452586249985&oauth_token=BNNWRWLRJIQ31AVOXGYDOCCERWVBLU5CPOF2CTS0JFKTV3WV&v=20180604&query=Italian&radius=1000&limit=30'"
                    },
                    "execution_count": 27,
                    "metadata": {},
                    "output_type": "execute_result"
                }
            ],
            "source": "url = 'https://api.foursquare.com/v2/venues/search?client_id=BVHVVQMLE03WWNN1YMOZZ5BBT4SGCVWQA3Y2DGVA44ZBXLUJ&client_secret=GL12QT0SOAFRYPELNEH0RUTO3J0DGXKYSPYSLVAEE5Y4ZQ3I&ll=42.3595105,-83.06452586249985&oauth_token=BNNWRWLRJIQ31AVOXGYDOCCERWVBLU5CPOF2CTS0JFKTV3WV&v=20180604&query=Italian&radius=1000&limit=30'.format(CLIENT_ID, CLIENT_SECRET, latitude, longitude,ACCESS_TOKEN, VERSION, search_query, radius, LIMIT)\nurl"
        },
        {
            "cell_type": "code",
            "execution_count": 28,
            "metadata": {},
            "outputs": [
                {
                    "name": "stderr",
                    "output_type": "stream",
                    "text": "/opt/conda/envs/Python-3.7-main/lib/python3.7/site-packages/ipykernel/__main__.py:6: FutureWarning: pandas.io.json.json_normalize is deprecated, use pandas.json_normalize instead\n"
                },
                {
                    "data": {
                        "text/html": "<div>\n<style scoped>\n    .dataframe tbody tr th:only-of-type {\n        vertical-align: middle;\n    }\n\n    .dataframe tbody tr th {\n        vertical-align: top;\n    }\n\n    .dataframe thead th {\n        text-align: right;\n    }\n</style>\n<table border=\"1\" class=\"dataframe\">\n  <thead>\n    <tr style=\"text-align: right;\">\n      <th></th>\n      <th>id</th>\n      <th>name</th>\n      <th>categories</th>\n      <th>referralId</th>\n      <th>hasPerk</th>\n      <th>location.address</th>\n      <th>location.crossStreet</th>\n      <th>location.lat</th>\n      <th>location.lng</th>\n      <th>location.labeledLatLngs</th>\n      <th>location.distance</th>\n      <th>location.postalCode</th>\n      <th>location.cc</th>\n      <th>location.city</th>\n      <th>location.state</th>\n      <th>location.country</th>\n      <th>location.formattedAddress</th>\n      <th>delivery.id</th>\n      <th>delivery.url</th>\n      <th>delivery.provider.name</th>\n      <th>delivery.provider.icon.prefix</th>\n      <th>delivery.provider.icon.sizes</th>\n      <th>delivery.provider.icon.name</th>\n      <th>venuePage.id</th>\n    </tr>\n  </thead>\n  <tbody>\n    <tr>\n      <th>0</th>\n      <td>4bce2b0acc8cd13aaee3c3cf</td>\n      <td>Mario's</td>\n      <td>[{'id': '4bf58dd8d48988d110941735', 'name': 'Italian Restaurant', 'pluralName': 'Italian Restaurants', 'shortName': 'Italian', 'icon': {'prefix': 'https://ss3.4sqi.net/img/categories_v2/food/italian_', 'suffix': '.png'}, 'primary': True}]</td>\n      <td>v-1609955631</td>\n      <td>False</td>\n      <td>4222 2nd Ave</td>\n      <td>btwn W.Canfield St. &amp; W.Willis St.</td>\n      <td>42.350318</td>\n      <td>-83.065788</td>\n      <td>[{'label': 'display', 'lat': 42.35031768732882, 'lng': -83.06578768571968}, {'label': 'entrance', 'lat': 42.350334, 'lng': -83.065915}]</td>\n      <td>1028</td>\n      <td>48201</td>\n      <td>US</td>\n      <td>Detroit</td>\n      <td>MI</td>\n      <td>United States</td>\n      <td>[4222 2nd Ave (btwn W.Canfield St. &amp; W.Willis St.), Detroit, MI 48201]</td>\n      <td>2038542</td>\n      <td>https://www.grubhub.com/restaurant/marios-restaurant-4222-2nd-ave-detroit/2038542?affiliate=1131&amp;utm_source=foursquare-affiliate-network&amp;utm_medium=affiliate&amp;utm_campaign=1131&amp;utm_content=2038542</td>\n      <td>grubhub</td>\n      <td>https://fastly.4sqi.net/img/general/cap/</td>\n      <td>[40, 50]</td>\n      <td>/delivery_provider_grubhub_20180129.png</td>\n      <td>56970947</td>\n    </tr>\n  </tbody>\n</table>\n</div>",
                        "text/plain": "                         id     name  \\\n0  4bce2b0acc8cd13aaee3c3cf  Mario's   \n\n                                                                                                                                                                                                                                       categories  \\\n0  [{'id': '4bf58dd8d48988d110941735', 'name': 'Italian Restaurant', 'pluralName': 'Italian Restaurants', 'shortName': 'Italian', 'icon': {'prefix': 'https://ss3.4sqi.net/img/categories_v2/food/italian_', 'suffix': '.png'}, 'primary': True}]   \n\n     referralId  hasPerk location.address                location.crossStreet  \\\n0  v-1609955631  False    4222 2nd Ave     btwn W.Canfield St. & W.Willis St.   \n\n   location.lat  location.lng  \\\n0  42.350318    -83.065788      \n\n                                                                                                                   location.labeledLatLngs  \\\n0  [{'label': 'display', 'lat': 42.35031768732882, 'lng': -83.06578768571968}, {'label': 'entrance', 'lat': 42.350334, 'lng': -83.065915}]   \n\n   location.distance location.postalCode location.cc location.city  \\\n0  1028               48201               US          Detroit        \n\n  location.state location.country  \\\n0  MI             United States     \n\n                                                location.formattedAddress  \\\n0  [4222 2nd Ave (btwn W.Canfield St. & W.Willis St.), Detroit, MI 48201]   \n\n  delivery.id  \\\n0  2038542      \n\n                                                                                                                                                                                          delivery.url  \\\n0  https://www.grubhub.com/restaurant/marios-restaurant-4222-2nd-ave-detroit/2038542?affiliate=1131&utm_source=foursquare-affiliate-network&utm_medium=affiliate&utm_campaign=1131&utm_content=2038542   \n\n  delivery.provider.name             delivery.provider.icon.prefix  \\\n0  grubhub                https://fastly.4sqi.net/img/general/cap/   \n\n  delivery.provider.icon.sizes              delivery.provider.icon.name  \\\n0  [40, 50]                     /delivery_provider_grubhub_20180129.png   \n\n  venuePage.id  \n0  56970947     "
                    },
                    "execution_count": 28,
                    "metadata": {},
                    "output_type": "execute_result"
                }
            ],
            "source": "results = requests.get(url).json()\nresults\n\nvenues = results['response']['venues']\n\ndataframe = json_normalize(venues)\ndataframe.head()"
        },
        {
            "cell_type": "markdown",
            "metadata": {},
            "source": "# I will proceed with this process in my section 3. Methodology, going further into depth about each individual restuarant by using the FourSquare API. "
        },
        {
            "cell_type": "code",
            "execution_count": null,
            "metadata": {},
            "outputs": [],
            "source": ""
        }
    ],
    "metadata": {
        "kernelspec": {
            "display_name": "Python 3.7",
            "language": "python",
            "name": "python3"
        },
        "language_info": {
            "codemirror_mode": {
                "name": "ipython",
                "version": 3
            },
            "file_extension": ".py",
            "mimetype": "text/x-python",
            "name": "python",
            "nbconvert_exporter": "python",
            "pygments_lexer": "ipython3",
            "version": "3.7.9"
        }
    },
    "nbformat": 4,
    "nbformat_minor": 1
}