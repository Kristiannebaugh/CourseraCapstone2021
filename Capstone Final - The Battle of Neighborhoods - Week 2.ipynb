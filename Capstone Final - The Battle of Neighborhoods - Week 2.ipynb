{
    "cells": [
        {
            "cell_type": "markdown",
            "metadata": {},
            "source": "# The Best Places to Eat Italian throughout the US"
        },
        {
            "cell_type": "markdown",
            "metadata": {},
            "source": "Coursera IBM Data Science Professional Certificate Capstone\n\nBy: Kristianne Baugh"
        },
        {
            "cell_type": "markdown",
            "metadata": {},
            "source": "## Table of Contents"
        },
        {
            "cell_type": "markdown",
            "metadata": {},
            "source": "-Introduction/Business Problem\n\n-Data \n\n-Methodology\n\n-Analysis\n\n-Results and Discussion\n\n-Conclusion"
        },
        {
            "cell_type": "markdown",
            "metadata": {},
            "source": "# 1. Introduction/Business Problem"
        },
        {
            "cell_type": "markdown",
            "metadata": {},
            "source": "## Background"
        },
        {
            "cell_type": "markdown",
            "metadata": {},
            "source": "According to the Daily Meal webblog, there are no shortages of Italian Restaaurants to choose from throughout the United States. Each state has the best Italian restaurant, by popular votes. https://www.thedailymeal.com/eat/best-italian-restaurant-every-state-gallery\n\nAlso, the Daily Meal webblog has an article about the top 50 best Italian restaurants in the United states, and many of those restaurants are in New York. https://www.thedailymeal.com/eat/americas-best-italian-restaurants-gallery\n\nHowever, what if I wanted a list of the best Italian restaurants in certain areas, such as New York, Michigan, Houston, Seattle, and Massachusetts? Also, what if I wanted to compare them? "
        },
        {
            "cell_type": "markdown",
            "metadata": {},
            "source": "## Problem Description"
        },
        {
            "cell_type": "markdown",
            "metadata": {},
            "source": "While the Daily Meal has a great list of places to visit, if a tourist is craving Italian food, my approach to this problem will be to use Foursquare API to collect the data on Italian restaurants within New York, Michigan, Houston, Seattle, and Massachusetts. I will then compare them in order to determine the best places to eat Italian food. "
        },
        {
            "cell_type": "markdown",
            "metadata": {},
            "source": "## Target Audience"
        },
        {
            "cell_type": "markdown",
            "metadata": {},
            "source": "My target audience will consist of mainly tourists who are looking for authentic Italian restaurants throughout New York, Michigan, Houston, Seattle, and Massachusetts. "
        },
        {
            "cell_type": "markdown",
            "metadata": {},
            "source": "## Success Criteria"
        },
        {
            "cell_type": "markdown",
            "metadata": {},
            "source": "The success of this investigation will depend upon the following: \n\n1. Popularity of the restaurant\n2. Price range of the restaurant\n3. Wait time of the restaurant"
        },
        {
            "cell_type": "markdown",
            "metadata": {},
            "source": "# 2. Data Selection"
        },
        {
            "cell_type": "markdown",
            "metadata": {},
            "source": "I plan on using the Foursquare API to collect data about the locations of pasta restaurants in the following US cities: New York, Michigan, Houston, Seattle, and Massachusetts. I am hoping that this data will provide enough information to determine the best restaurant to visit according to the above-mentioned success criteria.\n\nI will use Foursquare to gather the top Italian restuarants within those cities, and then compare their popularity, prices, and wait time in order to determine the best restaurants in those locations. I will then compare the top restaurants with each other to determine which one would be the absolute best Italian restaurant to visit. "
        },
        {
            "cell_type": "code",
            "execution_count": 15,
            "metadata": {},
            "outputs": [
                {
                    "name": "stderr",
                    "output_type": "stream",
                    "text": "/opt/conda/envs/Python-3.7-main/lib/python3.7/site-packages/ipykernel/__main__.py:18: FutureWarning: Passing a negative integer is deprecated in version 1.0 and will not be supported in future version. Instead, use None to not limit the column width.\n"
                }
            ],
            "source": "import pandas as pd\nimport locale\nimport requests\nimport numpy as np\nimport matplotlib.cm as cm\nimport matplotlib.colors as colors\nimport matplotlib.pyplot as plt\nimport json\nfrom math import sin, cos, sqrt, atan2, radians\nfrom sklearn.cluster import KMeans\nimport matplotlib.path as mpltPath\nfrom geopy.geocoders import Nominatim\nfrom pandas.io.json import json_normalize\n\nlocale.setlocale(locale.LC_ALL, 'en_US.UTF8')\npd.set_option('display.max_column',None)\npd.set_option('display.max_rows', None)\npd.set_option('display.max_colwidth', -1)"
        },
        {
            "cell_type": "code",
            "execution_count": 21,
            "metadata": {},
            "outputs": [
                {
                    "name": "stdout",
                    "output_type": "stream",
                    "text": "Requirement already satisfied: folium in /opt/conda/envs/Python-3.7-main/lib/python3.7/site-packages (0.12.0)\r\nRequirement already satisfied: jinja2>=2.9 in /opt/conda/envs/Python-3.7-main/lib/python3.7/site-packages (from folium) (2.11.2)\r\nRequirement already satisfied: numpy in /opt/conda/envs/Python-3.7-main/lib/python3.7/site-packages (from folium) (1.18.5)\r\nRequirement already satisfied: branca>=0.3.0 in /opt/conda/envs/Python-3.7-main/lib/python3.7/site-packages (from folium) (0.4.2)\r\nRequirement already satisfied: requests in /opt/conda/envs/Python-3.7-main/lib/python3.7/site-packages (from folium) (2.24.0)\r\nRequirement already satisfied: MarkupSafe>=0.23 in /opt/conda/envs/Python-3.7-main/lib/python3.7/site-packages (from jinja2>=2.9->folium) (1.1.1)\r\nRequirement already satisfied: chardet<4,>=3.0.2 in /opt/conda/envs/Python-3.7-main/lib/python3.7/site-packages (from requests->folium) (3.0.4)\r\nRequirement already satisfied: certifi>=2017.4.17 in /opt/conda/envs/Python-3.7-main/lib/python3.7/site-packages (from requests->folium) (2020.12.5)\r\nRequirement already satisfied: urllib3!=1.25.0,!=1.25.1,<1.26,>=1.21.1 in /opt/conda/envs/Python-3.7-main/lib/python3.7/site-packages (from requests->folium) (1.25.9)\r\nRequirement already satisfied: idna<3,>=2.5 in /opt/conda/envs/Python-3.7-main/lib/python3.7/site-packages (from requests->folium) (2.9)\r\n"
                }
            ],
            "source": "!python3 -m pip install folium\nimport folium"
        },
        {
            "cell_type": "code",
            "execution_count": 7,
            "metadata": {
                "scrolled": true
            },
            "outputs": [
                {
                    "name": "stdout",
                    "output_type": "stream",
                    "text": "Your credentails:\nCLIENT_ID: BVHVVQMLE03WWNN1YMOZZ5BBT4SGCVWQA3Y2DGVA44ZBXLUJ\nCLIENT_SECRET:GL12QT0SOAFRYPELNEH0RUTO3J0DGXKYSPYSLVAEE5Y4ZQ3I\n"
                }
            ],
            "source": "CLIENT_ID = 'BVHVVQMLE03WWNN1YMOZZ5BBT4SGCVWQA3Y2DGVA44ZBXLUJ'\nCLIENT_SECRET = 'GL12QT0SOAFRYPELNEH0RUTO3J0DGXKYSPYSLVAEE5Y4ZQ3I'\nACCESS_TOKEN = 'BNNWRWLRJIQ31AVOXGYDOCCERWVBLU5CPOF2CTS0JFKTV3WV'\nVERSION = '20180604'\nLIMIT = 30\nprint('Your credentails:')\nprint('CLIENT_ID: ' + CLIENT_ID)\nprint('CLIENT_SECRET:' + CLIENT_SECRET)"
        },
        {
            "cell_type": "markdown",
            "metadata": {},
            "source": "# 3. Methodology"
        },
        {
            "cell_type": "markdown",
            "metadata": {},
            "source": "## Let's say that I am in New York City and Staying at The Plaza Hotel. "
        },
        {
            "cell_type": "code",
            "execution_count": 10,
            "metadata": {},
            "outputs": [
                {
                    "name": "stdout",
                    "output_type": "stream",
                    "text": "40.8152452 -73.9357728\n"
                }
            ],
            "source": "address = '5th Avenue, New York, NY'\n\ngeolocator = Nominatim(user_agent=\"foursquare_agent\")\nlocation = geolocator.geocode(address)\nlatitude = location.latitude\nlongitude = location.longitude\nprint(latitude, longitude)"
        },
        {
            "cell_type": "markdown",
            "metadata": {},
            "source": "I'm looking for the best Italian Restaurant in New York City right now."
        },
        {
            "cell_type": "code",
            "execution_count": 11,
            "metadata": {},
            "outputs": [
                {
                    "name": "stdout",
                    "output_type": "stream",
                    "text": "Italian .... Got it!\n"
                }
            ],
            "source": "search_query = 'Italian'\nradius = 1000\nprint(search_query + ' .... Got it!')"
        },
        {
            "cell_type": "code",
            "execution_count": 12,
            "metadata": {},
            "outputs": [
                {
                    "data": {
                        "text/plain": "'https://api.foursquare.com/v2/venues/search?client_id=BVHVVQMLE03WWNN1YMOZZ5BBT4SGCVWQA3Y2DGVA44ZBXLUJ&client_secret=GL12QT0SOAFRYPELNEH0RUTO3J0DGXKYSPYSLVAEE5Y4ZQ3I&ll=40.8152452,-73.9357728&oauth_token=BNNWRWLRJIQ31AVOXGYDOCCERWVBLU5CPOF2CTS0JFKTV3WV&v=20180604&query=Italian&radius=1000&limit=30'"
                    },
                    "execution_count": 12,
                    "metadata": {},
                    "output_type": "execute_result"
                }
            ],
            "source": "url = 'https://api.foursquare.com/v2/venues/search?client_id=BVHVVQMLE03WWNN1YMOZZ5BBT4SGCVWQA3Y2DGVA44ZBXLUJ&client_secret=GL12QT0SOAFRYPELNEH0RUTO3J0DGXKYSPYSLVAEE5Y4ZQ3I&ll=40.8152452,-73.9357728&oauth_token=BNNWRWLRJIQ31AVOXGYDOCCERWVBLU5CPOF2CTS0JFKTV3WV&v=20180604&query=Italian&radius=1000&limit=30'.format(CLIENT_ID, CLIENT_SECRET, latitude, longitude,ACCESS_TOKEN, VERSION, search_query, radius, LIMIT)\nurl"
        },
        {
            "cell_type": "code",
            "execution_count": 13,
            "metadata": {},
            "outputs": [
                {
                    "data": {
                        "text/plain": "{'meta': {'code': 200, 'requestId': '5ffba0bcf5b91f3347efaeff'},\n 'notifications': [{'type': 'notificationTray', 'item': {'unreadCount': 0}}],\n 'response': {'venues': [{'id': '4c40f185e26920a1d5bb5de7',\n    'name': \"Yolanda's Italian Pizzeria & Restaurant\",\n    'location': {'address': '292 E 149th St',\n     'crossStreet': 'off Morris Avenue',\n     'lat': 40.81709844985412,\n     'lng': -73.92186622574978,\n     'labeledLatLngs': [{'label': 'display',\n       'lat': 40.81709844985412,\n       'lng': -73.92186622574978},\n      {'label': 'entrance', 'lat': 40.816997, 'lng': -73.921803}],\n     'distance': 1189,\n     'postalCode': '10451',\n     'cc': 'US',\n     'city': 'Bronx',\n     'state': 'NY',\n     'country': 'United States',\n     'formattedAddress': ['292 E 149th St (off Morris Avenue)',\n      'Bronx, NY 10451']},\n    'categories': [{'id': '4bf58dd8d48988d1ca941735',\n      'name': 'Pizza Place',\n      'pluralName': 'Pizza Places',\n      'shortName': 'Pizza',\n      'icon': {'prefix': 'https://ss3.4sqi.net/img/categories_v2/food/pizza_',\n       'suffix': '.png'},\n      'primary': True}],\n    'referralId': 'v-1610326204',\n    'hasPerk': False},\n   {'id': '4e74bc8ca809582dd59b548c',\n    'name': \"Passarelli's Italian Sausage\",\n    'location': {'address': \"Randall's Island\",\n     'lat': 40.81425232316303,\n     'lng': -73.93421114826005,\n     'labeledLatLngs': [{'label': 'display',\n       'lat': 40.81425232316303,\n       'lng': -73.93421114826005}],\n     'distance': 171,\n     'cc': 'US',\n     'city': 'Bronx',\n     'state': 'NY',\n     'country': 'United States',\n     'formattedAddress': [\"Randall's Island\", 'Bronx, NY']},\n    'categories': [],\n    'referralId': 'v-1610326204',\n    'hasPerk': False}]}}"
                    },
                    "execution_count": 13,
                    "metadata": {},
                    "output_type": "execute_result"
                }
            ],
            "source": "results = requests.get(url).json()\nresults"
        },
        {
            "cell_type": "markdown",
            "metadata": {},
            "source": "Results in New York"
        },
        {
            "cell_type": "code",
            "execution_count": 16,
            "metadata": {},
            "outputs": [
                {
                    "name": "stderr",
                    "output_type": "stream",
                    "text": "/opt/conda/envs/Python-3.7-main/lib/python3.7/site-packages/ipykernel/__main__.py:3: FutureWarning: pandas.io.json.json_normalize is deprecated, use pandas.json_normalize instead\n  app.launch_new_instance()\n"
                },
                {
                    "data": {
                        "text/html": "<div>\n<style scoped>\n    .dataframe tbody tr th:only-of-type {\n        vertical-align: middle;\n    }\n\n    .dataframe tbody tr th {\n        vertical-align: top;\n    }\n\n    .dataframe thead th {\n        text-align: right;\n    }\n</style>\n<table border=\"1\" class=\"dataframe\">\n  <thead>\n    <tr style=\"text-align: right;\">\n      <th></th>\n      <th>id</th>\n      <th>name</th>\n      <th>categories</th>\n      <th>referralId</th>\n      <th>hasPerk</th>\n      <th>location.address</th>\n      <th>location.crossStreet</th>\n      <th>location.lat</th>\n      <th>location.lng</th>\n      <th>location.labeledLatLngs</th>\n      <th>location.distance</th>\n      <th>location.postalCode</th>\n      <th>location.cc</th>\n      <th>location.city</th>\n      <th>location.state</th>\n      <th>location.country</th>\n      <th>location.formattedAddress</th>\n    </tr>\n  </thead>\n  <tbody>\n    <tr>\n      <th>0</th>\n      <td>4c40f185e26920a1d5bb5de7</td>\n      <td>Yolanda's Italian Pizzeria &amp; Restaurant</td>\n      <td>[{'id': '4bf58dd8d48988d1ca941735', 'name': 'Pizza Place', 'pluralName': 'Pizza Places', 'shortName': 'Pizza', 'icon': {'prefix': 'https://ss3.4sqi.net/img/categories_v2/food/pizza_', 'suffix': '.png'}, 'primary': True}]</td>\n      <td>v-1610326204</td>\n      <td>False</td>\n      <td>292 E 149th St</td>\n      <td>off Morris Avenue</td>\n      <td>40.817098</td>\n      <td>-73.921866</td>\n      <td>[{'label': 'display', 'lat': 40.81709844985412, 'lng': -73.92186622574978}, {'label': 'entrance', 'lat': 40.816997, 'lng': -73.921803}]</td>\n      <td>1189</td>\n      <td>10451</td>\n      <td>US</td>\n      <td>Bronx</td>\n      <td>NY</td>\n      <td>United States</td>\n      <td>[292 E 149th St (off Morris Avenue), Bronx, NY 10451]</td>\n    </tr>\n    <tr>\n      <th>1</th>\n      <td>4e74bc8ca809582dd59b548c</td>\n      <td>Passarelli's Italian Sausage</td>\n      <td>[]</td>\n      <td>v-1610326204</td>\n      <td>False</td>\n      <td>Randall's Island</td>\n      <td>NaN</td>\n      <td>40.814252</td>\n      <td>-73.934211</td>\n      <td>[{'label': 'display', 'lat': 40.81425232316303, 'lng': -73.93421114826005}]</td>\n      <td>171</td>\n      <td>NaN</td>\n      <td>US</td>\n      <td>Bronx</td>\n      <td>NY</td>\n      <td>United States</td>\n      <td>[Randall's Island, Bronx, NY]</td>\n    </tr>\n  </tbody>\n</table>\n</div>",
                        "text/plain": "                         id                                     name  \\\n0  4c40f185e26920a1d5bb5de7  Yolanda's Italian Pizzeria & Restaurant   \n1  4e74bc8ca809582dd59b548c  Passarelli's Italian Sausage              \n\n                                                                                                                                                                                                                     categories  \\\n0  [{'id': '4bf58dd8d48988d1ca941735', 'name': 'Pizza Place', 'pluralName': 'Pizza Places', 'shortName': 'Pizza', 'icon': {'prefix': 'https://ss3.4sqi.net/img/categories_v2/food/pizza_', 'suffix': '.png'}, 'primary': True}]   \n1  []                                                                                                                                                                                                                             \n\n     referralId  hasPerk  location.address location.crossStreet  location.lat  \\\n0  v-1610326204  False    292 E 149th St    off Morris Avenue    40.817098      \n1  v-1610326204  False    Randall's Island  NaN                  40.814252      \n\n   location.lng  \\\n0 -73.921866      \n1 -73.934211      \n\n                                                                                                                   location.labeledLatLngs  \\\n0  [{'label': 'display', 'lat': 40.81709844985412, 'lng': -73.92186622574978}, {'label': 'entrance', 'lat': 40.816997, 'lng': -73.921803}]   \n1  [{'label': 'display', 'lat': 40.81425232316303, 'lng': -73.93421114826005}]                                                               \n\n   location.distance location.postalCode location.cc location.city  \\\n0  1189               10451               US          Bronx          \n1  171                NaN                 US          Bronx          \n\n  location.state location.country  \\\n0  NY             United States     \n1  NY             United States     \n\n                               location.formattedAddress  \n0  [292 E 149th St (off Morris Avenue), Bronx, NY 10451]  \n1  [Randall's Island, Bronx, NY]                          "
                    },
                    "execution_count": 16,
                    "metadata": {},
                    "output_type": "execute_result"
                }
            ],
            "source": "venues = results['response']['venues']\n\ndataframe = json_normalize(venues)\ndataframe.head()"
        },
        {
            "cell_type": "markdown",
            "metadata": {},
            "source": "So it appears that there are only 2 Italian Restaurants within New York City that are close to The Plaza Hotel. "
        },
        {
            "cell_type": "markdown",
            "metadata": {},
            "source": "Now, I want to clean up the NY dataframe :"
        },
        {
            "cell_type": "code",
            "execution_count": 17,
            "metadata": {},
            "outputs": [
                {
                    "data": {
                        "text/html": "<div>\n<style scoped>\n    .dataframe tbody tr th:only-of-type {\n        vertical-align: middle;\n    }\n\n    .dataframe tbody tr th {\n        vertical-align: top;\n    }\n\n    .dataframe thead th {\n        text-align: right;\n    }\n</style>\n<table border=\"1\" class=\"dataframe\">\n  <thead>\n    <tr style=\"text-align: right;\">\n      <th></th>\n      <th>name</th>\n      <th>categories</th>\n      <th>address</th>\n      <th>crossStreet</th>\n      <th>lat</th>\n      <th>lng</th>\n      <th>labeledLatLngs</th>\n      <th>distance</th>\n      <th>postalCode</th>\n      <th>cc</th>\n      <th>city</th>\n      <th>state</th>\n      <th>country</th>\n      <th>formattedAddress</th>\n      <th>id</th>\n    </tr>\n  </thead>\n  <tbody>\n    <tr>\n      <th>0</th>\n      <td>Yolanda's Italian Pizzeria &amp; Restaurant</td>\n      <td>Pizza Place</td>\n      <td>292 E 149th St</td>\n      <td>off Morris Avenue</td>\n      <td>40.817098</td>\n      <td>-73.921866</td>\n      <td>[{'label': 'display', 'lat': 40.81709844985412, 'lng': -73.92186622574978}, {'label': 'entrance', 'lat': 40.816997, 'lng': -73.921803}]</td>\n      <td>1189</td>\n      <td>10451</td>\n      <td>US</td>\n      <td>Bronx</td>\n      <td>NY</td>\n      <td>United States</td>\n      <td>[292 E 149th St (off Morris Avenue), Bronx, NY 10451]</td>\n      <td>4c40f185e26920a1d5bb5de7</td>\n    </tr>\n    <tr>\n      <th>1</th>\n      <td>Passarelli's Italian Sausage</td>\n      <td>None</td>\n      <td>Randall's Island</td>\n      <td>NaN</td>\n      <td>40.814252</td>\n      <td>-73.934211</td>\n      <td>[{'label': 'display', 'lat': 40.81425232316303, 'lng': -73.93421114826005}]</td>\n      <td>171</td>\n      <td>NaN</td>\n      <td>US</td>\n      <td>Bronx</td>\n      <td>NY</td>\n      <td>United States</td>\n      <td>[Randall's Island, Bronx, NY]</td>\n      <td>4e74bc8ca809582dd59b548c</td>\n    </tr>\n  </tbody>\n</table>\n</div>",
                        "text/plain": "                                      name   categories           address  \\\n0  Yolanda's Italian Pizzeria & Restaurant  Pizza Place  292 E 149th St     \n1  Passarelli's Italian Sausage             None         Randall's Island   \n\n         crossStreet        lat        lng  \\\n0  off Morris Avenue  40.817098 -73.921866   \n1  NaN                40.814252 -73.934211   \n\n                                                                                                                            labeledLatLngs  \\\n0  [{'label': 'display', 'lat': 40.81709844985412, 'lng': -73.92186622574978}, {'label': 'entrance', 'lat': 40.816997, 'lng': -73.921803}]   \n1  [{'label': 'display', 'lat': 40.81425232316303, 'lng': -73.93421114826005}]                                                               \n\n   distance postalCode  cc   city state        country  \\\n0  1189      10451      US  Bronx  NY    United States   \n1  171       NaN        US  Bronx  NY    United States   \n\n                                        formattedAddress  \\\n0  [292 E 149th St (off Morris Avenue), Bronx, NY 10451]   \n1  [Randall's Island, Bronx, NY]                           \n\n                         id  \n0  4c40f185e26920a1d5bb5de7  \n1  4e74bc8ca809582dd59b548c  "
                    },
                    "execution_count": 17,
                    "metadata": {},
                    "output_type": "execute_result"
                }
            ],
            "source": "filtered_columns = ['name', 'categories'] + [col for col in dataframe.columns if col.startswith('location.')] + ['id']\nNY_dataframe_filtered = dataframe.loc[:, filtered_columns]\n\ndef get_category_type(row):\n    try:\n        categories_list = row['categories']\n    except:\n        categories_list = row['venue.categories']\n        \n    if len(categories_list) == 0:\n        return None\n    else:\n        return categories_list[0]['name']\n\n\nNY_dataframe_filtered['categories'] = NY_dataframe_filtered.apply(get_category_type, axis=1)\n\nNY_dataframe_filtered.columns = [column.split('.')[-1] for column in NY_dataframe_filtered.columns]\n\nNY_dataframe_filtered"
        },
        {
            "cell_type": "markdown",
            "metadata": {},
            "source": "Get a nice visualization"
        },
        {
            "cell_type": "code",
            "execution_count": 22,
            "metadata": {
                "scrolled": true
            },
            "outputs": [
                {
                    "data": {
                        "text/html": "<div style=\"width:100%;\"><div style=\"position:relative;width:100%;height:0;padding-bottom:60%;\"><span style=\"color:#565656\">Make this Notebook Trusted to load map: File -> Trust Notebook</span><iframe src=\"about:blank\" style=\"position:absolute;width:100%;height:100%;left:0;top:0;border:none !important;\" data-html=%3C%21DOCTYPE%20html%3E%0A%3Chead%3E%20%20%20%20%0A%20%20%20%20%3Cmeta%20http-equiv%3D%22content-type%22%20content%3D%22text/html%3B%20charset%3DUTF-8%22%20/%3E%0A%20%20%20%20%0A%20%20%20%20%20%20%20%20%3Cscript%3E%0A%20%20%20%20%20%20%20%20%20%20%20%20L_NO_TOUCH%20%3D%20false%3B%0A%20%20%20%20%20%20%20%20%20%20%20%20L_DISABLE_3D%20%3D%20false%3B%0A%20%20%20%20%20%20%20%20%3C/script%3E%0A%20%20%20%20%0A%20%20%20%20%3Cstyle%3Ehtml%2C%20body%20%7Bwidth%3A%20100%25%3Bheight%3A%20100%25%3Bmargin%3A%200%3Bpadding%3A%200%3B%7D%3C/style%3E%0A%20%20%20%20%3Cstyle%3E%23map%20%7Bposition%3Aabsolute%3Btop%3A0%3Bbottom%3A0%3Bright%3A0%3Bleft%3A0%3B%7D%3C/style%3E%0A%20%20%20%20%3Cscript%20src%3D%22https%3A//cdn.jsdelivr.net/npm/leaflet%401.6.0/dist/leaflet.js%22%3E%3C/script%3E%0A%20%20%20%20%3Cscript%20src%3D%22https%3A//code.jquery.com/jquery-1.12.4.min.js%22%3E%3C/script%3E%0A%20%20%20%20%3Cscript%20src%3D%22https%3A//maxcdn.bootstrapcdn.com/bootstrap/3.2.0/js/bootstrap.min.js%22%3E%3C/script%3E%0A%20%20%20%20%3Cscript%20src%3D%22https%3A//cdnjs.cloudflare.com/ajax/libs/Leaflet.awesome-markers/2.0.2/leaflet.awesome-markers.js%22%3E%3C/script%3E%0A%20%20%20%20%3Clink%20rel%3D%22stylesheet%22%20href%3D%22https%3A//cdn.jsdelivr.net/npm/leaflet%401.6.0/dist/leaflet.css%22/%3E%0A%20%20%20%20%3Clink%20rel%3D%22stylesheet%22%20href%3D%22https%3A//maxcdn.bootstrapcdn.com/bootstrap/3.2.0/css/bootstrap.min.css%22/%3E%0A%20%20%20%20%3Clink%20rel%3D%22stylesheet%22%20href%3D%22https%3A//maxcdn.bootstrapcdn.com/bootstrap/3.2.0/css/bootstrap-theme.min.css%22/%3E%0A%20%20%20%20%3Clink%20rel%3D%22stylesheet%22%20href%3D%22https%3A//maxcdn.bootstrapcdn.com/font-awesome/4.6.3/css/font-awesome.min.css%22/%3E%0A%20%20%20%20%3Clink%20rel%3D%22stylesheet%22%20href%3D%22https%3A//cdnjs.cloudflare.com/ajax/libs/Leaflet.awesome-markers/2.0.2/leaflet.awesome-markers.css%22/%3E%0A%20%20%20%20%3Clink%20rel%3D%22stylesheet%22%20href%3D%22https%3A//cdn.jsdelivr.net/gh/python-visualization/folium/folium/templates/leaflet.awesome.rotate.min.css%22/%3E%0A%20%20%20%20%0A%20%20%20%20%20%20%20%20%20%20%20%20%3Cmeta%20name%3D%22viewport%22%20content%3D%22width%3Ddevice-width%2C%0A%20%20%20%20%20%20%20%20%20%20%20%20%20%20%20%20initial-scale%3D1.0%2C%20maximum-scale%3D1.0%2C%20user-scalable%3Dno%22%20/%3E%0A%20%20%20%20%20%20%20%20%20%20%20%20%3Cstyle%3E%0A%20%20%20%20%20%20%20%20%20%20%20%20%20%20%20%20%23map_7044f4430baf438dac1bc9fb2b4a1c25%20%7B%0A%20%20%20%20%20%20%20%20%20%20%20%20%20%20%20%20%20%20%20%20position%3A%20relative%3B%0A%20%20%20%20%20%20%20%20%20%20%20%20%20%20%20%20%20%20%20%20width%3A%20100.0%25%3B%0A%20%20%20%20%20%20%20%20%20%20%20%20%20%20%20%20%20%20%20%20height%3A%20100.0%25%3B%0A%20%20%20%20%20%20%20%20%20%20%20%20%20%20%20%20%20%20%20%20left%3A%200.0%25%3B%0A%20%20%20%20%20%20%20%20%20%20%20%20%20%20%20%20%20%20%20%20top%3A%200.0%25%3B%0A%20%20%20%20%20%20%20%20%20%20%20%20%20%20%20%20%7D%0A%20%20%20%20%20%20%20%20%20%20%20%20%3C/style%3E%0A%20%20%20%20%20%20%20%20%0A%3C/head%3E%0A%3Cbody%3E%20%20%20%20%0A%20%20%20%20%0A%20%20%20%20%20%20%20%20%20%20%20%20%3Cdiv%20class%3D%22folium-map%22%20id%3D%22map_7044f4430baf438dac1bc9fb2b4a1c25%22%20%3E%3C/div%3E%0A%20%20%20%20%20%20%20%20%0A%3C/body%3E%0A%3Cscript%3E%20%20%20%20%0A%20%20%20%20%0A%20%20%20%20%20%20%20%20%20%20%20%20var%20map_7044f4430baf438dac1bc9fb2b4a1c25%20%3D%20L.map%28%0A%20%20%20%20%20%20%20%20%20%20%20%20%20%20%20%20%22map_7044f4430baf438dac1bc9fb2b4a1c25%22%2C%0A%20%20%20%20%20%20%20%20%20%20%20%20%20%20%20%20%7B%0A%20%20%20%20%20%20%20%20%20%20%20%20%20%20%20%20%20%20%20%20center%3A%20%5B40.8152452%2C%20-73.9357728%5D%2C%0A%20%20%20%20%20%20%20%20%20%20%20%20%20%20%20%20%20%20%20%20crs%3A%20L.CRS.EPSG3857%2C%0A%20%20%20%20%20%20%20%20%20%20%20%20%20%20%20%20%20%20%20%20zoom%3A%2013%2C%0A%20%20%20%20%20%20%20%20%20%20%20%20%20%20%20%20%20%20%20%20zoomControl%3A%20true%2C%0A%20%20%20%20%20%20%20%20%20%20%20%20%20%20%20%20%20%20%20%20preferCanvas%3A%20false%2C%0A%20%20%20%20%20%20%20%20%20%20%20%20%20%20%20%20%7D%0A%20%20%20%20%20%20%20%20%20%20%20%20%29%3B%0A%0A%20%20%20%20%20%20%20%20%20%20%20%20%0A%0A%20%20%20%20%20%20%20%20%0A%20%20%20%20%0A%20%20%20%20%20%20%20%20%20%20%20%20var%20tile_layer_9c8f345ec6254fff860a6f30930cbcc0%20%3D%20L.tileLayer%28%0A%20%20%20%20%20%20%20%20%20%20%20%20%20%20%20%20%22https%3A//%7Bs%7D.tile.openstreetmap.org/%7Bz%7D/%7Bx%7D/%7By%7D.png%22%2C%0A%20%20%20%20%20%20%20%20%20%20%20%20%20%20%20%20%7B%22attribution%22%3A%20%22Data%20by%20%5Cu0026copy%3B%20%5Cu003ca%20href%3D%5C%22http%3A//openstreetmap.org%5C%22%5Cu003eOpenStreetMap%5Cu003c/a%5Cu003e%2C%20under%20%5Cu003ca%20href%3D%5C%22http%3A//www.openstreetmap.org/copyright%5C%22%5Cu003eODbL%5Cu003c/a%5Cu003e.%22%2C%20%22detectRetina%22%3A%20false%2C%20%22maxNativeZoom%22%3A%2018%2C%20%22maxZoom%22%3A%2018%2C%20%22minZoom%22%3A%200%2C%20%22noWrap%22%3A%20false%2C%20%22opacity%22%3A%201%2C%20%22subdomains%22%3A%20%22abc%22%2C%20%22tms%22%3A%20false%7D%0A%20%20%20%20%20%20%20%20%20%20%20%20%29.addTo%28map_7044f4430baf438dac1bc9fb2b4a1c25%29%3B%0A%20%20%20%20%20%20%20%20%0A%20%20%20%20%0A%20%20%20%20%20%20%20%20%20%20%20%20var%20circle_marker_6f05dbe851ad43f7aa8872cddd75a2b7%20%3D%20L.circleMarker%28%0A%20%20%20%20%20%20%20%20%20%20%20%20%20%20%20%20%5B40.8152452%2C%20-73.9357728%5D%2C%0A%20%20%20%20%20%20%20%20%20%20%20%20%20%20%20%20%7B%22bubblingMouseEvents%22%3A%20true%2C%20%22color%22%3A%20%22red%22%2C%20%22dashArray%22%3A%20null%2C%20%22dashOffset%22%3A%20null%2C%20%22fill%22%3A%20true%2C%20%22fillColor%22%3A%20%22red%22%2C%20%22fillOpacity%22%3A%200.6%2C%20%22fillRule%22%3A%20%22evenodd%22%2C%20%22lineCap%22%3A%20%22round%22%2C%20%22lineJoin%22%3A%20%22round%22%2C%20%22opacity%22%3A%201.0%2C%20%22radius%22%3A%2010%2C%20%22stroke%22%3A%20true%2C%20%22weight%22%3A%203%7D%0A%20%20%20%20%20%20%20%20%20%20%20%20%29.addTo%28map_7044f4430baf438dac1bc9fb2b4a1c25%29%3B%0A%20%20%20%20%20%20%20%20%0A%20%20%20%20%0A%20%20%20%20%20%20%20%20var%20popup_828370cb1ce440bf93a1df5fd91704f6%20%3D%20L.popup%28%7B%22maxWidth%22%3A%20%22100%25%22%7D%29%3B%0A%0A%20%20%20%20%20%20%20%20%0A%20%20%20%20%20%20%20%20%20%20%20%20var%20html_231ed6209fa54ac49c4e1a7c9dabbe9b%20%3D%20%24%28%60%3Cdiv%20id%3D%22html_231ed6209fa54ac49c4e1a7c9dabbe9b%22%20style%3D%22width%3A%20100.0%25%3B%20height%3A%20100.0%25%3B%22%3EThe%20Plaza%20Hotel%3C/div%3E%60%29%5B0%5D%3B%0A%20%20%20%20%20%20%20%20%20%20%20%20popup_828370cb1ce440bf93a1df5fd91704f6.setContent%28html_231ed6209fa54ac49c4e1a7c9dabbe9b%29%3B%0A%20%20%20%20%20%20%20%20%0A%0A%20%20%20%20%20%20%20%20circle_marker_6f05dbe851ad43f7aa8872cddd75a2b7.bindPopup%28popup_828370cb1ce440bf93a1df5fd91704f6%29%0A%20%20%20%20%20%20%20%20%3B%0A%0A%20%20%20%20%20%20%20%20%0A%20%20%20%20%0A%20%20%20%20%0A%20%20%20%20%20%20%20%20%20%20%20%20var%20circle_marker_bc7c3957fe6d4ac49783bc5274da66b8%20%3D%20L.circleMarker%28%0A%20%20%20%20%20%20%20%20%20%20%20%20%20%20%20%20%5B40.81709844985412%2C%20-73.92186622574978%5D%2C%0A%20%20%20%20%20%20%20%20%20%20%20%20%20%20%20%20%7B%22bubblingMouseEvents%22%3A%20true%2C%20%22color%22%3A%20%22blue%22%2C%20%22dashArray%22%3A%20null%2C%20%22dashOffset%22%3A%20null%2C%20%22fill%22%3A%20true%2C%20%22fillColor%22%3A%20%22blue%22%2C%20%22fillOpacity%22%3A%200.6%2C%20%22fillRule%22%3A%20%22evenodd%22%2C%20%22lineCap%22%3A%20%22round%22%2C%20%22lineJoin%22%3A%20%22round%22%2C%20%22opacity%22%3A%201.0%2C%20%22radius%22%3A%205%2C%20%22stroke%22%3A%20true%2C%20%22weight%22%3A%203%7D%0A%20%20%20%20%20%20%20%20%20%20%20%20%29.addTo%28map_7044f4430baf438dac1bc9fb2b4a1c25%29%3B%0A%20%20%20%20%20%20%20%20%0A%20%20%20%20%0A%20%20%20%20%20%20%20%20var%20popup_13081d24ce4644f0b24cfa7b434e7e5c%20%3D%20L.popup%28%7B%22maxWidth%22%3A%20%22100%25%22%7D%29%3B%0A%0A%20%20%20%20%20%20%20%20%0A%20%20%20%20%20%20%20%20%20%20%20%20var%20html_13b885939eee47958e6b9258f748ba24%20%3D%20%24%28%60%3Cdiv%20id%3D%22html_13b885939eee47958e6b9258f748ba24%22%20style%3D%22width%3A%20100.0%25%3B%20height%3A%20100.0%25%3B%22%3EPizza%20Place%3C/div%3E%60%29%5B0%5D%3B%0A%20%20%20%20%20%20%20%20%20%20%20%20popup_13081d24ce4644f0b24cfa7b434e7e5c.setContent%28html_13b885939eee47958e6b9258f748ba24%29%3B%0A%20%20%20%20%20%20%20%20%0A%0A%20%20%20%20%20%20%20%20circle_marker_bc7c3957fe6d4ac49783bc5274da66b8.bindPopup%28popup_13081d24ce4644f0b24cfa7b434e7e5c%29%0A%20%20%20%20%20%20%20%20%3B%0A%0A%20%20%20%20%20%20%20%20%0A%20%20%20%20%0A%20%20%20%20%0A%20%20%20%20%20%20%20%20%20%20%20%20var%20circle_marker_9e7dc3475a814e489129d4a5c83039db%20%3D%20L.circleMarker%28%0A%20%20%20%20%20%20%20%20%20%20%20%20%20%20%20%20%5B40.81425232316303%2C%20-73.93421114826005%5D%2C%0A%20%20%20%20%20%20%20%20%20%20%20%20%20%20%20%20%7B%22bubblingMouseEvents%22%3A%20true%2C%20%22color%22%3A%20%22blue%22%2C%20%22dashArray%22%3A%20null%2C%20%22dashOffset%22%3A%20null%2C%20%22fill%22%3A%20true%2C%20%22fillColor%22%3A%20%22blue%22%2C%20%22fillOpacity%22%3A%200.6%2C%20%22fillRule%22%3A%20%22evenodd%22%2C%20%22lineCap%22%3A%20%22round%22%2C%20%22lineJoin%22%3A%20%22round%22%2C%20%22opacity%22%3A%201.0%2C%20%22radius%22%3A%205%2C%20%22stroke%22%3A%20true%2C%20%22weight%22%3A%203%7D%0A%20%20%20%20%20%20%20%20%20%20%20%20%29.addTo%28map_7044f4430baf438dac1bc9fb2b4a1c25%29%3B%0A%20%20%20%20%20%20%20%20%0A%3C/script%3E onload=\"this.contentDocument.open();this.contentDocument.write(    decodeURIComponent(this.getAttribute('data-html')));this.contentDocument.close();\" allowfullscreen webkitallowfullscreen mozallowfullscreen></iframe></div></div>",
                        "text/plain": "<folium.folium.Map at 0x7f57400de9d0>"
                    },
                    "execution_count": 22,
                    "metadata": {},
                    "output_type": "execute_result"
                }
            ],
            "source": "NY_dataframe_filtered.name\n\nNY_venues_map = folium.Map(location=[latitude, longitude], zoom_start=13)\n\nfolium.CircleMarker(\n    [latitude, longitude],\n    radius=10,\n    color='red',\n    popup='The Plaza Hotel',\n    fill = True,\n    fill_color = 'red',\n    fill_opacity = 0.6\n).add_to(NY_venues_map)\n\n\nfor lat, lng, label in zip(NY_dataframe_filtered.lat, NY_dataframe_filtered.lng, NY_dataframe_filtered.categories):\n    folium.CircleMarker(\n        [lat, lng],\n        radius=5,\n        color='blue',\n        popup=label,\n        fill = True,\n        fill_color='blue',\n        fill_opacity=0.6\n    ).add_to(NY_venues_map)\n\nNY_venues_map"
        },
        {
            "cell_type": "markdown",
            "metadata": {},
            "source": "## I will now do the same for Michigan, particulary Detroit. Let's say that I visited the Detroit Institute of Arts and I am, of course, craving Italian food. "
        },
        {
            "cell_type": "code",
            "execution_count": 23,
            "metadata": {},
            "outputs": [
                {
                    "name": "stdout",
                    "output_type": "stream",
                    "text": "42.3595105 -83.06452586249985\n"
                }
            ],
            "source": "address = '5200 Woodward Avenue, Detroit, Michigan'\n\ngeolocator = Nominatim(user_agent=\"foursquare_agent\")\nlocation = geolocator.geocode(address)\nlatitude = location.latitude\nlongitude = location.longitude\nprint(latitude, longitude)"
        },
        {
            "cell_type": "code",
            "execution_count": 24,
            "metadata": {},
            "outputs": [
                {
                    "name": "stdout",
                    "output_type": "stream",
                    "text": "Italian .... Got it!\n"
                }
            ],
            "source": "search_query = 'Italian'\nradius = 1000\nprint(search_query + ' .... Got it!')"
        },
        {
            "cell_type": "code",
            "execution_count": 25,
            "metadata": {},
            "outputs": [
                {
                    "data": {
                        "text/plain": "'https://api.foursquare.com/v2/venues/search?client_id=BVHVVQMLE03WWNN1YMOZZ5BBT4SGCVWQA3Y2DGVA44ZBXLUJ&client_secret=GL12QT0SOAFRYPELNEH0RUTO3J0DGXKYSPYSLVAEE5Y4ZQ3I&ll=42.3595105,-83.06452586249985&oauth_token=BNNWRWLRJIQ31AVOXGYDOCCERWVBLU5CPOF2CTS0JFKTV3WV&v=20180604&query=Italian&radius=1000&limit=30'"
                    },
                    "execution_count": 25,
                    "metadata": {},
                    "output_type": "execute_result"
                }
            ],
            "source": "url = 'https://api.foursquare.com/v2/venues/search?client_id=BVHVVQMLE03WWNN1YMOZZ5BBT4SGCVWQA3Y2DGVA44ZBXLUJ&client_secret=GL12QT0SOAFRYPELNEH0RUTO3J0DGXKYSPYSLVAEE5Y4ZQ3I&ll=42.3595105,-83.06452586249985&oauth_token=BNNWRWLRJIQ31AVOXGYDOCCERWVBLU5CPOF2CTS0JFKTV3WV&v=20180604&query=Italian&radius=1000&limit=30'.format(CLIENT_ID, CLIENT_SECRET, latitude, longitude,ACCESS_TOKEN, VERSION, search_query, radius, LIMIT)\nurl"
        },
        {
            "cell_type": "code",
            "execution_count": 26,
            "metadata": {},
            "outputs": [
                {
                    "name": "stderr",
                    "output_type": "stream",
                    "text": "/opt/conda/envs/Python-3.7-main/lib/python3.7/site-packages/ipykernel/__main__.py:6: FutureWarning: pandas.io.json.json_normalize is deprecated, use pandas.json_normalize instead\n"
                },
                {
                    "data": {
                        "text/html": "<div>\n<style scoped>\n    .dataframe tbody tr th:only-of-type {\n        vertical-align: middle;\n    }\n\n    .dataframe tbody tr th {\n        vertical-align: top;\n    }\n\n    .dataframe thead th {\n        text-align: right;\n    }\n</style>\n<table border=\"1\" class=\"dataframe\">\n  <thead>\n    <tr style=\"text-align: right;\">\n      <th></th>\n      <th>id</th>\n      <th>name</th>\n      <th>categories</th>\n      <th>referralId</th>\n      <th>hasPerk</th>\n      <th>location.address</th>\n      <th>location.crossStreet</th>\n      <th>location.lat</th>\n      <th>location.lng</th>\n      <th>location.labeledLatLngs</th>\n      <th>location.distance</th>\n      <th>location.postalCode</th>\n      <th>location.cc</th>\n      <th>location.city</th>\n      <th>location.state</th>\n      <th>location.country</th>\n      <th>location.formattedAddress</th>\n      <th>delivery.id</th>\n      <th>delivery.url</th>\n      <th>delivery.provider.name</th>\n      <th>delivery.provider.icon.prefix</th>\n      <th>delivery.provider.icon.sizes</th>\n      <th>delivery.provider.icon.name</th>\n      <th>venuePage.id</th>\n    </tr>\n  </thead>\n  <tbody>\n    <tr>\n      <th>0</th>\n      <td>4bce2b0acc8cd13aaee3c3cf</td>\n      <td>Mario's</td>\n      <td>[{'id': '4bf58dd8d48988d110941735', 'name': 'Italian Restaurant', 'pluralName': 'Italian Restaurants', 'shortName': 'Italian', 'icon': {'prefix': 'https://ss3.4sqi.net/img/categories_v2/food/italian_', 'suffix': '.png'}, 'primary': True}]</td>\n      <td>v-1610326306</td>\n      <td>False</td>\n      <td>4222 2nd Ave</td>\n      <td>btwn W.Canfield St. &amp; W.Willis St.</td>\n      <td>42.350318</td>\n      <td>-83.065788</td>\n      <td>[{'label': 'display', 'lat': 42.35031768732882, 'lng': -83.06578768571968}, {'label': 'entrance', 'lat': 42.350334, 'lng': -83.065915}]</td>\n      <td>1028</td>\n      <td>48201</td>\n      <td>US</td>\n      <td>Detroit</td>\n      <td>MI</td>\n      <td>United States</td>\n      <td>[4222 2nd Ave (btwn W.Canfield St. &amp; W.Willis St.), Detroit, MI 48201]</td>\n      <td>2038542</td>\n      <td>https://www.grubhub.com/restaurant/marios-restaurant-4222-2nd-ave-detroit/2038542?affiliate=1131&amp;utm_source=foursquare-affiliate-network&amp;utm_medium=affiliate&amp;utm_campaign=1131&amp;utm_content=2038542</td>\n      <td>grubhub</td>\n      <td>https://fastly.4sqi.net/img/general/cap/</td>\n      <td>[40, 50]</td>\n      <td>/delivery_provider_grubhub_20180129.png</td>\n      <td>56970947</td>\n    </tr>\n  </tbody>\n</table>\n</div>",
                        "text/plain": "                         id     name  \\\n0  4bce2b0acc8cd13aaee3c3cf  Mario's   \n\n                                                                                                                                                                                                                                       categories  \\\n0  [{'id': '4bf58dd8d48988d110941735', 'name': 'Italian Restaurant', 'pluralName': 'Italian Restaurants', 'shortName': 'Italian', 'icon': {'prefix': 'https://ss3.4sqi.net/img/categories_v2/food/italian_', 'suffix': '.png'}, 'primary': True}]   \n\n     referralId  hasPerk location.address                location.crossStreet  \\\n0  v-1610326306  False    4222 2nd Ave     btwn W.Canfield St. & W.Willis St.   \n\n   location.lat  location.lng  \\\n0  42.350318    -83.065788      \n\n                                                                                                                   location.labeledLatLngs  \\\n0  [{'label': 'display', 'lat': 42.35031768732882, 'lng': -83.06578768571968}, {'label': 'entrance', 'lat': 42.350334, 'lng': -83.065915}]   \n\n   location.distance location.postalCode location.cc location.city  \\\n0  1028               48201               US          Detroit        \n\n  location.state location.country  \\\n0  MI             United States     \n\n                                                location.formattedAddress  \\\n0  [4222 2nd Ave (btwn W.Canfield St. & W.Willis St.), Detroit, MI 48201]   \n\n  delivery.id  \\\n0  2038542      \n\n                                                                                                                                                                                          delivery.url  \\\n0  https://www.grubhub.com/restaurant/marios-restaurant-4222-2nd-ave-detroit/2038542?affiliate=1131&utm_source=foursquare-affiliate-network&utm_medium=affiliate&utm_campaign=1131&utm_content=2038542   \n\n  delivery.provider.name             delivery.provider.icon.prefix  \\\n0  grubhub                https://fastly.4sqi.net/img/general/cap/   \n\n  delivery.provider.icon.sizes              delivery.provider.icon.name  \\\n0  [40, 50]                     /delivery_provider_grubhub_20180129.png   \n\n  venuePage.id  \n0  56970947     "
                    },
                    "execution_count": 26,
                    "metadata": {},
                    "output_type": "execute_result"
                }
            ],
            "source": "results = requests.get(url).json()\nresults\n\nvenues = results['response']['venues']\n\ndataframe = json_normalize(venues)\ndataframe.head()"
        },
        {
            "cell_type": "code",
            "execution_count": 27,
            "metadata": {},
            "outputs": [
                {
                    "data": {
                        "text/html": "<div>\n<style scoped>\n    .dataframe tbody tr th:only-of-type {\n        vertical-align: middle;\n    }\n\n    .dataframe tbody tr th {\n        vertical-align: top;\n    }\n\n    .dataframe thead th {\n        text-align: right;\n    }\n</style>\n<table border=\"1\" class=\"dataframe\">\n  <thead>\n    <tr style=\"text-align: right;\">\n      <th></th>\n      <th>name</th>\n      <th>categories</th>\n      <th>address</th>\n      <th>crossStreet</th>\n      <th>lat</th>\n      <th>lng</th>\n      <th>labeledLatLngs</th>\n      <th>distance</th>\n      <th>postalCode</th>\n      <th>cc</th>\n      <th>city</th>\n      <th>state</th>\n      <th>country</th>\n      <th>formattedAddress</th>\n      <th>id</th>\n    </tr>\n  </thead>\n  <tbody>\n    <tr>\n      <th>0</th>\n      <td>Mario's</td>\n      <td>Italian Restaurant</td>\n      <td>4222 2nd Ave</td>\n      <td>btwn W.Canfield St. &amp; W.Willis St.</td>\n      <td>42.350318</td>\n      <td>-83.065788</td>\n      <td>[{'label': 'display', 'lat': 42.35031768732882, 'lng': -83.06578768571968}, {'label': 'entrance', 'lat': 42.350334, 'lng': -83.065915}]</td>\n      <td>1028</td>\n      <td>48201</td>\n      <td>US</td>\n      <td>Detroit</td>\n      <td>MI</td>\n      <td>United States</td>\n      <td>[4222 2nd Ave (btwn W.Canfield St. &amp; W.Willis St.), Detroit, MI 48201]</td>\n      <td>4bce2b0acc8cd13aaee3c3cf</td>\n    </tr>\n  </tbody>\n</table>\n</div>",
                        "text/plain": "      name          categories       address  \\\n0  Mario's  Italian Restaurant  4222 2nd Ave   \n\n                          crossStreet        lat        lng  \\\n0  btwn W.Canfield St. & W.Willis St.  42.350318 -83.065788   \n\n                                                                                                                            labeledLatLngs  \\\n0  [{'label': 'display', 'lat': 42.35031768732882, 'lng': -83.06578768571968}, {'label': 'entrance', 'lat': 42.350334, 'lng': -83.065915}]   \n\n   distance postalCode  cc     city state        country  \\\n0  1028      48201      US  Detroit  MI    United States   \n\n                                                         formattedAddress  \\\n0  [4222 2nd Ave (btwn W.Canfield St. & W.Willis St.), Detroit, MI 48201]   \n\n                         id  \n0  4bce2b0acc8cd13aaee3c3cf  "
                    },
                    "execution_count": 27,
                    "metadata": {},
                    "output_type": "execute_result"
                }
            ],
            "source": "filtered_columns = ['name', 'categories'] + [col for col in dataframe.columns if col.startswith('location.')] + ['id']\nMI_dataframe_filtered = dataframe.loc[:, filtered_columns]\n\ndef get_category_type(row):\n    try:\n        categories_list = row['categories']\n    except:\n        categories_list = row['venue.categories']\n        \n    if len(categories_list) == 0:\n        return None\n    else:\n        return categories_list[0]['name']\n\n\nMI_dataframe_filtered['categories'] = MI_dataframe_filtered.apply(get_category_type, axis=1)\n\nMI_dataframe_filtered.columns = [column.split('.')[-1] for column in MI_dataframe_filtered.columns]\n\nMI_dataframe_filtered"
        },
        {
            "cell_type": "code",
            "execution_count": 28,
            "metadata": {
                "scrolled": true
            },
            "outputs": [
                {
                    "data": {
                        "text/html": "<div style=\"width:100%;\"><div style=\"position:relative;width:100%;height:0;padding-bottom:60%;\"><span style=\"color:#565656\">Make this Notebook Trusted to load map: File -> Trust Notebook</span><iframe src=\"about:blank\" style=\"position:absolute;width:100%;height:100%;left:0;top:0;border:none !important;\" data-html=%3C%21DOCTYPE%20html%3E%0A%3Chead%3E%20%20%20%20%0A%20%20%20%20%3Cmeta%20http-equiv%3D%22content-type%22%20content%3D%22text/html%3B%20charset%3DUTF-8%22%20/%3E%0A%20%20%20%20%0A%20%20%20%20%20%20%20%20%3Cscript%3E%0A%20%20%20%20%20%20%20%20%20%20%20%20L_NO_TOUCH%20%3D%20false%3B%0A%20%20%20%20%20%20%20%20%20%20%20%20L_DISABLE_3D%20%3D%20false%3B%0A%20%20%20%20%20%20%20%20%3C/script%3E%0A%20%20%20%20%0A%20%20%20%20%3Cstyle%3Ehtml%2C%20body%20%7Bwidth%3A%20100%25%3Bheight%3A%20100%25%3Bmargin%3A%200%3Bpadding%3A%200%3B%7D%3C/style%3E%0A%20%20%20%20%3Cstyle%3E%23map%20%7Bposition%3Aabsolute%3Btop%3A0%3Bbottom%3A0%3Bright%3A0%3Bleft%3A0%3B%7D%3C/style%3E%0A%20%20%20%20%3Cscript%20src%3D%22https%3A//cdn.jsdelivr.net/npm/leaflet%401.6.0/dist/leaflet.js%22%3E%3C/script%3E%0A%20%20%20%20%3Cscript%20src%3D%22https%3A//code.jquery.com/jquery-1.12.4.min.js%22%3E%3C/script%3E%0A%20%20%20%20%3Cscript%20src%3D%22https%3A//maxcdn.bootstrapcdn.com/bootstrap/3.2.0/js/bootstrap.min.js%22%3E%3C/script%3E%0A%20%20%20%20%3Cscript%20src%3D%22https%3A//cdnjs.cloudflare.com/ajax/libs/Leaflet.awesome-markers/2.0.2/leaflet.awesome-markers.js%22%3E%3C/script%3E%0A%20%20%20%20%3Clink%20rel%3D%22stylesheet%22%20href%3D%22https%3A//cdn.jsdelivr.net/npm/leaflet%401.6.0/dist/leaflet.css%22/%3E%0A%20%20%20%20%3Clink%20rel%3D%22stylesheet%22%20href%3D%22https%3A//maxcdn.bootstrapcdn.com/bootstrap/3.2.0/css/bootstrap.min.css%22/%3E%0A%20%20%20%20%3Clink%20rel%3D%22stylesheet%22%20href%3D%22https%3A//maxcdn.bootstrapcdn.com/bootstrap/3.2.0/css/bootstrap-theme.min.css%22/%3E%0A%20%20%20%20%3Clink%20rel%3D%22stylesheet%22%20href%3D%22https%3A//maxcdn.bootstrapcdn.com/font-awesome/4.6.3/css/font-awesome.min.css%22/%3E%0A%20%20%20%20%3Clink%20rel%3D%22stylesheet%22%20href%3D%22https%3A//cdnjs.cloudflare.com/ajax/libs/Leaflet.awesome-markers/2.0.2/leaflet.awesome-markers.css%22/%3E%0A%20%20%20%20%3Clink%20rel%3D%22stylesheet%22%20href%3D%22https%3A//cdn.jsdelivr.net/gh/python-visualization/folium/folium/templates/leaflet.awesome.rotate.min.css%22/%3E%0A%20%20%20%20%0A%20%20%20%20%20%20%20%20%20%20%20%20%3Cmeta%20name%3D%22viewport%22%20content%3D%22width%3Ddevice-width%2C%0A%20%20%20%20%20%20%20%20%20%20%20%20%20%20%20%20initial-scale%3D1.0%2C%20maximum-scale%3D1.0%2C%20user-scalable%3Dno%22%20/%3E%0A%20%20%20%20%20%20%20%20%20%20%20%20%3Cstyle%3E%0A%20%20%20%20%20%20%20%20%20%20%20%20%20%20%20%20%23map_6210c1010d9f41cda13cbf2d62b25a84%20%7B%0A%20%20%20%20%20%20%20%20%20%20%20%20%20%20%20%20%20%20%20%20position%3A%20relative%3B%0A%20%20%20%20%20%20%20%20%20%20%20%20%20%20%20%20%20%20%20%20width%3A%20100.0%25%3B%0A%20%20%20%20%20%20%20%20%20%20%20%20%20%20%20%20%20%20%20%20height%3A%20100.0%25%3B%0A%20%20%20%20%20%20%20%20%20%20%20%20%20%20%20%20%20%20%20%20left%3A%200.0%25%3B%0A%20%20%20%20%20%20%20%20%20%20%20%20%20%20%20%20%20%20%20%20top%3A%200.0%25%3B%0A%20%20%20%20%20%20%20%20%20%20%20%20%20%20%20%20%7D%0A%20%20%20%20%20%20%20%20%20%20%20%20%3C/style%3E%0A%20%20%20%20%20%20%20%20%0A%3C/head%3E%0A%3Cbody%3E%20%20%20%20%0A%20%20%20%20%0A%20%20%20%20%20%20%20%20%20%20%20%20%3Cdiv%20class%3D%22folium-map%22%20id%3D%22map_6210c1010d9f41cda13cbf2d62b25a84%22%20%3E%3C/div%3E%0A%20%20%20%20%20%20%20%20%0A%3C/body%3E%0A%3Cscript%3E%20%20%20%20%0A%20%20%20%20%0A%20%20%20%20%20%20%20%20%20%20%20%20var%20map_6210c1010d9f41cda13cbf2d62b25a84%20%3D%20L.map%28%0A%20%20%20%20%20%20%20%20%20%20%20%20%20%20%20%20%22map_6210c1010d9f41cda13cbf2d62b25a84%22%2C%0A%20%20%20%20%20%20%20%20%20%20%20%20%20%20%20%20%7B%0A%20%20%20%20%20%20%20%20%20%20%20%20%20%20%20%20%20%20%20%20center%3A%20%5B42.3595105%2C%20-83.06452586249985%5D%2C%0A%20%20%20%20%20%20%20%20%20%20%20%20%20%20%20%20%20%20%20%20crs%3A%20L.CRS.EPSG3857%2C%0A%20%20%20%20%20%20%20%20%20%20%20%20%20%20%20%20%20%20%20%20zoom%3A%2013%2C%0A%20%20%20%20%20%20%20%20%20%20%20%20%20%20%20%20%20%20%20%20zoomControl%3A%20true%2C%0A%20%20%20%20%20%20%20%20%20%20%20%20%20%20%20%20%20%20%20%20preferCanvas%3A%20false%2C%0A%20%20%20%20%20%20%20%20%20%20%20%20%20%20%20%20%7D%0A%20%20%20%20%20%20%20%20%20%20%20%20%29%3B%0A%0A%20%20%20%20%20%20%20%20%20%20%20%20%0A%0A%20%20%20%20%20%20%20%20%0A%20%20%20%20%0A%20%20%20%20%20%20%20%20%20%20%20%20var%20tile_layer_a5f72af9d1804a4a97b7da0c187118dd%20%3D%20L.tileLayer%28%0A%20%20%20%20%20%20%20%20%20%20%20%20%20%20%20%20%22https%3A//%7Bs%7D.tile.openstreetmap.org/%7Bz%7D/%7Bx%7D/%7By%7D.png%22%2C%0A%20%20%20%20%20%20%20%20%20%20%20%20%20%20%20%20%7B%22attribution%22%3A%20%22Data%20by%20%5Cu0026copy%3B%20%5Cu003ca%20href%3D%5C%22http%3A//openstreetmap.org%5C%22%5Cu003eOpenStreetMap%5Cu003c/a%5Cu003e%2C%20under%20%5Cu003ca%20href%3D%5C%22http%3A//www.openstreetmap.org/copyright%5C%22%5Cu003eODbL%5Cu003c/a%5Cu003e.%22%2C%20%22detectRetina%22%3A%20false%2C%20%22maxNativeZoom%22%3A%2018%2C%20%22maxZoom%22%3A%2018%2C%20%22minZoom%22%3A%200%2C%20%22noWrap%22%3A%20false%2C%20%22opacity%22%3A%201%2C%20%22subdomains%22%3A%20%22abc%22%2C%20%22tms%22%3A%20false%7D%0A%20%20%20%20%20%20%20%20%20%20%20%20%29.addTo%28map_6210c1010d9f41cda13cbf2d62b25a84%29%3B%0A%20%20%20%20%20%20%20%20%0A%20%20%20%20%0A%20%20%20%20%20%20%20%20%20%20%20%20var%20circle_marker_5794554e1fa4414d9f32c7fec35ab238%20%3D%20L.circleMarker%28%0A%20%20%20%20%20%20%20%20%20%20%20%20%20%20%20%20%5B42.3595105%2C%20-83.06452586249985%5D%2C%0A%20%20%20%20%20%20%20%20%20%20%20%20%20%20%20%20%7B%22bubblingMouseEvents%22%3A%20true%2C%20%22color%22%3A%20%22red%22%2C%20%22dashArray%22%3A%20null%2C%20%22dashOffset%22%3A%20null%2C%20%22fill%22%3A%20true%2C%20%22fillColor%22%3A%20%22red%22%2C%20%22fillOpacity%22%3A%200.6%2C%20%22fillRule%22%3A%20%22evenodd%22%2C%20%22lineCap%22%3A%20%22round%22%2C%20%22lineJoin%22%3A%20%22round%22%2C%20%22opacity%22%3A%201.0%2C%20%22radius%22%3A%2010%2C%20%22stroke%22%3A%20true%2C%20%22weight%22%3A%203%7D%0A%20%20%20%20%20%20%20%20%20%20%20%20%29.addTo%28map_6210c1010d9f41cda13cbf2d62b25a84%29%3B%0A%20%20%20%20%20%20%20%20%0A%20%20%20%20%0A%20%20%20%20%20%20%20%20var%20popup_b0a46f77ffff4d23aa9032fb3db2aea3%20%3D%20L.popup%28%7B%22maxWidth%22%3A%20%22100%25%22%7D%29%3B%0A%0A%20%20%20%20%20%20%20%20%0A%20%20%20%20%20%20%20%20%20%20%20%20var%20html_e9f36b71b17d42389fc31bf7af321939%20%3D%20%24%28%60%3Cdiv%20id%3D%22html_e9f36b71b17d42389fc31bf7af321939%22%20style%3D%22width%3A%20100.0%25%3B%20height%3A%20100.0%25%3B%22%3EDetroit%20Institute%20of%20Arts%3C/div%3E%60%29%5B0%5D%3B%0A%20%20%20%20%20%20%20%20%20%20%20%20popup_b0a46f77ffff4d23aa9032fb3db2aea3.setContent%28html_e9f36b71b17d42389fc31bf7af321939%29%3B%0A%20%20%20%20%20%20%20%20%0A%0A%20%20%20%20%20%20%20%20circle_marker_5794554e1fa4414d9f32c7fec35ab238.bindPopup%28popup_b0a46f77ffff4d23aa9032fb3db2aea3%29%0A%20%20%20%20%20%20%20%20%3B%0A%0A%20%20%20%20%20%20%20%20%0A%20%20%20%20%0A%20%20%20%20%0A%20%20%20%20%20%20%20%20%20%20%20%20var%20circle_marker_08df723a80a54955a036b6bc8d74a8f9%20%3D%20L.circleMarker%28%0A%20%20%20%20%20%20%20%20%20%20%20%20%20%20%20%20%5B42.35031768732882%2C%20-83.06578768571968%5D%2C%0A%20%20%20%20%20%20%20%20%20%20%20%20%20%20%20%20%7B%22bubblingMouseEvents%22%3A%20true%2C%20%22color%22%3A%20%22blue%22%2C%20%22dashArray%22%3A%20null%2C%20%22dashOffset%22%3A%20null%2C%20%22fill%22%3A%20true%2C%20%22fillColor%22%3A%20%22blue%22%2C%20%22fillOpacity%22%3A%200.6%2C%20%22fillRule%22%3A%20%22evenodd%22%2C%20%22lineCap%22%3A%20%22round%22%2C%20%22lineJoin%22%3A%20%22round%22%2C%20%22opacity%22%3A%201.0%2C%20%22radius%22%3A%205%2C%20%22stroke%22%3A%20true%2C%20%22weight%22%3A%203%7D%0A%20%20%20%20%20%20%20%20%20%20%20%20%29.addTo%28map_6210c1010d9f41cda13cbf2d62b25a84%29%3B%0A%20%20%20%20%20%20%20%20%0A%20%20%20%20%0A%20%20%20%20%20%20%20%20var%20popup_3dce4f72a5444ad1bba4fe60e08e8740%20%3D%20L.popup%28%7B%22maxWidth%22%3A%20%22100%25%22%7D%29%3B%0A%0A%20%20%20%20%20%20%20%20%0A%20%20%20%20%20%20%20%20%20%20%20%20var%20html_56aa7746e1774f138eb331f068d7901b%20%3D%20%24%28%60%3Cdiv%20id%3D%22html_56aa7746e1774f138eb331f068d7901b%22%20style%3D%22width%3A%20100.0%25%3B%20height%3A%20100.0%25%3B%22%3EItalian%20Restaurant%3C/div%3E%60%29%5B0%5D%3B%0A%20%20%20%20%20%20%20%20%20%20%20%20popup_3dce4f72a5444ad1bba4fe60e08e8740.setContent%28html_56aa7746e1774f138eb331f068d7901b%29%3B%0A%20%20%20%20%20%20%20%20%0A%0A%20%20%20%20%20%20%20%20circle_marker_08df723a80a54955a036b6bc8d74a8f9.bindPopup%28popup_3dce4f72a5444ad1bba4fe60e08e8740%29%0A%20%20%20%20%20%20%20%20%3B%0A%0A%20%20%20%20%20%20%20%20%0A%20%20%20%20%0A%3C/script%3E onload=\"this.contentDocument.open();this.contentDocument.write(    decodeURIComponent(this.getAttribute('data-html')));this.contentDocument.close();\" allowfullscreen webkitallowfullscreen mozallowfullscreen></iframe></div></div>",
                        "text/plain": "<folium.folium.Map at 0x7f574053e790>"
                    },
                    "execution_count": 28,
                    "metadata": {},
                    "output_type": "execute_result"
                }
            ],
            "source": "MI_dataframe_filtered.name\n\nMI_venues_map = folium.Map(location=[latitude, longitude], zoom_start=13)\n\nfolium.CircleMarker(\n    [latitude, longitude],\n    radius=10,\n    color='red',\n    popup='Detroit Institute of Arts',\n    fill = True,\n    fill_color = 'red',\n    fill_opacity = 0.6\n).add_to(MI_venues_map)\n\n\nfor lat, lng, label in zip(MI_dataframe_filtered.lat, MI_dataframe_filtered.lng, MI_dataframe_filtered.categories):\n    folium.CircleMarker(\n        [lat, lng],\n        radius=5,\n        color='blue',\n        popup=label,\n        fill = True,\n        fill_color='blue',\n        fill_opacity=0.6\n    ).add_to(MI_venues_map)\n\nMI_venues_map"
        },
        {
            "cell_type": "markdown",
            "metadata": {},
            "source": "# Houston, Texas - Rice University"
        },
        {
            "cell_type": "code",
            "execution_count": 29,
            "metadata": {},
            "outputs": [
                {
                    "name": "stdout",
                    "output_type": "stream",
                    "text": "29.724626524096387 -95.39042063253012\n"
                }
            ],
            "source": "address = '6100 Main Street, Houston, Texas'\n\ngeolocator = Nominatim(user_agent=\"foursquare_agent\")\nlocation = geolocator.geocode(address)\nlatitude = location.latitude\nlongitude = location.longitude\nprint(latitude, longitude)"
        },
        {
            "cell_type": "code",
            "execution_count": 30,
            "metadata": {},
            "outputs": [
                {
                    "name": "stdout",
                    "output_type": "stream",
                    "text": "Italian .... Got it!\n"
                }
            ],
            "source": "search_query = 'Italian'\nradius = 1000\nprint(search_query + ' .... Got it!')"
        },
        {
            "cell_type": "code",
            "execution_count": 31,
            "metadata": {},
            "outputs": [
                {
                    "data": {
                        "text/plain": "'https://api.foursquare.com/v2/venues/search?client_id=BVHVVQMLE03WWNN1YMOZZ5BBT4SGCVWQA3Y2DGVA44ZBXLUJ&client_secret=GL12QT0SOAFRYPELNEH0RUTO3J0DGXKYSPYSLVAEE5Y4ZQ3I&ll=29.724626524096387,-95.39042063253012&oauth_token=BNNWRWLRJIQ31AVOXGYDOCCERWVBLU5CPOF2CTS0JFKTV3WV&v=20180604&query=Italian&radius=1000&limit=30'"
                    },
                    "execution_count": 31,
                    "metadata": {},
                    "output_type": "execute_result"
                }
            ],
            "source": "url = 'https://api.foursquare.com/v2/venues/search?client_id=BVHVVQMLE03WWNN1YMOZZ5BBT4SGCVWQA3Y2DGVA44ZBXLUJ&client_secret=GL12QT0SOAFRYPELNEH0RUTO3J0DGXKYSPYSLVAEE5Y4ZQ3I&ll=29.724626524096387,-95.39042063253012&oauth_token=BNNWRWLRJIQ31AVOXGYDOCCERWVBLU5CPOF2CTS0JFKTV3WV&v=20180604&query=Italian&radius=1000&limit=30'.format(CLIENT_ID, CLIENT_SECRET, latitude, longitude,ACCESS_TOKEN, VERSION, search_query, radius, LIMIT)\nurl"
        },
        {
            "cell_type": "code",
            "execution_count": 32,
            "metadata": {},
            "outputs": [
                {
                    "name": "stderr",
                    "output_type": "stream",
                    "text": "/opt/conda/envs/Python-3.7-main/lib/python3.7/site-packages/ipykernel/__main__.py:6: FutureWarning: pandas.io.json.json_normalize is deprecated, use pandas.json_normalize instead\n"
                },
                {
                    "data": {
                        "text/html": "<div>\n<style scoped>\n    .dataframe tbody tr th:only-of-type {\n        vertical-align: middle;\n    }\n\n    .dataframe tbody tr th {\n        vertical-align: top;\n    }\n\n    .dataframe thead th {\n        text-align: right;\n    }\n</style>\n<table border=\"1\" class=\"dataframe\">\n  <thead>\n    <tr style=\"text-align: right;\">\n      <th></th>\n      <th>id</th>\n      <th>name</th>\n      <th>categories</th>\n      <th>referralId</th>\n      <th>hasPerk</th>\n      <th>location.address</th>\n      <th>location.crossStreet</th>\n      <th>location.lat</th>\n      <th>location.lng</th>\n      <th>location.labeledLatLngs</th>\n      <th>location.distance</th>\n      <th>location.postalCode</th>\n      <th>location.cc</th>\n      <th>location.city</th>\n      <th>location.state</th>\n      <th>location.country</th>\n      <th>location.formattedAddress</th>\n    </tr>\n  </thead>\n  <tbody>\n    <tr>\n      <th>0</th>\n      <td>4abb7d4ff964a520d78320e3</td>\n      <td>Italian Cultural &amp; Community Center</td>\n      <td>[{'id': '52e81612bcbc57f1066b7a32', 'name': 'Cultural Center', 'pluralName': 'Cultural Centers', 'shortName': 'Cultural Center', 'icon': {'prefix': 'https://ss3.4sqi.net/img/categories_v2/building/default_', 'suffix': '.png'}, 'primary': True}]</td>\n      <td>v-1610326314</td>\n      <td>False</td>\n      <td>1101 Milford St</td>\n      <td>Bayard Lane</td>\n      <td>29.729022</td>\n      <td>-95.392195</td>\n      <td>[{'label': 'display', 'lat': 29.729021999999997, 'lng': -95.392195}, {'label': 'entrance', 'lat': 29.729173, 'lng': -95.392182}]</td>\n      <td>518</td>\n      <td>77006</td>\n      <td>US</td>\n      <td>Houston</td>\n      <td>TX</td>\n      <td>United States</td>\n      <td>[1101 Milford St (Bayard Lane), Houston, TX 77006]</td>\n    </tr>\n    <tr>\n      <th>1</th>\n      <td>4f32962b19836c91c7e649f1</td>\n      <td>Trattoria Pasquale Italian Bar and Grill</td>\n      <td>[{'id': '4d4b7105d754a06374d81259', 'name': 'Food', 'pluralName': 'Food', 'shortName': 'Food', 'icon': {'prefix': 'https://ss3.4sqi.net/img/categories_v2/food/default_', 'suffix': '.png'}, 'primary': True}]</td>\n      <td>v-1610326314</td>\n      <td>False</td>\n      <td>4412 Montrose Blvd</td>\n      <td>NaN</td>\n      <td>29.733276</td>\n      <td>-95.391487</td>\n      <td>[{'label': 'entrance', 'lat': 29.733314, 'lng': -95.391383}, {'label': 'display', 'lat': 29.7332763671875, 'lng': -95.39148712158203}]</td>\n      <td>968</td>\n      <td>77006</td>\n      <td>US</td>\n      <td>Houston</td>\n      <td>TX</td>\n      <td>United States</td>\n      <td>[4412 Montrose Blvd, Houston, TX 77006]</td>\n    </tr>\n  </tbody>\n</table>\n</div>",
                        "text/plain": "                         id                                      name  \\\n0  4abb7d4ff964a520d78320e3  Italian Cultural & Community Center        \n1  4f32962b19836c91c7e649f1  Trattoria Pasquale Italian Bar and Grill   \n\n                                                                                                                                                                                                                                             categories  \\\n0  [{'id': '52e81612bcbc57f1066b7a32', 'name': 'Cultural Center', 'pluralName': 'Cultural Centers', 'shortName': 'Cultural Center', 'icon': {'prefix': 'https://ss3.4sqi.net/img/categories_v2/building/default_', 'suffix': '.png'}, 'primary': True}]   \n1  [{'id': '4d4b7105d754a06374d81259', 'name': 'Food', 'pluralName': 'Food', 'shortName': 'Food', 'icon': {'prefix': 'https://ss3.4sqi.net/img/categories_v2/food/default_', 'suffix': '.png'}, 'primary': True}]                                         \n\n     referralId  hasPerk    location.address location.crossStreet  \\\n0  v-1610326314  False    1101 Milford St     Bayard Lane           \n1  v-1610326314  False    4412 Montrose Blvd  NaN                   \n\n   location.lat  location.lng  \\\n0  29.729022    -95.392195      \n1  29.733276    -95.391487      \n\n                                                                                                                  location.labeledLatLngs  \\\n0  [{'label': 'display', 'lat': 29.729021999999997, 'lng': -95.392195}, {'label': 'entrance', 'lat': 29.729173, 'lng': -95.392182}]         \n1  [{'label': 'entrance', 'lat': 29.733314, 'lng': -95.391383}, {'label': 'display', 'lat': 29.7332763671875, 'lng': -95.39148712158203}]   \n\n   location.distance location.postalCode location.cc location.city  \\\n0  518                77006               US          Houston        \n1  968                77006               US          Houston        \n\n  location.state location.country  \\\n0  TX             United States     \n1  TX             United States     \n\n                            location.formattedAddress  \n0  [1101 Milford St (Bayard Lane), Houston, TX 77006]  \n1  [4412 Montrose Blvd, Houston, TX 77006]             "
                    },
                    "execution_count": 32,
                    "metadata": {},
                    "output_type": "execute_result"
                }
            ],
            "source": "results = requests.get(url).json()\nresults\n\nvenues = results['response']['venues']\n\ndataframe = json_normalize(venues)\ndataframe.head()"
        },
        {
            "cell_type": "code",
            "execution_count": 33,
            "metadata": {},
            "outputs": [
                {
                    "data": {
                        "text/html": "<div>\n<style scoped>\n    .dataframe tbody tr th:only-of-type {\n        vertical-align: middle;\n    }\n\n    .dataframe tbody tr th {\n        vertical-align: top;\n    }\n\n    .dataframe thead th {\n        text-align: right;\n    }\n</style>\n<table border=\"1\" class=\"dataframe\">\n  <thead>\n    <tr style=\"text-align: right;\">\n      <th></th>\n      <th>name</th>\n      <th>categories</th>\n      <th>address</th>\n      <th>crossStreet</th>\n      <th>lat</th>\n      <th>lng</th>\n      <th>labeledLatLngs</th>\n      <th>distance</th>\n      <th>postalCode</th>\n      <th>cc</th>\n      <th>city</th>\n      <th>state</th>\n      <th>country</th>\n      <th>formattedAddress</th>\n      <th>id</th>\n    </tr>\n  </thead>\n  <tbody>\n    <tr>\n      <th>0</th>\n      <td>Italian Cultural &amp; Community Center</td>\n      <td>Cultural Center</td>\n      <td>1101 Milford St</td>\n      <td>Bayard Lane</td>\n      <td>29.729022</td>\n      <td>-95.392195</td>\n      <td>[{'label': 'display', 'lat': 29.729021999999997, 'lng': -95.392195}, {'label': 'entrance', 'lat': 29.729173, 'lng': -95.392182}]</td>\n      <td>518</td>\n      <td>77006</td>\n      <td>US</td>\n      <td>Houston</td>\n      <td>TX</td>\n      <td>United States</td>\n      <td>[1101 Milford St (Bayard Lane), Houston, TX 77006]</td>\n      <td>4abb7d4ff964a520d78320e3</td>\n    </tr>\n    <tr>\n      <th>1</th>\n      <td>Trattoria Pasquale Italian Bar and Grill</td>\n      <td>Food</td>\n      <td>4412 Montrose Blvd</td>\n      <td>NaN</td>\n      <td>29.733276</td>\n      <td>-95.391487</td>\n      <td>[{'label': 'entrance', 'lat': 29.733314, 'lng': -95.391383}, {'label': 'display', 'lat': 29.7332763671875, 'lng': -95.39148712158203}]</td>\n      <td>968</td>\n      <td>77006</td>\n      <td>US</td>\n      <td>Houston</td>\n      <td>TX</td>\n      <td>United States</td>\n      <td>[4412 Montrose Blvd, Houston, TX 77006]</td>\n      <td>4f32962b19836c91c7e649f1</td>\n    </tr>\n  </tbody>\n</table>\n</div>",
                        "text/plain": "                                       name       categories  \\\n0  Italian Cultural & Community Center       Cultural Center   \n1  Trattoria Pasquale Italian Bar and Grill  Food              \n\n              address  crossStreet        lat        lng  \\\n0  1101 Milford St     Bayard Lane  29.729022 -95.392195   \n1  4412 Montrose Blvd  NaN          29.733276 -95.391487   \n\n                                                                                                                           labeledLatLngs  \\\n0  [{'label': 'display', 'lat': 29.729021999999997, 'lng': -95.392195}, {'label': 'entrance', 'lat': 29.729173, 'lng': -95.392182}]         \n1  [{'label': 'entrance', 'lat': 29.733314, 'lng': -95.391383}, {'label': 'display', 'lat': 29.7332763671875, 'lng': -95.39148712158203}]   \n\n   distance postalCode  cc     city state        country  \\\n0  518       77006      US  Houston  TX    United States   \n1  968       77006      US  Houston  TX    United States   \n\n                                     formattedAddress  \\\n0  [1101 Milford St (Bayard Lane), Houston, TX 77006]   \n1  [4412 Montrose Blvd, Houston, TX 77006]              \n\n                         id  \n0  4abb7d4ff964a520d78320e3  \n1  4f32962b19836c91c7e649f1  "
                    },
                    "execution_count": 33,
                    "metadata": {},
                    "output_type": "execute_result"
                }
            ],
            "source": "filtered_columns = ['name', 'categories'] + [col for col in dataframe.columns if col.startswith('location.')] + ['id']\nTX_dataframe_filtered = dataframe.loc[:, filtered_columns]\n\ndef get_category_type(row):\n    try:\n        categories_list = row['categories']\n    except:\n        categories_list = row['venue.categories']\n        \n    if len(categories_list) == 0:\n        return None\n    else:\n        return categories_list[0]['name']\n\n\nTX_dataframe_filtered['categories'] = TX_dataframe_filtered.apply(get_category_type, axis=1)\n\nTX_dataframe_filtered.columns = [column.split('.')[-1] for column in TX_dataframe_filtered.columns]\n\nTX_dataframe_filtered"
        },
        {
            "cell_type": "code",
            "execution_count": 34,
            "metadata": {},
            "outputs": [
                {
                    "data": {
                        "text/html": "<div style=\"width:100%;\"><div style=\"position:relative;width:100%;height:0;padding-bottom:60%;\"><span style=\"color:#565656\">Make this Notebook Trusted to load map: File -> Trust Notebook</span><iframe src=\"about:blank\" style=\"position:absolute;width:100%;height:100%;left:0;top:0;border:none !important;\" data-html=%3C%21DOCTYPE%20html%3E%0A%3Chead%3E%20%20%20%20%0A%20%20%20%20%3Cmeta%20http-equiv%3D%22content-type%22%20content%3D%22text/html%3B%20charset%3DUTF-8%22%20/%3E%0A%20%20%20%20%0A%20%20%20%20%20%20%20%20%3Cscript%3E%0A%20%20%20%20%20%20%20%20%20%20%20%20L_NO_TOUCH%20%3D%20false%3B%0A%20%20%20%20%20%20%20%20%20%20%20%20L_DISABLE_3D%20%3D%20false%3B%0A%20%20%20%20%20%20%20%20%3C/script%3E%0A%20%20%20%20%0A%20%20%20%20%3Cstyle%3Ehtml%2C%20body%20%7Bwidth%3A%20100%25%3Bheight%3A%20100%25%3Bmargin%3A%200%3Bpadding%3A%200%3B%7D%3C/style%3E%0A%20%20%20%20%3Cstyle%3E%23map%20%7Bposition%3Aabsolute%3Btop%3A0%3Bbottom%3A0%3Bright%3A0%3Bleft%3A0%3B%7D%3C/style%3E%0A%20%20%20%20%3Cscript%20src%3D%22https%3A//cdn.jsdelivr.net/npm/leaflet%401.6.0/dist/leaflet.js%22%3E%3C/script%3E%0A%20%20%20%20%3Cscript%20src%3D%22https%3A//code.jquery.com/jquery-1.12.4.min.js%22%3E%3C/script%3E%0A%20%20%20%20%3Cscript%20src%3D%22https%3A//maxcdn.bootstrapcdn.com/bootstrap/3.2.0/js/bootstrap.min.js%22%3E%3C/script%3E%0A%20%20%20%20%3Cscript%20src%3D%22https%3A//cdnjs.cloudflare.com/ajax/libs/Leaflet.awesome-markers/2.0.2/leaflet.awesome-markers.js%22%3E%3C/script%3E%0A%20%20%20%20%3Clink%20rel%3D%22stylesheet%22%20href%3D%22https%3A//cdn.jsdelivr.net/npm/leaflet%401.6.0/dist/leaflet.css%22/%3E%0A%20%20%20%20%3Clink%20rel%3D%22stylesheet%22%20href%3D%22https%3A//maxcdn.bootstrapcdn.com/bootstrap/3.2.0/css/bootstrap.min.css%22/%3E%0A%20%20%20%20%3Clink%20rel%3D%22stylesheet%22%20href%3D%22https%3A//maxcdn.bootstrapcdn.com/bootstrap/3.2.0/css/bootstrap-theme.min.css%22/%3E%0A%20%20%20%20%3Clink%20rel%3D%22stylesheet%22%20href%3D%22https%3A//maxcdn.bootstrapcdn.com/font-awesome/4.6.3/css/font-awesome.min.css%22/%3E%0A%20%20%20%20%3Clink%20rel%3D%22stylesheet%22%20href%3D%22https%3A//cdnjs.cloudflare.com/ajax/libs/Leaflet.awesome-markers/2.0.2/leaflet.awesome-markers.css%22/%3E%0A%20%20%20%20%3Clink%20rel%3D%22stylesheet%22%20href%3D%22https%3A//cdn.jsdelivr.net/gh/python-visualization/folium/folium/templates/leaflet.awesome.rotate.min.css%22/%3E%0A%20%20%20%20%0A%20%20%20%20%20%20%20%20%20%20%20%20%3Cmeta%20name%3D%22viewport%22%20content%3D%22width%3Ddevice-width%2C%0A%20%20%20%20%20%20%20%20%20%20%20%20%20%20%20%20initial-scale%3D1.0%2C%20maximum-scale%3D1.0%2C%20user-scalable%3Dno%22%20/%3E%0A%20%20%20%20%20%20%20%20%20%20%20%20%3Cstyle%3E%0A%20%20%20%20%20%20%20%20%20%20%20%20%20%20%20%20%23map_79b9cb9127a2458bad766fda5f311846%20%7B%0A%20%20%20%20%20%20%20%20%20%20%20%20%20%20%20%20%20%20%20%20position%3A%20relative%3B%0A%20%20%20%20%20%20%20%20%20%20%20%20%20%20%20%20%20%20%20%20width%3A%20100.0%25%3B%0A%20%20%20%20%20%20%20%20%20%20%20%20%20%20%20%20%20%20%20%20height%3A%20100.0%25%3B%0A%20%20%20%20%20%20%20%20%20%20%20%20%20%20%20%20%20%20%20%20left%3A%200.0%25%3B%0A%20%20%20%20%20%20%20%20%20%20%20%20%20%20%20%20%20%20%20%20top%3A%200.0%25%3B%0A%20%20%20%20%20%20%20%20%20%20%20%20%20%20%20%20%7D%0A%20%20%20%20%20%20%20%20%20%20%20%20%3C/style%3E%0A%20%20%20%20%20%20%20%20%0A%3C/head%3E%0A%3Cbody%3E%20%20%20%20%0A%20%20%20%20%0A%20%20%20%20%20%20%20%20%20%20%20%20%3Cdiv%20class%3D%22folium-map%22%20id%3D%22map_79b9cb9127a2458bad766fda5f311846%22%20%3E%3C/div%3E%0A%20%20%20%20%20%20%20%20%0A%3C/body%3E%0A%3Cscript%3E%20%20%20%20%0A%20%20%20%20%0A%20%20%20%20%20%20%20%20%20%20%20%20var%20map_79b9cb9127a2458bad766fda5f311846%20%3D%20L.map%28%0A%20%20%20%20%20%20%20%20%20%20%20%20%20%20%20%20%22map_79b9cb9127a2458bad766fda5f311846%22%2C%0A%20%20%20%20%20%20%20%20%20%20%20%20%20%20%20%20%7B%0A%20%20%20%20%20%20%20%20%20%20%20%20%20%20%20%20%20%20%20%20center%3A%20%5B29.724626524096387%2C%20-95.39042063253012%5D%2C%0A%20%20%20%20%20%20%20%20%20%20%20%20%20%20%20%20%20%20%20%20crs%3A%20L.CRS.EPSG3857%2C%0A%20%20%20%20%20%20%20%20%20%20%20%20%20%20%20%20%20%20%20%20zoom%3A%2013%2C%0A%20%20%20%20%20%20%20%20%20%20%20%20%20%20%20%20%20%20%20%20zoomControl%3A%20true%2C%0A%20%20%20%20%20%20%20%20%20%20%20%20%20%20%20%20%20%20%20%20preferCanvas%3A%20false%2C%0A%20%20%20%20%20%20%20%20%20%20%20%20%20%20%20%20%7D%0A%20%20%20%20%20%20%20%20%20%20%20%20%29%3B%0A%0A%20%20%20%20%20%20%20%20%20%20%20%20%0A%0A%20%20%20%20%20%20%20%20%0A%20%20%20%20%0A%20%20%20%20%20%20%20%20%20%20%20%20var%20tile_layer_93f13597fddb4e159eda90456f4ecdb3%20%3D%20L.tileLayer%28%0A%20%20%20%20%20%20%20%20%20%20%20%20%20%20%20%20%22https%3A//%7Bs%7D.tile.openstreetmap.org/%7Bz%7D/%7Bx%7D/%7By%7D.png%22%2C%0A%20%20%20%20%20%20%20%20%20%20%20%20%20%20%20%20%7B%22attribution%22%3A%20%22Data%20by%20%5Cu0026copy%3B%20%5Cu003ca%20href%3D%5C%22http%3A//openstreetmap.org%5C%22%5Cu003eOpenStreetMap%5Cu003c/a%5Cu003e%2C%20under%20%5Cu003ca%20href%3D%5C%22http%3A//www.openstreetmap.org/copyright%5C%22%5Cu003eODbL%5Cu003c/a%5Cu003e.%22%2C%20%22detectRetina%22%3A%20false%2C%20%22maxNativeZoom%22%3A%2018%2C%20%22maxZoom%22%3A%2018%2C%20%22minZoom%22%3A%200%2C%20%22noWrap%22%3A%20false%2C%20%22opacity%22%3A%201%2C%20%22subdomains%22%3A%20%22abc%22%2C%20%22tms%22%3A%20false%7D%0A%20%20%20%20%20%20%20%20%20%20%20%20%29.addTo%28map_79b9cb9127a2458bad766fda5f311846%29%3B%0A%20%20%20%20%20%20%20%20%0A%20%20%20%20%0A%20%20%20%20%20%20%20%20%20%20%20%20var%20circle_marker_dad1cb718d044fd0a92175a47e82ca73%20%3D%20L.circleMarker%28%0A%20%20%20%20%20%20%20%20%20%20%20%20%20%20%20%20%5B29.724626524096387%2C%20-95.39042063253012%5D%2C%0A%20%20%20%20%20%20%20%20%20%20%20%20%20%20%20%20%7B%22bubblingMouseEvents%22%3A%20true%2C%20%22color%22%3A%20%22red%22%2C%20%22dashArray%22%3A%20null%2C%20%22dashOffset%22%3A%20null%2C%20%22fill%22%3A%20true%2C%20%22fillColor%22%3A%20%22red%22%2C%20%22fillOpacity%22%3A%200.6%2C%20%22fillRule%22%3A%20%22evenodd%22%2C%20%22lineCap%22%3A%20%22round%22%2C%20%22lineJoin%22%3A%20%22round%22%2C%20%22opacity%22%3A%201.0%2C%20%22radius%22%3A%2010%2C%20%22stroke%22%3A%20true%2C%20%22weight%22%3A%203%7D%0A%20%20%20%20%20%20%20%20%20%20%20%20%29.addTo%28map_79b9cb9127a2458bad766fda5f311846%29%3B%0A%20%20%20%20%20%20%20%20%0A%20%20%20%20%0A%20%20%20%20%20%20%20%20var%20popup_8a7780f3c1d14762ad6e8239aa9ad7f0%20%3D%20L.popup%28%7B%22maxWidth%22%3A%20%22100%25%22%7D%29%3B%0A%0A%20%20%20%20%20%20%20%20%0A%20%20%20%20%20%20%20%20%20%20%20%20var%20html_f89919ef98ca439f84ee89512c9a2593%20%3D%20%24%28%60%3Cdiv%20id%3D%22html_f89919ef98ca439f84ee89512c9a2593%22%20style%3D%22width%3A%20100.0%25%3B%20height%3A%20100.0%25%3B%22%3ERice%20University%3C/div%3E%60%29%5B0%5D%3B%0A%20%20%20%20%20%20%20%20%20%20%20%20popup_8a7780f3c1d14762ad6e8239aa9ad7f0.setContent%28html_f89919ef98ca439f84ee89512c9a2593%29%3B%0A%20%20%20%20%20%20%20%20%0A%0A%20%20%20%20%20%20%20%20circle_marker_dad1cb718d044fd0a92175a47e82ca73.bindPopup%28popup_8a7780f3c1d14762ad6e8239aa9ad7f0%29%0A%20%20%20%20%20%20%20%20%3B%0A%0A%20%20%20%20%20%20%20%20%0A%20%20%20%20%0A%20%20%20%20%0A%20%20%20%20%20%20%20%20%20%20%20%20var%20circle_marker_607bd4dbe275493bb66ee16fa9905a4c%20%3D%20L.circleMarker%28%0A%20%20%20%20%20%20%20%20%20%20%20%20%20%20%20%20%5B29.729021999999997%2C%20-95.392195%5D%2C%0A%20%20%20%20%20%20%20%20%20%20%20%20%20%20%20%20%7B%22bubblingMouseEvents%22%3A%20true%2C%20%22color%22%3A%20%22blue%22%2C%20%22dashArray%22%3A%20null%2C%20%22dashOffset%22%3A%20null%2C%20%22fill%22%3A%20true%2C%20%22fillColor%22%3A%20%22blue%22%2C%20%22fillOpacity%22%3A%200.6%2C%20%22fillRule%22%3A%20%22evenodd%22%2C%20%22lineCap%22%3A%20%22round%22%2C%20%22lineJoin%22%3A%20%22round%22%2C%20%22opacity%22%3A%201.0%2C%20%22radius%22%3A%205%2C%20%22stroke%22%3A%20true%2C%20%22weight%22%3A%203%7D%0A%20%20%20%20%20%20%20%20%20%20%20%20%29.addTo%28map_79b9cb9127a2458bad766fda5f311846%29%3B%0A%20%20%20%20%20%20%20%20%0A%20%20%20%20%0A%20%20%20%20%20%20%20%20var%20popup_5a19dbc627db4c81a8091b67b8679a06%20%3D%20L.popup%28%7B%22maxWidth%22%3A%20%22100%25%22%7D%29%3B%0A%0A%20%20%20%20%20%20%20%20%0A%20%20%20%20%20%20%20%20%20%20%20%20var%20html_d33941fb0a514155ba0ae48bf44e02d5%20%3D%20%24%28%60%3Cdiv%20id%3D%22html_d33941fb0a514155ba0ae48bf44e02d5%22%20style%3D%22width%3A%20100.0%25%3B%20height%3A%20100.0%25%3B%22%3ECultural%20Center%3C/div%3E%60%29%5B0%5D%3B%0A%20%20%20%20%20%20%20%20%20%20%20%20popup_5a19dbc627db4c81a8091b67b8679a06.setContent%28html_d33941fb0a514155ba0ae48bf44e02d5%29%3B%0A%20%20%20%20%20%20%20%20%0A%0A%20%20%20%20%20%20%20%20circle_marker_607bd4dbe275493bb66ee16fa9905a4c.bindPopup%28popup_5a19dbc627db4c81a8091b67b8679a06%29%0A%20%20%20%20%20%20%20%20%3B%0A%0A%20%20%20%20%20%20%20%20%0A%20%20%20%20%0A%20%20%20%20%0A%20%20%20%20%20%20%20%20%20%20%20%20var%20circle_marker_62f95c04538e4ea3b4fd600942a97032%20%3D%20L.circleMarker%28%0A%20%20%20%20%20%20%20%20%20%20%20%20%20%20%20%20%5B29.7332763671875%2C%20-95.39148712158203%5D%2C%0A%20%20%20%20%20%20%20%20%20%20%20%20%20%20%20%20%7B%22bubblingMouseEvents%22%3A%20true%2C%20%22color%22%3A%20%22blue%22%2C%20%22dashArray%22%3A%20null%2C%20%22dashOffset%22%3A%20null%2C%20%22fill%22%3A%20true%2C%20%22fillColor%22%3A%20%22blue%22%2C%20%22fillOpacity%22%3A%200.6%2C%20%22fillRule%22%3A%20%22evenodd%22%2C%20%22lineCap%22%3A%20%22round%22%2C%20%22lineJoin%22%3A%20%22round%22%2C%20%22opacity%22%3A%201.0%2C%20%22radius%22%3A%205%2C%20%22stroke%22%3A%20true%2C%20%22weight%22%3A%203%7D%0A%20%20%20%20%20%20%20%20%20%20%20%20%29.addTo%28map_79b9cb9127a2458bad766fda5f311846%29%3B%0A%20%20%20%20%20%20%20%20%0A%20%20%20%20%0A%20%20%20%20%20%20%20%20var%20popup_cd1220f97e624a638491ef5601e9fea4%20%3D%20L.popup%28%7B%22maxWidth%22%3A%20%22100%25%22%7D%29%3B%0A%0A%20%20%20%20%20%20%20%20%0A%20%20%20%20%20%20%20%20%20%20%20%20var%20html_200970b9c75343aa9110c1e6d444279d%20%3D%20%24%28%60%3Cdiv%20id%3D%22html_200970b9c75343aa9110c1e6d444279d%22%20style%3D%22width%3A%20100.0%25%3B%20height%3A%20100.0%25%3B%22%3EFood%3C/div%3E%60%29%5B0%5D%3B%0A%20%20%20%20%20%20%20%20%20%20%20%20popup_cd1220f97e624a638491ef5601e9fea4.setContent%28html_200970b9c75343aa9110c1e6d444279d%29%3B%0A%20%20%20%20%20%20%20%20%0A%0A%20%20%20%20%20%20%20%20circle_marker_62f95c04538e4ea3b4fd600942a97032.bindPopup%28popup_cd1220f97e624a638491ef5601e9fea4%29%0A%20%20%20%20%20%20%20%20%3B%0A%0A%20%20%20%20%20%20%20%20%0A%20%20%20%20%0A%3C/script%3E onload=\"this.contentDocument.open();this.contentDocument.write(    decodeURIComponent(this.getAttribute('data-html')));this.contentDocument.close();\" allowfullscreen webkitallowfullscreen mozallowfullscreen></iframe></div></div>",
                        "text/plain": "<folium.folium.Map at 0x7f574055b6d0>"
                    },
                    "execution_count": 34,
                    "metadata": {},
                    "output_type": "execute_result"
                }
            ],
            "source": "TX_dataframe_filtered.name\n\nTX_venues_map = folium.Map(location=[latitude, longitude], zoom_start=13)\n\nfolium.CircleMarker(\n    [latitude, longitude],\n    radius=10,\n    color='red',\n    popup='Rice University',\n    fill = True,\n    fill_color = 'red',\n    fill_opacity = 0.6\n).add_to(TX_venues_map)\n\n\nfor lat, lng, label in zip(TX_dataframe_filtered.lat, TX_dataframe_filtered.lng, TX_dataframe_filtered.categories):\n    folium.CircleMarker(\n        [lat, lng],\n        radius=5,\n        color='blue',\n        popup=label,\n        fill = True,\n        fill_color='blue',\n        fill_opacity=0.6\n    ).add_to(TX_venues_map)\n\nTX_venues_map"
        },
        {
            "cell_type": "markdown",
            "metadata": {},
            "source": "# Seattle, Washington - Space Needle"
        },
        {
            "cell_type": "code",
            "execution_count": 35,
            "metadata": {},
            "outputs": [
                {
                    "name": "stdout",
                    "output_type": "stream",
                    "text": "47.6205131 -122.34930359883187\n"
                }
            ],
            "source": "address = '400 Broad St., Seattle, Washington'\n\ngeolocator = Nominatim(user_agent=\"foursquare_agent\")\nlocation = geolocator.geocode(address)\nlatitude = location.latitude\nlongitude = location.longitude\nprint(latitude, longitude)"
        },
        {
            "cell_type": "code",
            "execution_count": 36,
            "metadata": {},
            "outputs": [
                {
                    "name": "stdout",
                    "output_type": "stream",
                    "text": "Italian .... Got it!\n"
                }
            ],
            "source": "search_query = 'Italian'\nradius = 1000\nprint(search_query + ' .... Got it!')"
        },
        {
            "cell_type": "code",
            "execution_count": 37,
            "metadata": {},
            "outputs": [
                {
                    "data": {
                        "text/plain": "'https://api.foursquare.com/v2/venues/search?client_id=BVHVVQMLE03WWNN1YMOZZ5BBT4SGCVWQA3Y2DGVA44ZBXLUJ&client_secret=GL12QT0SOAFRYPELNEH0RUTO3J0DGXKYSPYSLVAEE5Y4ZQ3I&ll=47.6205131, -122.34930359883187&oauth_token=BNNWRWLRJIQ31AVOXGYDOCCERWVBLU5CPOF2CTS0JFKTV3WV&v=20180604&query=Italian&radius=1000&limit=30'"
                    },
                    "execution_count": 37,
                    "metadata": {},
                    "output_type": "execute_result"
                }
            ],
            "source": "url = 'https://api.foursquare.com/v2/venues/search?client_id=BVHVVQMLE03WWNN1YMOZZ5BBT4SGCVWQA3Y2DGVA44ZBXLUJ&client_secret=GL12QT0SOAFRYPELNEH0RUTO3J0DGXKYSPYSLVAEE5Y4ZQ3I&ll=47.6205131, -122.34930359883187&oauth_token=BNNWRWLRJIQ31AVOXGYDOCCERWVBLU5CPOF2CTS0JFKTV3WV&v=20180604&query=Italian&radius=1000&limit=30'.format(CLIENT_ID, CLIENT_SECRET, latitude, longitude,ACCESS_TOKEN, VERSION, search_query, radius, LIMIT)\nurl"
        },
        {
            "cell_type": "code",
            "execution_count": 38,
            "metadata": {},
            "outputs": [
                {
                    "name": "stderr",
                    "output_type": "stream",
                    "text": "/opt/conda/envs/Python-3.7-main/lib/python3.7/site-packages/ipykernel/__main__.py:6: FutureWarning: pandas.io.json.json_normalize is deprecated, use pandas.json_normalize instead\n"
                },
                {
                    "data": {
                        "text/html": "<div>\n<style scoped>\n    .dataframe tbody tr th:only-of-type {\n        vertical-align: middle;\n    }\n\n    .dataframe tbody tr th {\n        vertical-align: top;\n    }\n\n    .dataframe thead th {\n        text-align: right;\n    }\n</style>\n<table border=\"1\" class=\"dataframe\">\n  <thead>\n    <tr style=\"text-align: right;\">\n      <th></th>\n      <th>id</th>\n      <th>name</th>\n      <th>categories</th>\n      <th>referralId</th>\n      <th>hasPerk</th>\n      <th>location.address</th>\n      <th>location.lat</th>\n      <th>location.lng</th>\n      <th>location.labeledLatLngs</th>\n      <th>location.distance</th>\n      <th>location.cc</th>\n      <th>location.city</th>\n      <th>location.state</th>\n      <th>location.country</th>\n      <th>location.formattedAddress</th>\n      <th>location.postalCode</th>\n      <th>location.crossStreet</th>\n      <th>delivery.id</th>\n      <th>delivery.url</th>\n      <th>delivery.provider.name</th>\n      <th>delivery.provider.icon.prefix</th>\n      <th>delivery.provider.icon.sizes</th>\n      <th>delivery.provider.icon.name</th>\n    </tr>\n  </thead>\n  <tbody>\n    <tr>\n      <th>0</th>\n      <td>50a2a4b8e4b0d2d4297f779c</td>\n      <td>WiseGuy Italian Street Food</td>\n      <td>[{'id': '4bf58dd8d48988d1cb941735', 'name': 'Food Truck', 'pluralName': 'Food Trucks', 'shortName': 'Food Truck', 'icon': {'prefix': 'https://ss3.4sqi.net/img/categories_v2/food/streetfood_', 'suffix': '.png'}, 'primary': True}]</td>\n      <td>v-1610326325</td>\n      <td>False</td>\n      <td>Mobile</td>\n      <td>47.622078</td>\n      <td>-122.337258</td>\n      <td>[{'label': 'display', 'lat': 47.62207754974829, 'lng': -122.33725787057811}]</td>\n      <td>920</td>\n      <td>US</td>\n      <td>Issaquah</td>\n      <td>WA</td>\n      <td>United States</td>\n      <td>[Mobile, Issaquah, WA]</td>\n      <td>NaN</td>\n      <td>NaN</td>\n      <td>NaN</td>\n      <td>NaN</td>\n      <td>NaN</td>\n      <td>NaN</td>\n      <td>NaN</td>\n      <td>NaN</td>\n    </tr>\n    <tr>\n      <th>1</th>\n      <td>4f3228a119836c91c7bbf2cc</td>\n      <td>Cucina De Ra Italian Restaurant</td>\n      <td>[{'id': '4d4b7105d754a06374d81259', 'name': 'Food', 'pluralName': 'Food', 'shortName': 'Food', 'icon': {'prefix': 'https://ss3.4sqi.net/img/categories_v2/food/default_', 'suffix': '.png'}, 'primary': True}]</td>\n      <td>v-1610326325</td>\n      <td>False</td>\n      <td>2801 Western Ave</td>\n      <td>47.615631</td>\n      <td>-122.353310</td>\n      <td>[{'label': 'display', 'lat': 47.615631103515625, 'lng': -122.35330963134766}]</td>\n      <td>621</td>\n      <td>US</td>\n      <td>Seattle</td>\n      <td>WA</td>\n      <td>United States</td>\n      <td>[2801 Western Ave, Seattle, WA 98121]</td>\n      <td>98121</td>\n      <td>NaN</td>\n      <td>NaN</td>\n      <td>NaN</td>\n      <td>NaN</td>\n      <td>NaN</td>\n      <td>NaN</td>\n      <td>NaN</td>\n    </tr>\n    <tr>\n      <th>2</th>\n      <td>4f3227cd19836c91c7bba092</td>\n      <td>Merlino Italian Baking Company</td>\n      <td>[{'id': '4bf58dd8d48988d16a941735', 'name': 'Bakery', 'pluralName': 'Bakeries', 'shortName': 'Bakery', 'icon': {'prefix': 'https://ss3.4sqi.net/img/categories_v2/food/bakery_', 'suffix': '.png'}, 'primary': True}]</td>\n      <td>v-1610326325</td>\n      <td>False</td>\n      <td>771 Valley St</td>\n      <td>47.626080</td>\n      <td>-122.341881</td>\n      <td>[{'label': 'display', 'lat': 47.62607955932617, 'lng': -122.34188079833984}]</td>\n      <td>833</td>\n      <td>US</td>\n      <td>Seattle</td>\n      <td>WA</td>\n      <td>United States</td>\n      <td>[771 Valley St, Seattle, WA]</td>\n      <td>NaN</td>\n      <td>NaN</td>\n      <td>NaN</td>\n      <td>NaN</td>\n      <td>NaN</td>\n      <td>NaN</td>\n      <td>NaN</td>\n      <td>NaN</td>\n    </tr>\n    <tr>\n      <th>3</th>\n      <td>582fa3ae9b615c49208a81dc</td>\n      <td>Procaccini's Family Italian Sithraunt</td>\n      <td>[{'id': '4bf58dd8d48988d11a941735', 'name': 'Other Nightlife', 'pluralName': 'Other Nightlife', 'shortName': 'Nightlife', 'icon': {'prefix': 'https://ss3.4sqi.net/img/categories_v2/nightlife/default_', 'suffix': '.png'}, 'primary': True}]</td>\n      <td>v-1610326325</td>\n      <td>False</td>\n      <td>NaN</td>\n      <td>47.625269</td>\n      <td>-122.357977</td>\n      <td>[{'label': 'display', 'lat': 47.625269, 'lng': -122.357977}]</td>\n      <td>838</td>\n      <td>US</td>\n      <td>Seattle</td>\n      <td>WA</td>\n      <td>United States</td>\n      <td>[Seattle, WA]</td>\n      <td>NaN</td>\n      <td>NaN</td>\n      <td>NaN</td>\n      <td>NaN</td>\n      <td>NaN</td>\n      <td>NaN</td>\n      <td>NaN</td>\n      <td>NaN</td>\n    </tr>\n    <tr>\n      <th>4</th>\n      <td>4befa9fdea570f47a59e8fd2</td>\n      <td>Calozzi's Italian Kitchen</td>\n      <td>[{'id': '4bf58dd8d48988d14e941735', 'name': 'American Restaurant', 'pluralName': 'American Restaurants', 'shortName': 'American', 'icon': {'prefix': 'https://ss3.4sqi.net/img/categories_v2/food/default_', 'suffix': '.png'}, 'primary': True}]</td>\n      <td>v-1610326325</td>\n      <td>False</td>\n      <td>90 Blanchard St</td>\n      <td>47.612499</td>\n      <td>-122.345642</td>\n      <td>[{'label': 'display', 'lat': 47.61249923706055, 'lng': -122.34564208984375}]</td>\n      <td>933</td>\n      <td>US</td>\n      <td>Seattle</td>\n      <td>WA</td>\n      <td>United States</td>\n      <td>[90 Blanchard St (btw Western and 1st), Seattle, WA 98121]</td>\n      <td>98121</td>\n      <td>btw Western and 1st</td>\n      <td>NaN</td>\n      <td>NaN</td>\n      <td>NaN</td>\n      <td>NaN</td>\n      <td>NaN</td>\n      <td>NaN</td>\n    </tr>\n  </tbody>\n</table>\n</div>",
                        "text/plain": "                         id                                   name  \\\n0  50a2a4b8e4b0d2d4297f779c  WiseGuy Italian Street Food             \n1  4f3228a119836c91c7bbf2cc  Cucina De Ra Italian Restaurant         \n2  4f3227cd19836c91c7bba092  Merlino Italian Baking Company          \n3  582fa3ae9b615c49208a81dc  Procaccini's Family Italian Sithraunt   \n4  4befa9fdea570f47a59e8fd2  Calozzi's Italian Kitchen               \n\n                                                                                                                                                                                                                                          categories  \\\n0  [{'id': '4bf58dd8d48988d1cb941735', 'name': 'Food Truck', 'pluralName': 'Food Trucks', 'shortName': 'Food Truck', 'icon': {'prefix': 'https://ss3.4sqi.net/img/categories_v2/food/streetfood_', 'suffix': '.png'}, 'primary': True}]                \n1  [{'id': '4d4b7105d754a06374d81259', 'name': 'Food', 'pluralName': 'Food', 'shortName': 'Food', 'icon': {'prefix': 'https://ss3.4sqi.net/img/categories_v2/food/default_', 'suffix': '.png'}, 'primary': True}]                                      \n2  [{'id': '4bf58dd8d48988d16a941735', 'name': 'Bakery', 'pluralName': 'Bakeries', 'shortName': 'Bakery', 'icon': {'prefix': 'https://ss3.4sqi.net/img/categories_v2/food/bakery_', 'suffix': '.png'}, 'primary': True}]                               \n3  [{'id': '4bf58dd8d48988d11a941735', 'name': 'Other Nightlife', 'pluralName': 'Other Nightlife', 'shortName': 'Nightlife', 'icon': {'prefix': 'https://ss3.4sqi.net/img/categories_v2/nightlife/default_', 'suffix': '.png'}, 'primary': True}]      \n4  [{'id': '4bf58dd8d48988d14e941735', 'name': 'American Restaurant', 'pluralName': 'American Restaurants', 'shortName': 'American', 'icon': {'prefix': 'https://ss3.4sqi.net/img/categories_v2/food/default_', 'suffix': '.png'}, 'primary': True}]   \n\n     referralId  hasPerk  location.address  location.lat  location.lng  \\\n0  v-1610326325  False    Mobile            47.622078    -122.337258     \n1  v-1610326325  False    2801 Western Ave  47.615631    -122.353310     \n2  v-1610326325  False    771 Valley St     47.626080    -122.341881     \n3  v-1610326325  False    NaN               47.625269    -122.357977     \n4  v-1610326325  False    90 Blanchard St   47.612499    -122.345642     \n\n                                                         location.labeledLatLngs  \\\n0  [{'label': 'display', 'lat': 47.62207754974829, 'lng': -122.33725787057811}]    \n1  [{'label': 'display', 'lat': 47.615631103515625, 'lng': -122.35330963134766}]   \n2  [{'label': 'display', 'lat': 47.62607955932617, 'lng': -122.34188079833984}]    \n3  [{'label': 'display', 'lat': 47.625269, 'lng': -122.357977}]                    \n4  [{'label': 'display', 'lat': 47.61249923706055, 'lng': -122.34564208984375}]    \n\n   location.distance location.cc location.city location.state  \\\n0  920                US          Issaquah      WA              \n1  621                US          Seattle       WA              \n2  833                US          Seattle       WA              \n3  838                US          Seattle       WA              \n4  933                US          Seattle       WA              \n\n  location.country  \\\n0  United States     \n1  United States     \n2  United States     \n3  United States     \n4  United States     \n\n                                    location.formattedAddress  \\\n0  [Mobile, Issaquah, WA]                                       \n1  [2801 Western Ave, Seattle, WA 98121]                        \n2  [771 Valley St, Seattle, WA]                                 \n3  [Seattle, WA]                                                \n4  [90 Blanchard St (btw Western and 1st), Seattle, WA 98121]   \n\n  location.postalCode location.crossStreet delivery.id delivery.url  \\\n0  NaN                 NaN                  NaN         NaN           \n1  98121               NaN                  NaN         NaN           \n2  NaN                 NaN                  NaN         NaN           \n3  NaN                 NaN                  NaN         NaN           \n4  98121               btw Western and 1st  NaN         NaN           \n\n  delivery.provider.name delivery.provider.icon.prefix  \\\n0  NaN                    NaN                            \n1  NaN                    NaN                            \n2  NaN                    NaN                            \n3  NaN                    NaN                            \n4  NaN                    NaN                            \n\n  delivery.provider.icon.sizes delivery.provider.icon.name  \n0  NaN                          NaN                         \n1  NaN                          NaN                         \n2  NaN                          NaN                         \n3  NaN                          NaN                         \n4  NaN                          NaN                         "
                    },
                    "execution_count": 38,
                    "metadata": {},
                    "output_type": "execute_result"
                }
            ],
            "source": "results = requests.get(url).json()\nresults\n\nvenues = results['response']['venues']\n\ndataframe = json_normalize(venues)\ndataframe.head()"
        },
        {
            "cell_type": "code",
            "execution_count": 39,
            "metadata": {},
            "outputs": [
                {
                    "data": {
                        "text/html": "<div>\n<style scoped>\n    .dataframe tbody tr th:only-of-type {\n        vertical-align: middle;\n    }\n\n    .dataframe tbody tr th {\n        vertical-align: top;\n    }\n\n    .dataframe thead th {\n        text-align: right;\n    }\n</style>\n<table border=\"1\" class=\"dataframe\">\n  <thead>\n    <tr style=\"text-align: right;\">\n      <th></th>\n      <th>name</th>\n      <th>categories</th>\n      <th>address</th>\n      <th>lat</th>\n      <th>lng</th>\n      <th>labeledLatLngs</th>\n      <th>distance</th>\n      <th>cc</th>\n      <th>city</th>\n      <th>state</th>\n      <th>country</th>\n      <th>formattedAddress</th>\n      <th>postalCode</th>\n      <th>crossStreet</th>\n      <th>id</th>\n    </tr>\n  </thead>\n  <tbody>\n    <tr>\n      <th>0</th>\n      <td>WiseGuy Italian Street Food</td>\n      <td>Food Truck</td>\n      <td>Mobile</td>\n      <td>47.622078</td>\n      <td>-122.337258</td>\n      <td>[{'label': 'display', 'lat': 47.62207754974829, 'lng': -122.33725787057811}]</td>\n      <td>920</td>\n      <td>US</td>\n      <td>Issaquah</td>\n      <td>WA</td>\n      <td>United States</td>\n      <td>[Mobile, Issaquah, WA]</td>\n      <td>NaN</td>\n      <td>NaN</td>\n      <td>50a2a4b8e4b0d2d4297f779c</td>\n    </tr>\n    <tr>\n      <th>1</th>\n      <td>Cucina De Ra Italian Restaurant</td>\n      <td>Food</td>\n      <td>2801 Western Ave</td>\n      <td>47.615631</td>\n      <td>-122.353310</td>\n      <td>[{'label': 'display', 'lat': 47.615631103515625, 'lng': -122.35330963134766}]</td>\n      <td>621</td>\n      <td>US</td>\n      <td>Seattle</td>\n      <td>WA</td>\n      <td>United States</td>\n      <td>[2801 Western Ave, Seattle, WA 98121]</td>\n      <td>98121</td>\n      <td>NaN</td>\n      <td>4f3228a119836c91c7bbf2cc</td>\n    </tr>\n    <tr>\n      <th>2</th>\n      <td>Merlino Italian Baking Company</td>\n      <td>Bakery</td>\n      <td>771 Valley St</td>\n      <td>47.626080</td>\n      <td>-122.341881</td>\n      <td>[{'label': 'display', 'lat': 47.62607955932617, 'lng': -122.34188079833984}]</td>\n      <td>833</td>\n      <td>US</td>\n      <td>Seattle</td>\n      <td>WA</td>\n      <td>United States</td>\n      <td>[771 Valley St, Seattle, WA]</td>\n      <td>NaN</td>\n      <td>NaN</td>\n      <td>4f3227cd19836c91c7bba092</td>\n    </tr>\n    <tr>\n      <th>3</th>\n      <td>Procaccini's Family Italian Sithraunt</td>\n      <td>Other Nightlife</td>\n      <td>NaN</td>\n      <td>47.625269</td>\n      <td>-122.357977</td>\n      <td>[{'label': 'display', 'lat': 47.625269, 'lng': -122.357977}]</td>\n      <td>838</td>\n      <td>US</td>\n      <td>Seattle</td>\n      <td>WA</td>\n      <td>United States</td>\n      <td>[Seattle, WA]</td>\n      <td>NaN</td>\n      <td>NaN</td>\n      <td>582fa3ae9b615c49208a81dc</td>\n    </tr>\n    <tr>\n      <th>4</th>\n      <td>Calozzi's Italian Kitchen</td>\n      <td>American Restaurant</td>\n      <td>90 Blanchard St</td>\n      <td>47.612499</td>\n      <td>-122.345642</td>\n      <td>[{'label': 'display', 'lat': 47.61249923706055, 'lng': -122.34564208984375}]</td>\n      <td>933</td>\n      <td>US</td>\n      <td>Seattle</td>\n      <td>WA</td>\n      <td>United States</td>\n      <td>[90 Blanchard St (btw Western and 1st), Seattle, WA 98121]</td>\n      <td>98121</td>\n      <td>btw Western and 1st</td>\n      <td>4befa9fdea570f47a59e8fd2</td>\n    </tr>\n    <tr>\n      <th>5</th>\n      <td>Scuola Italiana</td>\n      <td>College Classroom</td>\n      <td>NaN</td>\n      <td>47.616707</td>\n      <td>-122.345197</td>\n      <td>[{'label': 'display', 'lat': 47.61670683908768, 'lng': -122.34519695434977}]</td>\n      <td>523</td>\n      <td>US</td>\n      <td>Seattle</td>\n      <td>WA</td>\n      <td>United States</td>\n      <td>[Seattle, WA 98121]</td>\n      <td>98121</td>\n      <td>NaN</td>\n      <td>4c98099dd799a1cd9643af52</td>\n    </tr>\n    <tr>\n      <th>6</th>\n      <td>Buca di Beppo</td>\n      <td>Italian Restaurant</td>\n      <td>701 Westlake Ave N</td>\n      <td>47.625941</td>\n      <td>-122.339061</td>\n      <td>[{'label': 'display', 'lat': 47.62594146604359, 'lng': -122.33906149864197}]</td>\n      <td>977</td>\n      <td>US</td>\n      <td>Seattle</td>\n      <td>WA</td>\n      <td>United States</td>\n      <td>[701 Westlake Ave N (at Broad St), Seattle, WA 98109]</td>\n      <td>98109</td>\n      <td>at Broad St</td>\n      <td>40b13b00f964a5203ef61ee3</td>\n    </tr>\n  </tbody>\n</table>\n</div>",
                        "text/plain": "                                    name           categories  \\\n0  WiseGuy Italian Street Food            Food Truck            \n1  Cucina De Ra Italian Restaurant        Food                  \n2  Merlino Italian Baking Company         Bakery                \n3  Procaccini's Family Italian Sithraunt  Other Nightlife       \n4  Calozzi's Italian Kitchen              American Restaurant   \n5  Scuola Italiana                        College Classroom     \n6  Buca di Beppo                          Italian Restaurant    \n\n              address        lat         lng  \\\n0  Mobile              47.622078 -122.337258   \n1  2801 Western Ave    47.615631 -122.353310   \n2  771 Valley St       47.626080 -122.341881   \n3  NaN                 47.625269 -122.357977   \n4  90 Blanchard St     47.612499 -122.345642   \n5  NaN                 47.616707 -122.345197   \n6  701 Westlake Ave N  47.625941 -122.339061   \n\n                                                                  labeledLatLngs  \\\n0  [{'label': 'display', 'lat': 47.62207754974829, 'lng': -122.33725787057811}]    \n1  [{'label': 'display', 'lat': 47.615631103515625, 'lng': -122.35330963134766}]   \n2  [{'label': 'display', 'lat': 47.62607955932617, 'lng': -122.34188079833984}]    \n3  [{'label': 'display', 'lat': 47.625269, 'lng': -122.357977}]                    \n4  [{'label': 'display', 'lat': 47.61249923706055, 'lng': -122.34564208984375}]    \n5  [{'label': 'display', 'lat': 47.61670683908768, 'lng': -122.34519695434977}]    \n6  [{'label': 'display', 'lat': 47.62594146604359, 'lng': -122.33906149864197}]    \n\n   distance  cc      city state        country  \\\n0  920       US  Issaquah  WA    United States   \n1  621       US  Seattle   WA    United States   \n2  833       US  Seattle   WA    United States   \n3  838       US  Seattle   WA    United States   \n4  933       US  Seattle   WA    United States   \n5  523       US  Seattle   WA    United States   \n6  977       US  Seattle   WA    United States   \n\n                                             formattedAddress postalCode  \\\n0  [Mobile, Issaquah, WA]                                      NaN         \n1  [2801 Western Ave, Seattle, WA 98121]                       98121       \n2  [771 Valley St, Seattle, WA]                                NaN         \n3  [Seattle, WA]                                               NaN         \n4  [90 Blanchard St (btw Western and 1st), Seattle, WA 98121]  98121       \n5  [Seattle, WA 98121]                                         98121       \n6  [701 Westlake Ave N (at Broad St), Seattle, WA 98109]       98109       \n\n           crossStreet                        id  \n0  NaN                  50a2a4b8e4b0d2d4297f779c  \n1  NaN                  4f3228a119836c91c7bbf2cc  \n2  NaN                  4f3227cd19836c91c7bba092  \n3  NaN                  582fa3ae9b615c49208a81dc  \n4  btw Western and 1st  4befa9fdea570f47a59e8fd2  \n5  NaN                  4c98099dd799a1cd9643af52  \n6  at Broad St          40b13b00f964a5203ef61ee3  "
                    },
                    "execution_count": 39,
                    "metadata": {},
                    "output_type": "execute_result"
                }
            ],
            "source": "filtered_columns = ['name', 'categories'] + [col for col in dataframe.columns if col.startswith('location.')] + ['id']\nWA_dataframe_filtered = dataframe.loc[:, filtered_columns]\n\ndef get_category_type(row):\n    try:\n        categories_list = row['categories']\n    except:\n        categories_list = row['venue.categories']\n        \n    if len(categories_list) == 0:\n        return None\n    else:\n        return categories_list[0]['name']\n\n\nWA_dataframe_filtered['categories'] = WA_dataframe_filtered.apply(get_category_type, axis=1)\n\nWA_dataframe_filtered.columns = [column.split('.')[-1] for column in WA_dataframe_filtered.columns]\n\nWA_dataframe_filtered"
        },
        {
            "cell_type": "code",
            "execution_count": 49,
            "metadata": {
                "scrolled": true
            },
            "outputs": [
                {
                    "data": {
                        "text/html": "<div style=\"width:100%;\"><div style=\"position:relative;width:100%;height:0;padding-bottom:60%;\"><span style=\"color:#565656\">Make this Notebook Trusted to load map: File -> Trust Notebook</span><iframe src=\"about:blank\" style=\"position:absolute;width:100%;height:100%;left:0;top:0;border:none !important;\" data-html=%3C%21DOCTYPE%20html%3E%0A%3Chead%3E%20%20%20%20%0A%20%20%20%20%3Cmeta%20http-equiv%3D%22content-type%22%20content%3D%22text/html%3B%20charset%3DUTF-8%22%20/%3E%0A%20%20%20%20%0A%20%20%20%20%20%20%20%20%3Cscript%3E%0A%20%20%20%20%20%20%20%20%20%20%20%20L_NO_TOUCH%20%3D%20false%3B%0A%20%20%20%20%20%20%20%20%20%20%20%20L_DISABLE_3D%20%3D%20false%3B%0A%20%20%20%20%20%20%20%20%3C/script%3E%0A%20%20%20%20%0A%20%20%20%20%3Cscript%20src%3D%22https%3A//cdn.jsdelivr.net/npm/leaflet%401.6.0/dist/leaflet.js%22%3E%3C/script%3E%0A%20%20%20%20%3Cscript%20src%3D%22https%3A//code.jquery.com/jquery-1.12.4.min.js%22%3E%3C/script%3E%0A%20%20%20%20%3Cscript%20src%3D%22https%3A//maxcdn.bootstrapcdn.com/bootstrap/3.2.0/js/bootstrap.min.js%22%3E%3C/script%3E%0A%20%20%20%20%3Cscript%20src%3D%22https%3A//cdnjs.cloudflare.com/ajax/libs/Leaflet.awesome-markers/2.0.2/leaflet.awesome-markers.js%22%3E%3C/script%3E%0A%20%20%20%20%3Clink%20rel%3D%22stylesheet%22%20href%3D%22https%3A//cdn.jsdelivr.net/npm/leaflet%401.6.0/dist/leaflet.css%22/%3E%0A%20%20%20%20%3Clink%20rel%3D%22stylesheet%22%20href%3D%22https%3A//maxcdn.bootstrapcdn.com/bootstrap/3.2.0/css/bootstrap.min.css%22/%3E%0A%20%20%20%20%3Clink%20rel%3D%22stylesheet%22%20href%3D%22https%3A//maxcdn.bootstrapcdn.com/bootstrap/3.2.0/css/bootstrap-theme.min.css%22/%3E%0A%20%20%20%20%3Clink%20rel%3D%22stylesheet%22%20href%3D%22https%3A//maxcdn.bootstrapcdn.com/font-awesome/4.6.3/css/font-awesome.min.css%22/%3E%0A%20%20%20%20%3Clink%20rel%3D%22stylesheet%22%20href%3D%22https%3A//cdnjs.cloudflare.com/ajax/libs/Leaflet.awesome-markers/2.0.2/leaflet.awesome-markers.css%22/%3E%0A%20%20%20%20%3Clink%20rel%3D%22stylesheet%22%20href%3D%22https%3A//rawcdn.githack.com/python-visualization/folium/master/folium/templates/leaflet.awesome.rotate.css%22/%3E%0A%20%20%20%20%3Cstyle%3Ehtml%2C%20body%20%7Bwidth%3A%20100%25%3Bheight%3A%20100%25%3Bmargin%3A%200%3Bpadding%3A%200%3B%7D%3C/style%3E%0A%20%20%20%20%3Cstyle%3E%23map%20%7Bposition%3Aabsolute%3Btop%3A0%3Bbottom%3A0%3Bright%3A0%3Bleft%3A0%3B%7D%3C/style%3E%0A%20%20%20%20%0A%20%20%20%20%20%20%20%20%20%20%20%20%3Cmeta%20name%3D%22viewport%22%20content%3D%22width%3Ddevice-width%2C%0A%20%20%20%20%20%20%20%20%20%20%20%20%20%20%20%20initial-scale%3D1.0%2C%20maximum-scale%3D1.0%2C%20user-scalable%3Dno%22%20/%3E%0A%20%20%20%20%20%20%20%20%20%20%20%20%3Cstyle%3E%0A%20%20%20%20%20%20%20%20%20%20%20%20%20%20%20%20%23map_a762bfe731894c1a98513e5331dccba7%20%7B%0A%20%20%20%20%20%20%20%20%20%20%20%20%20%20%20%20%20%20%20%20position%3A%20relative%3B%0A%20%20%20%20%20%20%20%20%20%20%20%20%20%20%20%20%20%20%20%20width%3A%20100.0%25%3B%0A%20%20%20%20%20%20%20%20%20%20%20%20%20%20%20%20%20%20%20%20height%3A%20100.0%25%3B%0A%20%20%20%20%20%20%20%20%20%20%20%20%20%20%20%20%20%20%20%20left%3A%200.0%25%3B%0A%20%20%20%20%20%20%20%20%20%20%20%20%20%20%20%20%20%20%20%20top%3A%200.0%25%3B%0A%20%20%20%20%20%20%20%20%20%20%20%20%20%20%20%20%7D%0A%20%20%20%20%20%20%20%20%20%20%20%20%3C/style%3E%0A%20%20%20%20%20%20%20%20%0A%3C/head%3E%0A%3Cbody%3E%20%20%20%20%0A%20%20%20%20%0A%20%20%20%20%20%20%20%20%20%20%20%20%3Cdiv%20class%3D%22folium-map%22%20id%3D%22map_a762bfe731894c1a98513e5331dccba7%22%20%3E%3C/div%3E%0A%20%20%20%20%20%20%20%20%0A%3C/body%3E%0A%3Cscript%3E%20%20%20%20%0A%20%20%20%20%0A%20%20%20%20%20%20%20%20%20%20%20%20var%20map_a762bfe731894c1a98513e5331dccba7%20%3D%20L.map%28%0A%20%20%20%20%20%20%20%20%20%20%20%20%20%20%20%20%22map_a762bfe731894c1a98513e5331dccba7%22%2C%0A%20%20%20%20%20%20%20%20%20%20%20%20%20%20%20%20%7B%0A%20%20%20%20%20%20%20%20%20%20%20%20%20%20%20%20%20%20%20%20center%3A%20%5B47.6205131%2C%20-122.34930359883187%5D%2C%0A%20%20%20%20%20%20%20%20%20%20%20%20%20%20%20%20%20%20%20%20crs%3A%20L.CRS.EPSG3857%2C%0A%20%20%20%20%20%20%20%20%20%20%20%20%20%20%20%20%20%20%20%20zoom%3A%2013%2C%0A%20%20%20%20%20%20%20%20%20%20%20%20%20%20%20%20%20%20%20%20zoomControl%3A%20true%2C%0A%20%20%20%20%20%20%20%20%20%20%20%20%20%20%20%20%20%20%20%20preferCanvas%3A%20false%2C%0A%20%20%20%20%20%20%20%20%20%20%20%20%20%20%20%20%7D%0A%20%20%20%20%20%20%20%20%20%20%20%20%29%3B%0A%0A%20%20%20%20%20%20%20%20%20%20%20%20%0A%0A%20%20%20%20%20%20%20%20%0A%20%20%20%20%0A%20%20%20%20%20%20%20%20%20%20%20%20var%20tile_layer_b20ccc4c741c48e7a140a77e3947574f%20%3D%20L.tileLayer%28%0A%20%20%20%20%20%20%20%20%20%20%20%20%20%20%20%20%22https%3A//%7Bs%7D.tile.openstreetmap.org/%7Bz%7D/%7Bx%7D/%7By%7D.png%22%2C%0A%20%20%20%20%20%20%20%20%20%20%20%20%20%20%20%20%7B%22attribution%22%3A%20%22Data%20by%20%5Cu0026copy%3B%20%5Cu003ca%20href%3D%5C%22http%3A//openstreetmap.org%5C%22%5Cu003eOpenStreetMap%5Cu003c/a%5Cu003e%2C%20under%20%5Cu003ca%20href%3D%5C%22http%3A//www.openstreetmap.org/copyright%5C%22%5Cu003eODbL%5Cu003c/a%5Cu003e.%22%2C%20%22detectRetina%22%3A%20false%2C%20%22maxNativeZoom%22%3A%2018%2C%20%22maxZoom%22%3A%2018%2C%20%22minZoom%22%3A%200%2C%20%22noWrap%22%3A%20false%2C%20%22opacity%22%3A%201%2C%20%22subdomains%22%3A%20%22abc%22%2C%20%22tms%22%3A%20false%7D%0A%20%20%20%20%20%20%20%20%20%20%20%20%29.addTo%28map_a762bfe731894c1a98513e5331dccba7%29%3B%0A%20%20%20%20%20%20%20%20%0A%20%20%20%20%0A%20%20%20%20%20%20%20%20%20%20%20%20var%20circle_marker_6a4be61f427e4c10b231662e738309d4%20%3D%20L.circleMarker%28%0A%20%20%20%20%20%20%20%20%20%20%20%20%20%20%20%20%5B47.6205131%2C%20-122.34930359883187%5D%2C%0A%20%20%20%20%20%20%20%20%20%20%20%20%20%20%20%20%7B%22bubblingMouseEvents%22%3A%20true%2C%20%22color%22%3A%20%22red%22%2C%20%22dashArray%22%3A%20null%2C%20%22dashOffset%22%3A%20null%2C%20%22fill%22%3A%20true%2C%20%22fillColor%22%3A%20%22red%22%2C%20%22fillOpacity%22%3A%200.6%2C%20%22fillRule%22%3A%20%22evenodd%22%2C%20%22lineCap%22%3A%20%22round%22%2C%20%22lineJoin%22%3A%20%22round%22%2C%20%22opacity%22%3A%201.0%2C%20%22radius%22%3A%2010%2C%20%22stroke%22%3A%20true%2C%20%22weight%22%3A%203%7D%0A%20%20%20%20%20%20%20%20%20%20%20%20%29.addTo%28map_a762bfe731894c1a98513e5331dccba7%29%3B%0A%20%20%20%20%20%20%20%20%0A%20%20%20%20%0A%20%20%20%20%20%20%20%20var%20popup_d16d299d7f6a49e9aab82978aac8832b%20%3D%20L.popup%28%7B%22maxWidth%22%3A%20%22100%25%22%7D%29%3B%0A%0A%20%20%20%20%20%20%20%20%0A%20%20%20%20%20%20%20%20%20%20%20%20var%20html_d70da68a45bf40a0bd0ec6aa8688c00d%20%3D%20%24%28%60%3Cdiv%20id%3D%22html_d70da68a45bf40a0bd0ec6aa8688c00d%22%20style%3D%22width%3A%20100.0%25%3B%20height%3A%20100.0%25%3B%22%3ESpace%20Needle%3C/div%3E%60%29%5B0%5D%3B%0A%20%20%20%20%20%20%20%20%20%20%20%20popup_d16d299d7f6a49e9aab82978aac8832b.setContent%28html_d70da68a45bf40a0bd0ec6aa8688c00d%29%3B%0A%20%20%20%20%20%20%20%20%0A%0A%20%20%20%20%20%20%20%20circle_marker_6a4be61f427e4c10b231662e738309d4.bindPopup%28popup_d16d299d7f6a49e9aab82978aac8832b%29%0A%20%20%20%20%20%20%20%20%3B%0A%0A%20%20%20%20%20%20%20%20%0A%20%20%20%20%0A%20%20%20%20%0A%20%20%20%20%20%20%20%20%20%20%20%20var%20circle_marker_989a05da0007471eb95d034ba5c6d2e1%20%3D%20L.circleMarker%28%0A%20%20%20%20%20%20%20%20%20%20%20%20%20%20%20%20%5B47.62207754974829%2C%20-122.33725787057811%5D%2C%0A%20%20%20%20%20%20%20%20%20%20%20%20%20%20%20%20%7B%22bubblingMouseEvents%22%3A%20true%2C%20%22color%22%3A%20%22blue%22%2C%20%22dashArray%22%3A%20null%2C%20%22dashOffset%22%3A%20null%2C%20%22fill%22%3A%20true%2C%20%22fillColor%22%3A%20%22blue%22%2C%20%22fillOpacity%22%3A%200.6%2C%20%22fillRule%22%3A%20%22evenodd%22%2C%20%22lineCap%22%3A%20%22round%22%2C%20%22lineJoin%22%3A%20%22round%22%2C%20%22opacity%22%3A%201.0%2C%20%22radius%22%3A%205%2C%20%22stroke%22%3A%20true%2C%20%22weight%22%3A%203%7D%0A%20%20%20%20%20%20%20%20%20%20%20%20%29.addTo%28map_a762bfe731894c1a98513e5331dccba7%29%3B%0A%20%20%20%20%20%20%20%20%0A%20%20%20%20%0A%20%20%20%20%20%20%20%20var%20popup_1169cfae44b34bcfb8bbec941c79a8ab%20%3D%20L.popup%28%7B%22maxWidth%22%3A%20%22100%25%22%7D%29%3B%0A%0A%20%20%20%20%20%20%20%20%0A%20%20%20%20%20%20%20%20%20%20%20%20var%20html_875958a910ed4b27accd04de14328471%20%3D%20%24%28%60%3Cdiv%20id%3D%22html_875958a910ed4b27accd04de14328471%22%20style%3D%22width%3A%20100.0%25%3B%20height%3A%20100.0%25%3B%22%3EFood%20Truck%3C/div%3E%60%29%5B0%5D%3B%0A%20%20%20%20%20%20%20%20%20%20%20%20popup_1169cfae44b34bcfb8bbec941c79a8ab.setContent%28html_875958a910ed4b27accd04de14328471%29%3B%0A%20%20%20%20%20%20%20%20%0A%0A%20%20%20%20%20%20%20%20circle_marker_989a05da0007471eb95d034ba5c6d2e1.bindPopup%28popup_1169cfae44b34bcfb8bbec941c79a8ab%29%0A%20%20%20%20%20%20%20%20%3B%0A%0A%20%20%20%20%20%20%20%20%0A%20%20%20%20%0A%20%20%20%20%0A%20%20%20%20%20%20%20%20%20%20%20%20var%20circle_marker_b311e6f500c546bea33cbab4908f80df%20%3D%20L.circleMarker%28%0A%20%20%20%20%20%20%20%20%20%20%20%20%20%20%20%20%5B47.615631103515625%2C%20-122.35330963134766%5D%2C%0A%20%20%20%20%20%20%20%20%20%20%20%20%20%20%20%20%7B%22bubblingMouseEvents%22%3A%20true%2C%20%22color%22%3A%20%22blue%22%2C%20%22dashArray%22%3A%20null%2C%20%22dashOffset%22%3A%20null%2C%20%22fill%22%3A%20true%2C%20%22fillColor%22%3A%20%22blue%22%2C%20%22fillOpacity%22%3A%200.6%2C%20%22fillRule%22%3A%20%22evenodd%22%2C%20%22lineCap%22%3A%20%22round%22%2C%20%22lineJoin%22%3A%20%22round%22%2C%20%22opacity%22%3A%201.0%2C%20%22radius%22%3A%205%2C%20%22stroke%22%3A%20true%2C%20%22weight%22%3A%203%7D%0A%20%20%20%20%20%20%20%20%20%20%20%20%29.addTo%28map_a762bfe731894c1a98513e5331dccba7%29%3B%0A%20%20%20%20%20%20%20%20%0A%20%20%20%20%0A%20%20%20%20%20%20%20%20var%20popup_49ae52b72f904d12826e227a5ead104e%20%3D%20L.popup%28%7B%22maxWidth%22%3A%20%22100%25%22%7D%29%3B%0A%0A%20%20%20%20%20%20%20%20%0A%20%20%20%20%20%20%20%20%20%20%20%20var%20html_f6b530588ad343c4809d89e4af7a1179%20%3D%20%24%28%60%3Cdiv%20id%3D%22html_f6b530588ad343c4809d89e4af7a1179%22%20style%3D%22width%3A%20100.0%25%3B%20height%3A%20100.0%25%3B%22%3EFood%3C/div%3E%60%29%5B0%5D%3B%0A%20%20%20%20%20%20%20%20%20%20%20%20popup_49ae52b72f904d12826e227a5ead104e.setContent%28html_f6b530588ad343c4809d89e4af7a1179%29%3B%0A%20%20%20%20%20%20%20%20%0A%0A%20%20%20%20%20%20%20%20circle_marker_b311e6f500c546bea33cbab4908f80df.bindPopup%28popup_49ae52b72f904d12826e227a5ead104e%29%0A%20%20%20%20%20%20%20%20%3B%0A%0A%20%20%20%20%20%20%20%20%0A%20%20%20%20%0A%20%20%20%20%0A%20%20%20%20%20%20%20%20%20%20%20%20var%20circle_marker_6c796e099d8a4ea69192ee636f82c935%20%3D%20L.circleMarker%28%0A%20%20%20%20%20%20%20%20%20%20%20%20%20%20%20%20%5B47.62607955932617%2C%20-122.34188079833984%5D%2C%0A%20%20%20%20%20%20%20%20%20%20%20%20%20%20%20%20%7B%22bubblingMouseEvents%22%3A%20true%2C%20%22color%22%3A%20%22blue%22%2C%20%22dashArray%22%3A%20null%2C%20%22dashOffset%22%3A%20null%2C%20%22fill%22%3A%20true%2C%20%22fillColor%22%3A%20%22blue%22%2C%20%22fillOpacity%22%3A%200.6%2C%20%22fillRule%22%3A%20%22evenodd%22%2C%20%22lineCap%22%3A%20%22round%22%2C%20%22lineJoin%22%3A%20%22round%22%2C%20%22opacity%22%3A%201.0%2C%20%22radius%22%3A%205%2C%20%22stroke%22%3A%20true%2C%20%22weight%22%3A%203%7D%0A%20%20%20%20%20%20%20%20%20%20%20%20%29.addTo%28map_a762bfe731894c1a98513e5331dccba7%29%3B%0A%20%20%20%20%20%20%20%20%0A%20%20%20%20%0A%20%20%20%20%20%20%20%20var%20popup_6308c3fdf80d45a5aedc021a0c42db06%20%3D%20L.popup%28%7B%22maxWidth%22%3A%20%22100%25%22%7D%29%3B%0A%0A%20%20%20%20%20%20%20%20%0A%20%20%20%20%20%20%20%20%20%20%20%20var%20html_c3a7014541254d0b82e0a46d68688341%20%3D%20%24%28%60%3Cdiv%20id%3D%22html_c3a7014541254d0b82e0a46d68688341%22%20style%3D%22width%3A%20100.0%25%3B%20height%3A%20100.0%25%3B%22%3EBakery%3C/div%3E%60%29%5B0%5D%3B%0A%20%20%20%20%20%20%20%20%20%20%20%20popup_6308c3fdf80d45a5aedc021a0c42db06.setContent%28html_c3a7014541254d0b82e0a46d68688341%29%3B%0A%20%20%20%20%20%20%20%20%0A%0A%20%20%20%20%20%20%20%20circle_marker_6c796e099d8a4ea69192ee636f82c935.bindPopup%28popup_6308c3fdf80d45a5aedc021a0c42db06%29%0A%20%20%20%20%20%20%20%20%3B%0A%0A%20%20%20%20%20%20%20%20%0A%20%20%20%20%0A%20%20%20%20%0A%20%20%20%20%20%20%20%20%20%20%20%20var%20circle_marker_ee88bd57178c4b288b4a4580143f4fd8%20%3D%20L.circleMarker%28%0A%20%20%20%20%20%20%20%20%20%20%20%20%20%20%20%20%5B47.625269%2C%20-122.357977%5D%2C%0A%20%20%20%20%20%20%20%20%20%20%20%20%20%20%20%20%7B%22bubblingMouseEvents%22%3A%20true%2C%20%22color%22%3A%20%22blue%22%2C%20%22dashArray%22%3A%20null%2C%20%22dashOffset%22%3A%20null%2C%20%22fill%22%3A%20true%2C%20%22fillColor%22%3A%20%22blue%22%2C%20%22fillOpacity%22%3A%200.6%2C%20%22fillRule%22%3A%20%22evenodd%22%2C%20%22lineCap%22%3A%20%22round%22%2C%20%22lineJoin%22%3A%20%22round%22%2C%20%22opacity%22%3A%201.0%2C%20%22radius%22%3A%205%2C%20%22stroke%22%3A%20true%2C%20%22weight%22%3A%203%7D%0A%20%20%20%20%20%20%20%20%20%20%20%20%29.addTo%28map_a762bfe731894c1a98513e5331dccba7%29%3B%0A%20%20%20%20%20%20%20%20%0A%20%20%20%20%0A%20%20%20%20%20%20%20%20var%20popup_e203ea8e8e2543d1bbbfab7dbcc195b8%20%3D%20L.popup%28%7B%22maxWidth%22%3A%20%22100%25%22%7D%29%3B%0A%0A%20%20%20%20%20%20%20%20%0A%20%20%20%20%20%20%20%20%20%20%20%20var%20html_e1bb5a42821b44b4a81e708643eafe0b%20%3D%20%24%28%60%3Cdiv%20id%3D%22html_e1bb5a42821b44b4a81e708643eafe0b%22%20style%3D%22width%3A%20100.0%25%3B%20height%3A%20100.0%25%3B%22%3EOther%20Nightlife%3C/div%3E%60%29%5B0%5D%3B%0A%20%20%20%20%20%20%20%20%20%20%20%20popup_e203ea8e8e2543d1bbbfab7dbcc195b8.setContent%28html_e1bb5a42821b44b4a81e708643eafe0b%29%3B%0A%20%20%20%20%20%20%20%20%0A%0A%20%20%20%20%20%20%20%20circle_marker_ee88bd57178c4b288b4a4580143f4fd8.bindPopup%28popup_e203ea8e8e2543d1bbbfab7dbcc195b8%29%0A%20%20%20%20%20%20%20%20%3B%0A%0A%20%20%20%20%20%20%20%20%0A%20%20%20%20%0A%20%20%20%20%0A%20%20%20%20%20%20%20%20%20%20%20%20var%20circle_marker_fcb0881b199b4a3e9dc7b56b00bda348%20%3D%20L.circleMarker%28%0A%20%20%20%20%20%20%20%20%20%20%20%20%20%20%20%20%5B47.61249923706055%2C%20-122.34564208984375%5D%2C%0A%20%20%20%20%20%20%20%20%20%20%20%20%20%20%20%20%7B%22bubblingMouseEvents%22%3A%20true%2C%20%22color%22%3A%20%22blue%22%2C%20%22dashArray%22%3A%20null%2C%20%22dashOffset%22%3A%20null%2C%20%22fill%22%3A%20true%2C%20%22fillColor%22%3A%20%22blue%22%2C%20%22fillOpacity%22%3A%200.6%2C%20%22fillRule%22%3A%20%22evenodd%22%2C%20%22lineCap%22%3A%20%22round%22%2C%20%22lineJoin%22%3A%20%22round%22%2C%20%22opacity%22%3A%201.0%2C%20%22radius%22%3A%205%2C%20%22stroke%22%3A%20true%2C%20%22weight%22%3A%203%7D%0A%20%20%20%20%20%20%20%20%20%20%20%20%29.addTo%28map_a762bfe731894c1a98513e5331dccba7%29%3B%0A%20%20%20%20%20%20%20%20%0A%20%20%20%20%0A%20%20%20%20%20%20%20%20var%20popup_7144204d737049338b4a6bf785cbca4b%20%3D%20L.popup%28%7B%22maxWidth%22%3A%20%22100%25%22%7D%29%3B%0A%0A%20%20%20%20%20%20%20%20%0A%20%20%20%20%20%20%20%20%20%20%20%20var%20html_9efc8914022c43b98857e878891007e2%20%3D%20%24%28%60%3Cdiv%20id%3D%22html_9efc8914022c43b98857e878891007e2%22%20style%3D%22width%3A%20100.0%25%3B%20height%3A%20100.0%25%3B%22%3EAmerican%20Restaurant%3C/div%3E%60%29%5B0%5D%3B%0A%20%20%20%20%20%20%20%20%20%20%20%20popup_7144204d737049338b4a6bf785cbca4b.setContent%28html_9efc8914022c43b98857e878891007e2%29%3B%0A%20%20%20%20%20%20%20%20%0A%0A%20%20%20%20%20%20%20%20circle_marker_fcb0881b199b4a3e9dc7b56b00bda348.bindPopup%28popup_7144204d737049338b4a6bf785cbca4b%29%0A%20%20%20%20%20%20%20%20%3B%0A%0A%20%20%20%20%20%20%20%20%0A%20%20%20%20%0A%20%20%20%20%0A%20%20%20%20%20%20%20%20%20%20%20%20var%20circle_marker_4f7e2163d7654867aec132dae9f3f070%20%3D%20L.circleMarker%28%0A%20%20%20%20%20%20%20%20%20%20%20%20%20%20%20%20%5B47.61670683908768%2C%20-122.34519695434977%5D%2C%0A%20%20%20%20%20%20%20%20%20%20%20%20%20%20%20%20%7B%22bubblingMouseEvents%22%3A%20true%2C%20%22color%22%3A%20%22blue%22%2C%20%22dashArray%22%3A%20null%2C%20%22dashOffset%22%3A%20null%2C%20%22fill%22%3A%20true%2C%20%22fillColor%22%3A%20%22blue%22%2C%20%22fillOpacity%22%3A%200.6%2C%20%22fillRule%22%3A%20%22evenodd%22%2C%20%22lineCap%22%3A%20%22round%22%2C%20%22lineJoin%22%3A%20%22round%22%2C%20%22opacity%22%3A%201.0%2C%20%22radius%22%3A%205%2C%20%22stroke%22%3A%20true%2C%20%22weight%22%3A%203%7D%0A%20%20%20%20%20%20%20%20%20%20%20%20%29.addTo%28map_a762bfe731894c1a98513e5331dccba7%29%3B%0A%20%20%20%20%20%20%20%20%0A%20%20%20%20%0A%20%20%20%20%20%20%20%20var%20popup_217c5cbd23ba4d998fa537866794ec5a%20%3D%20L.popup%28%7B%22maxWidth%22%3A%20%22100%25%22%7D%29%3B%0A%0A%20%20%20%20%20%20%20%20%0A%20%20%20%20%20%20%20%20%20%20%20%20var%20html_0afdf96a03814af79c701586e08ecc49%20%3D%20%24%28%60%3Cdiv%20id%3D%22html_0afdf96a03814af79c701586e08ecc49%22%20style%3D%22width%3A%20100.0%25%3B%20height%3A%20100.0%25%3B%22%3ECollege%20Classroom%3C/div%3E%60%29%5B0%5D%3B%0A%20%20%20%20%20%20%20%20%20%20%20%20popup_217c5cbd23ba4d998fa537866794ec5a.setContent%28html_0afdf96a03814af79c701586e08ecc49%29%3B%0A%20%20%20%20%20%20%20%20%0A%0A%20%20%20%20%20%20%20%20circle_marker_4f7e2163d7654867aec132dae9f3f070.bindPopup%28popup_217c5cbd23ba4d998fa537866794ec5a%29%0A%20%20%20%20%20%20%20%20%3B%0A%0A%20%20%20%20%20%20%20%20%0A%20%20%20%20%0A%20%20%20%20%0A%20%20%20%20%20%20%20%20%20%20%20%20var%20circle_marker_8d1bd815e083485db2eaeb2cfbb53d08%20%3D%20L.circleMarker%28%0A%20%20%20%20%20%20%20%20%20%20%20%20%20%20%20%20%5B47.62594146604359%2C%20-122.33906149864197%5D%2C%0A%20%20%20%20%20%20%20%20%20%20%20%20%20%20%20%20%7B%22bubblingMouseEvents%22%3A%20true%2C%20%22color%22%3A%20%22blue%22%2C%20%22dashArray%22%3A%20null%2C%20%22dashOffset%22%3A%20null%2C%20%22fill%22%3A%20true%2C%20%22fillColor%22%3A%20%22blue%22%2C%20%22fillOpacity%22%3A%200.6%2C%20%22fillRule%22%3A%20%22evenodd%22%2C%20%22lineCap%22%3A%20%22round%22%2C%20%22lineJoin%22%3A%20%22round%22%2C%20%22opacity%22%3A%201.0%2C%20%22radius%22%3A%205%2C%20%22stroke%22%3A%20true%2C%20%22weight%22%3A%203%7D%0A%20%20%20%20%20%20%20%20%20%20%20%20%29.addTo%28map_a762bfe731894c1a98513e5331dccba7%29%3B%0A%20%20%20%20%20%20%20%20%0A%20%20%20%20%0A%20%20%20%20%20%20%20%20var%20popup_70522725d4784f45ae81fb4c02146f96%20%3D%20L.popup%28%7B%22maxWidth%22%3A%20%22100%25%22%7D%29%3B%0A%0A%20%20%20%20%20%20%20%20%0A%20%20%20%20%20%20%20%20%20%20%20%20var%20html_92a699f2233a491db9b3faf64639f017%20%3D%20%24%28%60%3Cdiv%20id%3D%22html_92a699f2233a491db9b3faf64639f017%22%20style%3D%22width%3A%20100.0%25%3B%20height%3A%20100.0%25%3B%22%3EItalian%20Restaurant%3C/div%3E%60%29%5B0%5D%3B%0A%20%20%20%20%20%20%20%20%20%20%20%20popup_70522725d4784f45ae81fb4c02146f96.setContent%28html_92a699f2233a491db9b3faf64639f017%29%3B%0A%20%20%20%20%20%20%20%20%0A%0A%20%20%20%20%20%20%20%20circle_marker_8d1bd815e083485db2eaeb2cfbb53d08.bindPopup%28popup_70522725d4784f45ae81fb4c02146f96%29%0A%20%20%20%20%20%20%20%20%3B%0A%0A%20%20%20%20%20%20%20%20%0A%20%20%20%20%0A%3C/script%3E onload=\"this.contentDocument.open();this.contentDocument.write(    decodeURIComponent(this.getAttribute('data-html')));this.contentDocument.close();\" allowfullscreen webkitallowfullscreen mozallowfullscreen></iframe></div></div>",
                        "text/plain": "<folium.folium.Map at 0x7fe6120d2310>"
                    },
                    "execution_count": 49,
                    "metadata": {},
                    "output_type": "execute_result"
                }
            ],
            "source": "WA_dataframe_filtered.name\n\nWA_venues_map = folium.Map(location=[latitude, longitude], zoom_start=13)\n\nfolium.CircleMarker(\n    [latitude, longitude],\n    radius=10,\n    color='red',\n    popup='Space Needle',\n    fill = True,\n    fill_color = 'red',\n    fill_opacity = 0.6\n).add_to(WA_venues_map)\n\n\nfor lat, lng, label in zip(WA_dataframe_filtered.lat, WA_dataframe_filtered.lng, WA_dataframe_filtered.categories):\n    folium.CircleMarker(\n        [lat, lng],\n        radius=5,\n        color='blue',\n        popup=label,\n        fill = True,\n        fill_color='blue',\n        fill_opacity=0.6\n    ).add_to(WA_venues_map)\n\nWA_venues_map"
        },
        {
            "cell_type": "markdown",
            "metadata": {},
            "source": "# Boston Massachusetts - Museam of Fine Arts"
        },
        {
            "cell_type": "code",
            "execution_count": 40,
            "metadata": {},
            "outputs": [
                {
                    "name": "stdout",
                    "output_type": "stream",
                    "text": "42.3394576 -71.09389640108918\n"
                }
            ],
            "source": "address = '465 Huntington Avenue, Boston, Massachusetts'\n\ngeolocator = Nominatim(user_agent=\"foursquare_agent\")\nlocation = geolocator.geocode(address)\nlatitude = location.latitude\nlongitude = location.longitude\nprint(latitude, longitude)"
        },
        {
            "cell_type": "code",
            "execution_count": 41,
            "metadata": {},
            "outputs": [
                {
                    "name": "stdout",
                    "output_type": "stream",
                    "text": "Italian .... Got it!\n"
                }
            ],
            "source": "search_query = 'Italian'\nradius = 1000\nprint(search_query + ' .... Got it!')"
        },
        {
            "cell_type": "code",
            "execution_count": 42,
            "metadata": {},
            "outputs": [
                {
                    "data": {
                        "text/plain": "'https://api.foursquare.com/v2/venues/search?client_id=BVHVVQMLE03WWNN1YMOZZ5BBT4SGCVWQA3Y2DGVA44ZBXLUJ&client_secret=GL12QT0SOAFRYPELNEH0RUTO3J0DGXKYSPYSLVAEE5Y4ZQ3I&ll=42.3394576, -71.09389640108918&oauth_token=BNNWRWLRJIQ31AVOXGYDOCCERWVBLU5CPOF2CTS0JFKTV3WV&v=20180604&query=Italian&radius=1000&limit=30'"
                    },
                    "execution_count": 42,
                    "metadata": {},
                    "output_type": "execute_result"
                }
            ],
            "source": "url = 'https://api.foursquare.com/v2/venues/search?client_id=BVHVVQMLE03WWNN1YMOZZ5BBT4SGCVWQA3Y2DGVA44ZBXLUJ&client_secret=GL12QT0SOAFRYPELNEH0RUTO3J0DGXKYSPYSLVAEE5Y4ZQ3I&ll=42.3394576, -71.09389640108918&oauth_token=BNNWRWLRJIQ31AVOXGYDOCCERWVBLU5CPOF2CTS0JFKTV3WV&v=20180604&query=Italian&radius=1000&limit=30'.format(CLIENT_ID, CLIENT_SECRET, latitude, longitude,ACCESS_TOKEN, VERSION, search_query, radius, LIMIT)\nurl"
        },
        {
            "cell_type": "code",
            "execution_count": 43,
            "metadata": {},
            "outputs": [
                {
                    "name": "stderr",
                    "output_type": "stream",
                    "text": "/opt/conda/envs/Python-3.7-main/lib/python3.7/site-packages/ipykernel/__main__.py:6: FutureWarning: pandas.io.json.json_normalize is deprecated, use pandas.json_normalize instead\n"
                },
                {
                    "data": {
                        "text/html": "<div>\n<style scoped>\n    .dataframe tbody tr th:only-of-type {\n        vertical-align: middle;\n    }\n\n    .dataframe tbody tr th {\n        vertical-align: top;\n    }\n\n    .dataframe thead th {\n        text-align: right;\n    }\n</style>\n<table border=\"1\" class=\"dataframe\">\n  <thead>\n    <tr style=\"text-align: right;\">\n      <th></th>\n      <th>id</th>\n      <th>name</th>\n      <th>categories</th>\n      <th>referralId</th>\n      <th>hasPerk</th>\n      <th>location.lat</th>\n      <th>location.lng</th>\n      <th>location.labeledLatLngs</th>\n      <th>location.distance</th>\n      <th>location.postalCode</th>\n      <th>location.cc</th>\n      <th>location.city</th>\n      <th>location.state</th>\n      <th>location.country</th>\n      <th>location.formattedAddress</th>\n      <th>location.address</th>\n    </tr>\n  </thead>\n  <tbody>\n    <tr>\n      <th>0</th>\n      <td>4ebcaee49adf8b96f8dbaf3a</td>\n      <td>The Italian-American Institute of Architecture of America</td>\n      <td>[]</td>\n      <td>v-1610326341</td>\n      <td>False</td>\n      <td>42.341418</td>\n      <td>-71.079656</td>\n      <td>[{'label': 'display', 'lat': 42.341418, 'lng': -71.079656}]</td>\n      <td>1191</td>\n      <td>02118</td>\n      <td>US</td>\n      <td>Boston</td>\n      <td>MA</td>\n      <td>United States</td>\n      <td>[Boston, MA 02118]</td>\n      <td>NaN</td>\n    </tr>\n    <tr>\n      <th>1</th>\n      <td>5d19462f17d3b90023f58792</td>\n      <td>Michael Schlow\u2019s Italian Kitchen</td>\n      <td>[{'id': '4bf58dd8d48988d110941735', 'name': 'Italian Restaurant', 'pluralName': 'Italian Restaurants', 'shortName': 'Italian', 'icon': {'prefix': 'https://ss3.4sqi.net/img/categories_v2/food/italian_', 'suffix': '.png'}, 'primary': True}]</td>\n      <td>v-1610326341</td>\n      <td>False</td>\n      <td>42.344331</td>\n      <td>-71.102978</td>\n      <td>[{'label': 'display', 'lat': 42.344331, 'lng': -71.102978}]</td>\n      <td>923</td>\n      <td>02215</td>\n      <td>US</td>\n      <td>Boston</td>\n      <td>MA</td>\n      <td>United States</td>\n      <td>[Boston, MA 02215]</td>\n      <td>NaN</td>\n    </tr>\n    <tr>\n      <th>2</th>\n      <td>4f322cba19836c91c7bd83c7</td>\n      <td>Pepperoncini Italian Cafe</td>\n      <td>[{'id': '4d4b7105d754a06374d81259', 'name': 'Food', 'pluralName': 'Food', 'shortName': 'Food', 'icon': {'prefix': 'https://ss3.4sqi.net/img/categories_v2/food/default_', 'suffix': '.png'}, 'primary': True}]</td>\n      <td>v-1610326341</td>\n      <td>False</td>\n      <td>42.343504</td>\n      <td>-71.083455</td>\n      <td>[{'label': 'display', 'lat': 42.343503999999996, 'lng': -71.083455}, {'label': 'entrance', 'lat': 42.343626, 'lng': -71.08351}]</td>\n      <td>970</td>\n      <td>02115</td>\n      <td>US</td>\n      <td>Boston</td>\n      <td>MA</td>\n      <td>United States</td>\n      <td>[220 Huntington Ave, Boston, MA 02115]</td>\n      <td>220 Huntington Ave</td>\n    </tr>\n  </tbody>\n</table>\n</div>",
                        "text/plain": "                         id  \\\n0  4ebcaee49adf8b96f8dbaf3a   \n1  5d19462f17d3b90023f58792   \n2  4f322cba19836c91c7bd83c7   \n\n                                                        name  \\\n0  The Italian-American Institute of Architecture of America   \n1  Michael Schlow\u2019s Italian Kitchen                            \n2  Pepperoncini Italian Cafe                                   \n\n                                                                                                                                                                                                                                       categories  \\\n0  []                                                                                                                                                                                                                                               \n1  [{'id': '4bf58dd8d48988d110941735', 'name': 'Italian Restaurant', 'pluralName': 'Italian Restaurants', 'shortName': 'Italian', 'icon': {'prefix': 'https://ss3.4sqi.net/img/categories_v2/food/italian_', 'suffix': '.png'}, 'primary': True}]   \n2  [{'id': '4d4b7105d754a06374d81259', 'name': 'Food', 'pluralName': 'Food', 'shortName': 'Food', 'icon': {'prefix': 'https://ss3.4sqi.net/img/categories_v2/food/default_', 'suffix': '.png'}, 'primary': True}]                                   \n\n     referralId  hasPerk  location.lat  location.lng  \\\n0  v-1610326341  False    42.341418    -71.079656      \n1  v-1610326341  False    42.344331    -71.102978      \n2  v-1610326341  False    42.343504    -71.083455      \n\n                                                                                                           location.labeledLatLngs  \\\n0  [{'label': 'display', 'lat': 42.341418, 'lng': -71.079656}]                                                                       \n1  [{'label': 'display', 'lat': 42.344331, 'lng': -71.102978}]                                                                       \n2  [{'label': 'display', 'lat': 42.343503999999996, 'lng': -71.083455}, {'label': 'entrance', 'lat': 42.343626, 'lng': -71.08351}]   \n\n   location.distance location.postalCode location.cc location.city  \\\n0  1191               02118               US          Boston         \n1  923                02215               US          Boston         \n2  970                02115               US          Boston         \n\n  location.state location.country               location.formattedAddress  \\\n0  MA             United States    [Boston, MA 02118]                       \n1  MA             United States    [Boston, MA 02215]                       \n2  MA             United States    [220 Huntington Ave, Boston, MA 02115]   \n\n     location.address  \n0  NaN                 \n1  NaN                 \n2  220 Huntington Ave  "
                    },
                    "execution_count": 43,
                    "metadata": {},
                    "output_type": "execute_result"
                }
            ],
            "source": "results = requests.get(url).json()\nresults\n\nvenues = results['response']['venues']\n\ndataframe = json_normalize(venues)\ndataframe.head()"
        },
        {
            "cell_type": "code",
            "execution_count": 44,
            "metadata": {},
            "outputs": [
                {
                    "data": {
                        "text/html": "<div>\n<style scoped>\n    .dataframe tbody tr th:only-of-type {\n        vertical-align: middle;\n    }\n\n    .dataframe tbody tr th {\n        vertical-align: top;\n    }\n\n    .dataframe thead th {\n        text-align: right;\n    }\n</style>\n<table border=\"1\" class=\"dataframe\">\n  <thead>\n    <tr style=\"text-align: right;\">\n      <th></th>\n      <th>name</th>\n      <th>categories</th>\n      <th>lat</th>\n      <th>lng</th>\n      <th>labeledLatLngs</th>\n      <th>distance</th>\n      <th>postalCode</th>\n      <th>cc</th>\n      <th>city</th>\n      <th>state</th>\n      <th>country</th>\n      <th>formattedAddress</th>\n      <th>address</th>\n      <th>id</th>\n    </tr>\n  </thead>\n  <tbody>\n    <tr>\n      <th>0</th>\n      <td>The Italian-American Institute of Architecture of America</td>\n      <td>None</td>\n      <td>42.341418</td>\n      <td>-71.079656</td>\n      <td>[{'label': 'display', 'lat': 42.341418, 'lng': -71.079656}]</td>\n      <td>1191</td>\n      <td>02118</td>\n      <td>US</td>\n      <td>Boston</td>\n      <td>MA</td>\n      <td>United States</td>\n      <td>[Boston, MA 02118]</td>\n      <td>NaN</td>\n      <td>4ebcaee49adf8b96f8dbaf3a</td>\n    </tr>\n    <tr>\n      <th>1</th>\n      <td>Michael Schlow\u2019s Italian Kitchen</td>\n      <td>Italian Restaurant</td>\n      <td>42.344331</td>\n      <td>-71.102978</td>\n      <td>[{'label': 'display', 'lat': 42.344331, 'lng': -71.102978}]</td>\n      <td>923</td>\n      <td>02215</td>\n      <td>US</td>\n      <td>Boston</td>\n      <td>MA</td>\n      <td>United States</td>\n      <td>[Boston, MA 02215]</td>\n      <td>NaN</td>\n      <td>5d19462f17d3b90023f58792</td>\n    </tr>\n    <tr>\n      <th>2</th>\n      <td>Pepperoncini Italian Cafe</td>\n      <td>Food</td>\n      <td>42.343504</td>\n      <td>-71.083455</td>\n      <td>[{'label': 'display', 'lat': 42.343503999999996, 'lng': -71.083455}, {'label': 'entrance', 'lat': 42.343626, 'lng': -71.08351}]</td>\n      <td>970</td>\n      <td>02115</td>\n      <td>US</td>\n      <td>Boston</td>\n      <td>MA</td>\n      <td>United States</td>\n      <td>[220 Huntington Ave, Boston, MA 02115]</td>\n      <td>220 Huntington Ave</td>\n      <td>4f322cba19836c91c7bd83c7</td>\n    </tr>\n  </tbody>\n</table>\n</div>",
                        "text/plain": "                                                        name  \\\n0  The Italian-American Institute of Architecture of America   \n1  Michael Schlow\u2019s Italian Kitchen                            \n2  Pepperoncini Italian Cafe                                   \n\n           categories        lat        lng  \\\n0  None                42.341418 -71.079656   \n1  Italian Restaurant  42.344331 -71.102978   \n2  Food                42.343504 -71.083455   \n\n                                                                                                                    labeledLatLngs  \\\n0  [{'label': 'display', 'lat': 42.341418, 'lng': -71.079656}]                                                                       \n1  [{'label': 'display', 'lat': 42.344331, 'lng': -71.102978}]                                                                       \n2  [{'label': 'display', 'lat': 42.343503999999996, 'lng': -71.083455}, {'label': 'entrance', 'lat': 42.343626, 'lng': -71.08351}]   \n\n   distance postalCode  cc    city state        country  \\\n0  1191      02118      US  Boston  MA    United States   \n1  923       02215      US  Boston  MA    United States   \n2  970       02115      US  Boston  MA    United States   \n\n                         formattedAddress             address  \\\n0  [Boston, MA 02118]                      NaN                  \n1  [Boston, MA 02215]                      NaN                  \n2  [220 Huntington Ave, Boston, MA 02115]  220 Huntington Ave   \n\n                         id  \n0  4ebcaee49adf8b96f8dbaf3a  \n1  5d19462f17d3b90023f58792  \n2  4f322cba19836c91c7bd83c7  "
                    },
                    "execution_count": 44,
                    "metadata": {},
                    "output_type": "execute_result"
                }
            ],
            "source": "filtered_columns = ['name', 'categories'] + [col for col in dataframe.columns if col.startswith('location.')] + ['id']\nMA_dataframe_filtered = dataframe.loc[:, filtered_columns]\n\ndef get_category_type(row):\n    try:\n        categories_list = row['categories']\n    except:\n        categories_list = row['venue.categories']\n        \n    if len(categories_list) == 0:\n        return None\n    else:\n        return categories_list[0]['name']\n\n\nMA_dataframe_filtered['categories'] = MA_dataframe_filtered.apply(get_category_type, axis=1)\n\nMA_dataframe_filtered.columns = [column.split('.')[-1] for column in MA_dataframe_filtered.columns]\n\nMA_dataframe_filtered"
        },
        {
            "cell_type": "code",
            "execution_count": 45,
            "metadata": {
                "scrolled": true
            },
            "outputs": [
                {
                    "data": {
                        "text/html": "<div style=\"width:100%;\"><div style=\"position:relative;width:100%;height:0;padding-bottom:60%;\"><span style=\"color:#565656\">Make this Notebook Trusted to load map: File -> Trust Notebook</span><iframe src=\"about:blank\" style=\"position:absolute;width:100%;height:100%;left:0;top:0;border:none !important;\" data-html=%3C%21DOCTYPE%20html%3E%0A%3Chead%3E%20%20%20%20%0A%20%20%20%20%3Cmeta%20http-equiv%3D%22content-type%22%20content%3D%22text/html%3B%20charset%3DUTF-8%22%20/%3E%0A%20%20%20%20%0A%20%20%20%20%20%20%20%20%3Cscript%3E%0A%20%20%20%20%20%20%20%20%20%20%20%20L_NO_TOUCH%20%3D%20false%3B%0A%20%20%20%20%20%20%20%20%20%20%20%20L_DISABLE_3D%20%3D%20false%3B%0A%20%20%20%20%20%20%20%20%3C/script%3E%0A%20%20%20%20%0A%20%20%20%20%3Cstyle%3Ehtml%2C%20body%20%7Bwidth%3A%20100%25%3Bheight%3A%20100%25%3Bmargin%3A%200%3Bpadding%3A%200%3B%7D%3C/style%3E%0A%20%20%20%20%3Cstyle%3E%23map%20%7Bposition%3Aabsolute%3Btop%3A0%3Bbottom%3A0%3Bright%3A0%3Bleft%3A0%3B%7D%3C/style%3E%0A%20%20%20%20%3Cscript%20src%3D%22https%3A//cdn.jsdelivr.net/npm/leaflet%401.6.0/dist/leaflet.js%22%3E%3C/script%3E%0A%20%20%20%20%3Cscript%20src%3D%22https%3A//code.jquery.com/jquery-1.12.4.min.js%22%3E%3C/script%3E%0A%20%20%20%20%3Cscript%20src%3D%22https%3A//maxcdn.bootstrapcdn.com/bootstrap/3.2.0/js/bootstrap.min.js%22%3E%3C/script%3E%0A%20%20%20%20%3Cscript%20src%3D%22https%3A//cdnjs.cloudflare.com/ajax/libs/Leaflet.awesome-markers/2.0.2/leaflet.awesome-markers.js%22%3E%3C/script%3E%0A%20%20%20%20%3Clink%20rel%3D%22stylesheet%22%20href%3D%22https%3A//cdn.jsdelivr.net/npm/leaflet%401.6.0/dist/leaflet.css%22/%3E%0A%20%20%20%20%3Clink%20rel%3D%22stylesheet%22%20href%3D%22https%3A//maxcdn.bootstrapcdn.com/bootstrap/3.2.0/css/bootstrap.min.css%22/%3E%0A%20%20%20%20%3Clink%20rel%3D%22stylesheet%22%20href%3D%22https%3A//maxcdn.bootstrapcdn.com/bootstrap/3.2.0/css/bootstrap-theme.min.css%22/%3E%0A%20%20%20%20%3Clink%20rel%3D%22stylesheet%22%20href%3D%22https%3A//maxcdn.bootstrapcdn.com/font-awesome/4.6.3/css/font-awesome.min.css%22/%3E%0A%20%20%20%20%3Clink%20rel%3D%22stylesheet%22%20href%3D%22https%3A//cdnjs.cloudflare.com/ajax/libs/Leaflet.awesome-markers/2.0.2/leaflet.awesome-markers.css%22/%3E%0A%20%20%20%20%3Clink%20rel%3D%22stylesheet%22%20href%3D%22https%3A//cdn.jsdelivr.net/gh/python-visualization/folium/folium/templates/leaflet.awesome.rotate.min.css%22/%3E%0A%20%20%20%20%0A%20%20%20%20%20%20%20%20%20%20%20%20%3Cmeta%20name%3D%22viewport%22%20content%3D%22width%3Ddevice-width%2C%0A%20%20%20%20%20%20%20%20%20%20%20%20%20%20%20%20initial-scale%3D1.0%2C%20maximum-scale%3D1.0%2C%20user-scalable%3Dno%22%20/%3E%0A%20%20%20%20%20%20%20%20%20%20%20%20%3Cstyle%3E%0A%20%20%20%20%20%20%20%20%20%20%20%20%20%20%20%20%23map_fe89e887ef8843e7a57da14484f5fea7%20%7B%0A%20%20%20%20%20%20%20%20%20%20%20%20%20%20%20%20%20%20%20%20position%3A%20relative%3B%0A%20%20%20%20%20%20%20%20%20%20%20%20%20%20%20%20%20%20%20%20width%3A%20100.0%25%3B%0A%20%20%20%20%20%20%20%20%20%20%20%20%20%20%20%20%20%20%20%20height%3A%20100.0%25%3B%0A%20%20%20%20%20%20%20%20%20%20%20%20%20%20%20%20%20%20%20%20left%3A%200.0%25%3B%0A%20%20%20%20%20%20%20%20%20%20%20%20%20%20%20%20%20%20%20%20top%3A%200.0%25%3B%0A%20%20%20%20%20%20%20%20%20%20%20%20%20%20%20%20%7D%0A%20%20%20%20%20%20%20%20%20%20%20%20%3C/style%3E%0A%20%20%20%20%20%20%20%20%0A%3C/head%3E%0A%3Cbody%3E%20%20%20%20%0A%20%20%20%20%0A%20%20%20%20%20%20%20%20%20%20%20%20%3Cdiv%20class%3D%22folium-map%22%20id%3D%22map_fe89e887ef8843e7a57da14484f5fea7%22%20%3E%3C/div%3E%0A%20%20%20%20%20%20%20%20%0A%3C/body%3E%0A%3Cscript%3E%20%20%20%20%0A%20%20%20%20%0A%20%20%20%20%20%20%20%20%20%20%20%20var%20map_fe89e887ef8843e7a57da14484f5fea7%20%3D%20L.map%28%0A%20%20%20%20%20%20%20%20%20%20%20%20%20%20%20%20%22map_fe89e887ef8843e7a57da14484f5fea7%22%2C%0A%20%20%20%20%20%20%20%20%20%20%20%20%20%20%20%20%7B%0A%20%20%20%20%20%20%20%20%20%20%20%20%20%20%20%20%20%20%20%20center%3A%20%5B42.3394576%2C%20-71.09389640108918%5D%2C%0A%20%20%20%20%20%20%20%20%20%20%20%20%20%20%20%20%20%20%20%20crs%3A%20L.CRS.EPSG3857%2C%0A%20%20%20%20%20%20%20%20%20%20%20%20%20%20%20%20%20%20%20%20zoom%3A%2013%2C%0A%20%20%20%20%20%20%20%20%20%20%20%20%20%20%20%20%20%20%20%20zoomControl%3A%20true%2C%0A%20%20%20%20%20%20%20%20%20%20%20%20%20%20%20%20%20%20%20%20preferCanvas%3A%20false%2C%0A%20%20%20%20%20%20%20%20%20%20%20%20%20%20%20%20%7D%0A%20%20%20%20%20%20%20%20%20%20%20%20%29%3B%0A%0A%20%20%20%20%20%20%20%20%20%20%20%20%0A%0A%20%20%20%20%20%20%20%20%0A%20%20%20%20%0A%20%20%20%20%20%20%20%20%20%20%20%20var%20tile_layer_a2b3c3d2353a4c76a49028db0d8dd5f9%20%3D%20L.tileLayer%28%0A%20%20%20%20%20%20%20%20%20%20%20%20%20%20%20%20%22https%3A//%7Bs%7D.tile.openstreetmap.org/%7Bz%7D/%7Bx%7D/%7By%7D.png%22%2C%0A%20%20%20%20%20%20%20%20%20%20%20%20%20%20%20%20%7B%22attribution%22%3A%20%22Data%20by%20%5Cu0026copy%3B%20%5Cu003ca%20href%3D%5C%22http%3A//openstreetmap.org%5C%22%5Cu003eOpenStreetMap%5Cu003c/a%5Cu003e%2C%20under%20%5Cu003ca%20href%3D%5C%22http%3A//www.openstreetmap.org/copyright%5C%22%5Cu003eODbL%5Cu003c/a%5Cu003e.%22%2C%20%22detectRetina%22%3A%20false%2C%20%22maxNativeZoom%22%3A%2018%2C%20%22maxZoom%22%3A%2018%2C%20%22minZoom%22%3A%200%2C%20%22noWrap%22%3A%20false%2C%20%22opacity%22%3A%201%2C%20%22subdomains%22%3A%20%22abc%22%2C%20%22tms%22%3A%20false%7D%0A%20%20%20%20%20%20%20%20%20%20%20%20%29.addTo%28map_fe89e887ef8843e7a57da14484f5fea7%29%3B%0A%20%20%20%20%20%20%20%20%0A%20%20%20%20%0A%20%20%20%20%20%20%20%20%20%20%20%20var%20circle_marker_41da6fca50894a1c8ce83aa2bab3b20f%20%3D%20L.circleMarker%28%0A%20%20%20%20%20%20%20%20%20%20%20%20%20%20%20%20%5B42.3394576%2C%20-71.09389640108918%5D%2C%0A%20%20%20%20%20%20%20%20%20%20%20%20%20%20%20%20%7B%22bubblingMouseEvents%22%3A%20true%2C%20%22color%22%3A%20%22red%22%2C%20%22dashArray%22%3A%20null%2C%20%22dashOffset%22%3A%20null%2C%20%22fill%22%3A%20true%2C%20%22fillColor%22%3A%20%22red%22%2C%20%22fillOpacity%22%3A%200.6%2C%20%22fillRule%22%3A%20%22evenodd%22%2C%20%22lineCap%22%3A%20%22round%22%2C%20%22lineJoin%22%3A%20%22round%22%2C%20%22opacity%22%3A%201.0%2C%20%22radius%22%3A%2010%2C%20%22stroke%22%3A%20true%2C%20%22weight%22%3A%203%7D%0A%20%20%20%20%20%20%20%20%20%20%20%20%29.addTo%28map_fe89e887ef8843e7a57da14484f5fea7%29%3B%0A%20%20%20%20%20%20%20%20%0A%20%20%20%20%0A%20%20%20%20%20%20%20%20var%20popup_d48f7602e6074523a32edc473a08a8eb%20%3D%20L.popup%28%7B%22maxWidth%22%3A%20%22100%25%22%7D%29%3B%0A%0A%20%20%20%20%20%20%20%20%0A%20%20%20%20%20%20%20%20%20%20%20%20var%20html_24dd39b12eac43dc9f03fda7c720d0dc%20%3D%20%24%28%60%3Cdiv%20id%3D%22html_24dd39b12eac43dc9f03fda7c720d0dc%22%20style%3D%22width%3A%20100.0%25%3B%20height%3A%20100.0%25%3B%22%3EMuseum%20of%20Fine%20Arts%3C/div%3E%60%29%5B0%5D%3B%0A%20%20%20%20%20%20%20%20%20%20%20%20popup_d48f7602e6074523a32edc473a08a8eb.setContent%28html_24dd39b12eac43dc9f03fda7c720d0dc%29%3B%0A%20%20%20%20%20%20%20%20%0A%0A%20%20%20%20%20%20%20%20circle_marker_41da6fca50894a1c8ce83aa2bab3b20f.bindPopup%28popup_d48f7602e6074523a32edc473a08a8eb%29%0A%20%20%20%20%20%20%20%20%3B%0A%0A%20%20%20%20%20%20%20%20%0A%20%20%20%20%0A%20%20%20%20%0A%20%20%20%20%20%20%20%20%20%20%20%20var%20circle_marker_c4c5e7312de048df8a0aebf5c5af2612%20%3D%20L.circleMarker%28%0A%20%20%20%20%20%20%20%20%20%20%20%20%20%20%20%20%5B42.341418%2C%20-71.079656%5D%2C%0A%20%20%20%20%20%20%20%20%20%20%20%20%20%20%20%20%7B%22bubblingMouseEvents%22%3A%20true%2C%20%22color%22%3A%20%22blue%22%2C%20%22dashArray%22%3A%20null%2C%20%22dashOffset%22%3A%20null%2C%20%22fill%22%3A%20true%2C%20%22fillColor%22%3A%20%22blue%22%2C%20%22fillOpacity%22%3A%200.6%2C%20%22fillRule%22%3A%20%22evenodd%22%2C%20%22lineCap%22%3A%20%22round%22%2C%20%22lineJoin%22%3A%20%22round%22%2C%20%22opacity%22%3A%201.0%2C%20%22radius%22%3A%205%2C%20%22stroke%22%3A%20true%2C%20%22weight%22%3A%203%7D%0A%20%20%20%20%20%20%20%20%20%20%20%20%29.addTo%28map_fe89e887ef8843e7a57da14484f5fea7%29%3B%0A%20%20%20%20%20%20%20%20%0A%20%20%20%20%0A%20%20%20%20%20%20%20%20%20%20%20%20var%20circle_marker_8a631fbdbd0e48aa981110f204e54641%20%3D%20L.circleMarker%28%0A%20%20%20%20%20%20%20%20%20%20%20%20%20%20%20%20%5B42.344331%2C%20-71.102978%5D%2C%0A%20%20%20%20%20%20%20%20%20%20%20%20%20%20%20%20%7B%22bubblingMouseEvents%22%3A%20true%2C%20%22color%22%3A%20%22blue%22%2C%20%22dashArray%22%3A%20null%2C%20%22dashOffset%22%3A%20null%2C%20%22fill%22%3A%20true%2C%20%22fillColor%22%3A%20%22blue%22%2C%20%22fillOpacity%22%3A%200.6%2C%20%22fillRule%22%3A%20%22evenodd%22%2C%20%22lineCap%22%3A%20%22round%22%2C%20%22lineJoin%22%3A%20%22round%22%2C%20%22opacity%22%3A%201.0%2C%20%22radius%22%3A%205%2C%20%22stroke%22%3A%20true%2C%20%22weight%22%3A%203%7D%0A%20%20%20%20%20%20%20%20%20%20%20%20%29.addTo%28map_fe89e887ef8843e7a57da14484f5fea7%29%3B%0A%20%20%20%20%20%20%20%20%0A%20%20%20%20%0A%20%20%20%20%20%20%20%20var%20popup_ef82aad4c34a4e75b9bae4b22d04ccc1%20%3D%20L.popup%28%7B%22maxWidth%22%3A%20%22100%25%22%7D%29%3B%0A%0A%20%20%20%20%20%20%20%20%0A%20%20%20%20%20%20%20%20%20%20%20%20var%20html_84bf07f89a2340c1b96a190c1e574cba%20%3D%20%24%28%60%3Cdiv%20id%3D%22html_84bf07f89a2340c1b96a190c1e574cba%22%20style%3D%22width%3A%20100.0%25%3B%20height%3A%20100.0%25%3B%22%3EItalian%20Restaurant%3C/div%3E%60%29%5B0%5D%3B%0A%20%20%20%20%20%20%20%20%20%20%20%20popup_ef82aad4c34a4e75b9bae4b22d04ccc1.setContent%28html_84bf07f89a2340c1b96a190c1e574cba%29%3B%0A%20%20%20%20%20%20%20%20%0A%0A%20%20%20%20%20%20%20%20circle_marker_8a631fbdbd0e48aa981110f204e54641.bindPopup%28popup_ef82aad4c34a4e75b9bae4b22d04ccc1%29%0A%20%20%20%20%20%20%20%20%3B%0A%0A%20%20%20%20%20%20%20%20%0A%20%20%20%20%0A%20%20%20%20%0A%20%20%20%20%20%20%20%20%20%20%20%20var%20circle_marker_8a18e84069cc41079618c37378a18451%20%3D%20L.circleMarker%28%0A%20%20%20%20%20%20%20%20%20%20%20%20%20%20%20%20%5B42.343503999999996%2C%20-71.083455%5D%2C%0A%20%20%20%20%20%20%20%20%20%20%20%20%20%20%20%20%7B%22bubblingMouseEvents%22%3A%20true%2C%20%22color%22%3A%20%22blue%22%2C%20%22dashArray%22%3A%20null%2C%20%22dashOffset%22%3A%20null%2C%20%22fill%22%3A%20true%2C%20%22fillColor%22%3A%20%22blue%22%2C%20%22fillOpacity%22%3A%200.6%2C%20%22fillRule%22%3A%20%22evenodd%22%2C%20%22lineCap%22%3A%20%22round%22%2C%20%22lineJoin%22%3A%20%22round%22%2C%20%22opacity%22%3A%201.0%2C%20%22radius%22%3A%205%2C%20%22stroke%22%3A%20true%2C%20%22weight%22%3A%203%7D%0A%20%20%20%20%20%20%20%20%20%20%20%20%29.addTo%28map_fe89e887ef8843e7a57da14484f5fea7%29%3B%0A%20%20%20%20%20%20%20%20%0A%20%20%20%20%0A%20%20%20%20%20%20%20%20var%20popup_4103f4dbbaee4b76a414dba5a89627c6%20%3D%20L.popup%28%7B%22maxWidth%22%3A%20%22100%25%22%7D%29%3B%0A%0A%20%20%20%20%20%20%20%20%0A%20%20%20%20%20%20%20%20%20%20%20%20var%20html_ca9da5912ded4b19b720cd638b72cfd2%20%3D%20%24%28%60%3Cdiv%20id%3D%22html_ca9da5912ded4b19b720cd638b72cfd2%22%20style%3D%22width%3A%20100.0%25%3B%20height%3A%20100.0%25%3B%22%3EFood%3C/div%3E%60%29%5B0%5D%3B%0A%20%20%20%20%20%20%20%20%20%20%20%20popup_4103f4dbbaee4b76a414dba5a89627c6.setContent%28html_ca9da5912ded4b19b720cd638b72cfd2%29%3B%0A%20%20%20%20%20%20%20%20%0A%0A%20%20%20%20%20%20%20%20circle_marker_8a18e84069cc41079618c37378a18451.bindPopup%28popup_4103f4dbbaee4b76a414dba5a89627c6%29%0A%20%20%20%20%20%20%20%20%3B%0A%0A%20%20%20%20%20%20%20%20%0A%20%20%20%20%0A%3C/script%3E onload=\"this.contentDocument.open();this.contentDocument.write(    decodeURIComponent(this.getAttribute('data-html')));this.contentDocument.close();\" allowfullscreen webkitallowfullscreen mozallowfullscreen></iframe></div></div>",
                        "text/plain": "<folium.folium.Map at 0x7f57400596d0>"
                    },
                    "execution_count": 45,
                    "metadata": {},
                    "output_type": "execute_result"
                }
            ],
            "source": "MA_dataframe_filtered.name\n\nMA_venues_map = folium.Map(location=[latitude, longitude], zoom_start=13)\n\nfolium.CircleMarker(\n    [latitude, longitude],\n    radius=10,\n    color='red',\n    popup='Museum of Fine Arts',\n    fill = True,\n    fill_color = 'red',\n    fill_opacity = 0.6\n).add_to(MA_venues_map)\n\n\nfor lat, lng, label in zip(MA_dataframe_filtered.lat, MA_dataframe_filtered.lng, MA_dataframe_filtered.categories):\n    folium.CircleMarker(\n        [lat, lng],\n        radius=5,\n        color='blue',\n        popup=label,\n        fill = True,\n        fill_color='blue',\n        fill_opacity=0.6\n    ).add_to(MA_venues_map)\n\nMA_venues_map"
        },
        {
            "cell_type": "markdown",
            "metadata": {},
            "source": "# 4. Analysis"
        },
        {
            "cell_type": "markdown",
            "metadata": {},
            "source": "I will now analyze most of the restaurants that were found within the specific cities mentioned above. I will start with New York."
        },
        {
            "cell_type": "code",
            "execution_count": 46,
            "metadata": {},
            "outputs": [
                {
                    "data": {
                        "text/plain": "'https://api.foursquare.com/v2/venues/4c40f185e26920a1d5bb5de7?client_id=BVHVVQMLE03WWNN1YMOZZ5BBT4SGCVWQA3Y2DGVA44ZBXLUJ&client_secret=GL12QT0SOAFRYPELNEH0RUTO3J0DGXKYSPYSLVAEE5Y4ZQ3I&oauth_token=BNNWRWLRJIQ31AVOXGYDOCCERWVBLU5CPOF2CTS0JFKTV3WV&v=20180604'"
                    },
                    "execution_count": 46,
                    "metadata": {},
                    "output_type": "execute_result"
                }
            ],
            "source": "NY_venue_id = '4c40f185e26920a1d5bb5de7' #Yolanda's \nurl = 'https://api.foursquare.com/v2/venues/4c40f185e26920a1d5bb5de7?client_id=BVHVVQMLE03WWNN1YMOZZ5BBT4SGCVWQA3Y2DGVA44ZBXLUJ&client_secret=GL12QT0SOAFRYPELNEH0RUTO3J0DGXKYSPYSLVAEE5Y4ZQ3I&oauth_token=BNNWRWLRJIQ31AVOXGYDOCCERWVBLU5CPOF2CTS0JFKTV3WV&v=20180604'.format(NY_venue_id, CLIENT_ID, CLIENT_SECRET,ACCESS_TOKEN, VERSION)\nurl"
        },
        {
            "cell_type": "code",
            "execution_count": 52,
            "metadata": {
                "scrolled": true
            },
            "outputs": [
                {
                    "name": "stdout",
                    "output_type": "stream",
                    "text": "7.9\n"
                }
            ],
            "source": "try:\n    print(result['response']['venue']['rating'])\nexcept:\n    print('This venue has not been rated yet.')"
        },
        {
            "cell_type": "markdown",
            "metadata": {},
            "source": "This rating is decent but what about the other New York Restuarant that popped up? "
        },
        {
            "cell_type": "code",
            "execution_count": 54,
            "metadata": {},
            "outputs": [
                {
                    "data": {
                        "text/plain": "'https://api.foursquare.com/v2/venues/4c40f185e26920a1d5bb5de7?client_id=BVHVVQMLE03WWNN1YMOZZ5BBT4SGCVWQA3Y2DGVA44ZBXLUJ&client_secret=GL12QT0SOAFRYPELNEH0RUTO3J0DGXKYSPYSLVAEE5Y4ZQ3I&oauth_token=BNNWRWLRJIQ31AVOXGYDOCCERWVBLU5CPOF2CTS0JFKTV3WV&v=20180604'"
                    },
                    "execution_count": 54,
                    "metadata": {},
                    "output_type": "execute_result"
                }
            ],
            "source": "NY_venue_id = '4e74bc8ca809582dd59b548c'\nurl = 'https://api.foursquare.com/v2/venues/4c40f185e26920a1d5bb5de7?client_id=BVHVVQMLE03WWNN1YMOZZ5BBT4SGCVWQA3Y2DGVA44ZBXLUJ&client_secret=GL12QT0SOAFRYPELNEH0RUTO3J0DGXKYSPYSLVAEE5Y4ZQ3I&oauth_token=BNNWRWLRJIQ31AVOXGYDOCCERWVBLU5CPOF2CTS0JFKTV3WV&v=20180604'.format(NY_venue_id, CLIENT_ID, CLIENT_SECRET,ACCESS_TOKEN, VERSION)\nurl"
        },
        {
            "cell_type": "code",
            "execution_count": 55,
            "metadata": {},
            "outputs": [
                {
                    "name": "stdout",
                    "output_type": "stream",
                    "text": "dict_keys(['id', 'name', 'contact', 'location', 'canonicalUrl', 'categories', 'verified', 'stats', 'url', 'price', 'hasMenu', 'likes', 'like', 'dislike', 'ok', 'rating', 'ratingColor', 'ratingSignals', 'menu', 'allowMenuUrlEdit', 'beenHere', 'specials', 'photos', 'reasons', 'hereNow', 'createdAt', 'tips', 'shortUrl', 'timeZone', 'listed', 'popular', 'seasonalHours', 'pageUpdates', 'inbox', 'attributes', 'bestPhoto', 'colors'])\n"
                },
                {
                    "data": {
                        "text/plain": "{'id': '4c40f185e26920a1d5bb5de7',\n 'name': \"Yolanda's Italian Pizzeria & Restaurant\",\n 'contact': {'phone': '7189932709', 'formattedPhone': '(718) 993-2709'},\n 'location': {'address': '292 E 149th St',\n  'crossStreet': 'off Morris Avenue',\n  'lat': 40.81709844985412,\n  'lng': -73.92186622574978,\n  'labeledLatLngs': [{'label': 'display',\n    'lat': 40.81709844985412,\n    'lng': -73.92186622574978},\n   {'label': 'entrance', 'lat': 40.816997, 'lng': -73.921803}],\n  'postalCode': '10451',\n  'cc': 'US',\n  'city': 'Bronx',\n  'state': 'NY',\n  'country': 'United States',\n  'formattedAddress': ['292 E 149th St (off Morris Avenue)',\n   'Bronx, NY 10451']},\n 'canonicalUrl': 'https://foursquare.com/v/yolandas-italian-pizzeria--restaurant/4c40f185e26920a1d5bb5de7',\n 'categories': [{'id': '4bf58dd8d48988d1ca941735',\n   'name': 'Pizza Place',\n   'pluralName': 'Pizza Places',\n   'shortName': 'Pizza',\n   'icon': {'prefix': 'https://ss3.4sqi.net/img/categories_v2/food/pizza_',\n    'suffix': '.png'},\n   'primary': True}],\n 'verified': False,\n 'stats': {'tipCount': 7},\n 'url': 'http://yolandasrestaurant.com',\n 'price': {'tier': 1, 'message': 'Cheap', 'currency': '$'},\n 'hasMenu': True,\n 'likes': {'count': 9,\n  'groups': [{'type': 'others',\n    'count': 9,\n    'items': [{'id': '8038032',\n      'firstName': 'Kabir',\n      'lastName': 'de Leeuw',\n      'gender': 'male',\n      'countryCode': 'US',\n      'photo': {'prefix': 'https://fastly.4sqi.net/img/user/',\n       'suffix': '/KBDZEZOR1Z0WMLZO.jpg'}},\n     {'id': '26802194',\n      'firstName': 'Raven',\n      'lastName': 'Dorantes',\n      'gender': 'female',\n      'countryCode': 'US',\n      'photo': {'prefix': 'https://fastly.4sqi.net/img/user/',\n       'suffix': '/26802194_C6AS47tP_VV3aF4Uoi5nbTbQYMDEr79WmINEGeKQ_lfeLX2awihNIERJMuhtFvui_j13Zz9Jz.jpg'}},\n     {'id': '74372031',\n      'firstName': 'Yoshua',\n      'lastName': 'Kenneth',\n      'gender': 'male',\n      'countryCode': 'US',\n      'photo': {'prefix': 'https://fastly.4sqi.net/img/user/',\n       'suffix': '/74372031-VHVFKSB4S3K0ZBVM.jpg'}},\n     {'id': '16381781',\n      'firstName': 'Lia',\n      'lastName': 'Beltran',\n      'gender': 'female',\n      'countryCode': 'US',\n      'photo': {'prefix': 'https://fastly.4sqi.net/img/user/',\n       'suffix': '/2FZWLJK5YTA0JAFG.jpg'}}]}],\n  'summary': 'Kabir de Leeuw, Raven Dorantes, Yoshua Kenneth & 6 others'},\n 'like': False,\n 'dislike': False,\n 'ok': False,\n 'rating': 7.9,\n 'ratingColor': 'C5DE35',\n 'ratingSignals': 21,\n 'menu': {'type': 'Menu',\n  'label': 'Menu',\n  'anchor': 'View Menu',\n  'url': 'https://foursquare.com/v/yolandas-italian-pizzeria--restaurant/4c40f185e26920a1d5bb5de7/menu',\n  'mobileUrl': 'https://foursquare.com/v/4c40f185e26920a1d5bb5de7/device_menu'},\n 'allowMenuUrlEdit': True,\n 'beenHere': {'count': 0,\n  'unconfirmedCount': 0,\n  'marked': False,\n  'lastCheckinExpiredAt': 0},\n 'specials': {'count': 0, 'items': []},\n 'photos': {'count': 6,\n  'groups': [{'type': 'venue',\n    'name': 'Venue photos',\n    'count': 6,\n    'items': [{'id': '5c4f86bb5d891b002c4b8484',\n      'createdAt': 1548715707,\n      'source': {'name': 'Swarm for iOS', 'url': 'https://www.swarmapp.com'},\n      'prefix': 'https://fastly.4sqi.net/img/general/',\n      'suffix': '/62197819_BWz-4KprlWQ7maXfQjUsqkVoiGkz3uFHWRprXIZRQy8.jpg',\n      'width': 1920,\n      'height': 1440,\n      'user': {'id': '62197819',\n       'firstName': 'Bennie',\n       'lastName': 'Fernandez',\n       'gender': 'male',\n       'countryCode': 'US',\n       'photo': {'prefix': 'https://fastly.4sqi.net/img/user/',\n        'suffix': '/XT0DKEHX200ZIBRQ.jpg'}},\n      'visibility': 'public'}]}]},\n 'reasons': {'count': 0, 'items': []},\n 'hereNow': {'count': 0, 'summary': 'Nobody here', 'groups': []},\n 'createdAt': 1279324549,\n 'tips': {'count': 7,\n  'groups': [{'type': 'following',\n    'name': 'Tips from people you follow',\n    'count': 0,\n    'items': []},\n   {'type': 'others',\n    'name': 'All tips',\n    'count': 7,\n    'items': [{'id': '51cb1234498e7b937df9a1c9',\n      'createdAt': 1372262964,\n      'text': 'Hidden little authentic gem in The Bronx. Sauce and service are outstanding!',\n      'type': 'user',\n      'canonicalUrl': 'https://foursquare.com/item/51cb1234498e7b937df9a1c9',\n      'likes': {'count': 1,\n       'groups': [{'type': 'others',\n         'count': 1,\n         'items': [{'id': '38638390',\n           'firstName': 'Arthur',\n           'lastName': 'Palmer',\n           'gender': 'male',\n           'countryCode': 'US',\n           'photo': {'prefix': 'https://fastly.4sqi.net/img/user/',\n            'suffix': '/2EILBAXJHBNN1W0Q.jpg'}}]}],\n       'summary': '1 like'},\n      'like': False,\n      'logView': True,\n      'agreeCount': 1,\n      'disagreeCount': 0,\n      'todo': {'count': 0},\n      'user': {'id': '29531420',\n       'firstName': 'Tara',\n       'lastName': 'Maldonado',\n       'gender': 'female',\n       'countryCode': 'US',\n       'photo': {'prefix': 'https://fastly.4sqi.net/img/user/',\n        'suffix': '/30FNBSYXP20N1MRE.jpg'}},\n      'authorInteractionType': 'liked'}]}]},\n 'shortUrl': 'http://4sq.com/c5wYv6',\n 'timeZone': 'America/New_York',\n 'listed': {'count': 10,\n  'groups': [{'type': 'others',\n    'name': 'Lists from other people',\n    'count': 10,\n    'items': [{'id': '5266941a498ea4dfb9d73de7',\n      'name': 'A Bronx Pizza Tour With BP Ruben Diaz Jr.',\n      'description': '',\n      'type': 'others',\n      'user': {'id': '21646809',\n       'firstName': 'Gothamist',\n       'gender': 'none',\n       'countryCode': 'US',\n       'photo': {'prefix': 'https://fastly.4sqi.net/img/user/',\n        'suffix': '/21646809-ZFSVLXT5BZYS4ESZ.png'},\n       'type': 'page'},\n      'editable': False,\n      'public': True,\n      'collaborative': False,\n      'url': '/gothamist/list/a-bronx-pizza-tour-with-bp-ruben-diaz-jr',\n      'canonicalUrl': 'https://foursquare.com/gothamist/list/a-bronx-pizza-tour-with-bp-ruben-diaz-jr',\n      'createdAt': 1382454298,\n      'updatedAt': 1382454978,\n      'photo': {'id': '5266969c11d2e926e7142f55',\n       'createdAt': 1382454940,\n       'prefix': 'https://fastly.4sqi.net/img/general/',\n       'suffix': '/21646809_pvfXKp7stqLpkFfjyQr9-obiLkf_hRWQ6ZVXNwt8AtQ.jpg',\n       'width': 640,\n       'height': 426,\n       'user': {'id': '21646809',\n        'firstName': 'Gothamist',\n        'gender': 'none',\n        'countryCode': 'US',\n        'photo': {'prefix': 'https://fastly.4sqi.net/img/user/',\n         'suffix': '/21646809-ZFSVLXT5BZYS4ESZ.png'},\n        'type': 'page'},\n       'visibility': 'public'},\n      'logView': True,\n      'followers': {'count': 16},\n      'listItems': {'count': 8,\n       'items': [{'id': 'v4c40f185e26920a1d5bb5de7',\n         'createdAt': 1382454720}]}},\n     {'id': '4f0e11e9e4b01660dd2f5db1',\n      'name': 'The 20 best value restaurants in Bronx, NY',\n      'description': '',\n      'type': 'others',\n      'user': {'id': '1727290',\n       'firstName': 'Clarisel',\n       'lastName': 'Gonzalez',\n       'gender': 'female',\n       'countryCode': 'US',\n       'photo': {'prefix': 'https://fastly.4sqi.net/img/user/',\n        'suffix': '/XIEU0BVUTWOT2P0S.jpg'}},\n      'editable': False,\n      'public': True,\n      'collaborative': True,\n      'url': '/prsun/list/the-20-best-value-restaurants-in-bronx-ny',\n      'canonicalUrl': 'https://foursquare.com/prsun/list/the-20-best-value-restaurants-in-bronx-ny',\n      'createdAt': 1326322153,\n      'updatedAt': 1338126296,\n      'followers': {'count': 0},\n      'listItems': {'count': 3,\n       'items': [{'id': 'v4c40f185e26920a1d5bb5de7',\n         'createdAt': 1326322270}]}}]}]},\n 'popular': {'isOpen': False,\n  'isLocalHoliday': False,\n  'timeframes': [{'days': 'Today',\n    'includesToday': True,\n    'open': [{'renderedTime': '8:00 AM\u201311:00 AM'},\n     {'renderedTime': '1:00 PM\u20132:00 PM'},\n     {'renderedTime': '5:00 PM\u20137:00 PM'}],\n    'segments': []},\n   {'days': 'Mon',\n    'open': [{'renderedTime': '11:00 AM\u20138:00 PM'}],\n    'segments': []},\n   {'days': 'Tue', 'open': [{'renderedTime': 'Noon\u20139:00 PM'}], 'segments': []},\n   {'days': 'Wed',\n    'open': [{'renderedTime': '11:00 AM\u20138:00 PM'}],\n    'segments': []},\n   {'days': 'Thu',\n    'open': [{'renderedTime': '11:00 AM\u20139:00 PM'}],\n    'segments': []},\n   {'days': 'Fri',\n    'open': [{'renderedTime': '11:00 AM\u20133:00 PM'},\n     {'renderedTime': '5:00 PM\u201310:00 PM'}],\n    'segments': []},\n   {'days': 'Sat',\n    'open': [{'renderedTime': '11:00 AM\u20139:00 PM'}],\n    'segments': []}]},\n 'seasonalHours': [],\n 'pageUpdates': {'count': 0, 'items': []},\n 'inbox': {'count': 0, 'items': []},\n 'attributes': {'groups': [{'type': 'price',\n    'name': 'Price',\n    'summary': '$',\n    'count': 1,\n    'items': [{'displayName': 'Price',\n      'displayValue': '$',\n      'priceTier': 1}]}]},\n 'bestPhoto': {'id': '5c4f86bb5d891b002c4b8484',\n  'createdAt': 1548715707,\n  'source': {'name': 'Swarm for iOS', 'url': 'https://www.swarmapp.com'},\n  'prefix': 'https://fastly.4sqi.net/img/general/',\n  'suffix': '/62197819_BWz-4KprlWQ7maXfQjUsqkVoiGkz3uFHWRprXIZRQy8.jpg',\n  'width': 1920,\n  'height': 1440,\n  'visibility': 'public'},\n 'colors': {'highlightColor': {'photoId': '5c4f86bb5d891b002c4b8484',\n   'value': -14149608},\n  'highlightTextColor': {'photoId': '5c4f86bb5d891b002c4b8484', 'value': -1},\n  'algoVersion': 3}}"
                    },
                    "execution_count": 55,
                    "metadata": {},
                    "output_type": "execute_result"
                }
            ],
            "source": "result = requests.get(url).json()\nprint(result['response']['venue'].keys())\nresult['response']['venue']"
        },
        {
            "cell_type": "code",
            "execution_count": 56,
            "metadata": {},
            "outputs": [
                {
                    "name": "stdout",
                    "output_type": "stream",
                    "text": "7.9\n"
                }
            ],
            "source": "try:\n    print(result['response']['venue']['rating'])\nexcept:\n    print('This venue has not been rated yet.')"
        },
        {
            "cell_type": "markdown",
            "metadata": {},
            "source": "Both venues have the same rating. That's alright because it's still a decent rating. Let's try Michigan. "
        },
        {
            "cell_type": "code",
            "execution_count": 57,
            "metadata": {},
            "outputs": [
                {
                    "data": {
                        "text/plain": "'https://api.foursquare.com/v2/venues/4c40f185e26920a1d5bb5de7?client_id=BVHVVQMLE03WWNN1YMOZZ5BBT4SGCVWQA3Y2DGVA44ZBXLUJ&client_secret=GL12QT0SOAFRYPELNEH0RUTO3J0DGXKYSPYSLVAEE5Y4ZQ3I&oauth_token=BNNWRWLRJIQ31AVOXGYDOCCERWVBLU5CPOF2CTS0JFKTV3WV&v=20180604'"
                    },
                    "execution_count": 57,
                    "metadata": {},
                    "output_type": "execute_result"
                }
            ],
            "source": "MI_venue_id = '4bce2b0acc8cd13aaee3c3cf'\nurl = 'https://api.foursquare.com/v2/venues/4c40f185e26920a1d5bb5de7?client_id=BVHVVQMLE03WWNN1YMOZZ5BBT4SGCVWQA3Y2DGVA44ZBXLUJ&client_secret=GL12QT0SOAFRYPELNEH0RUTO3J0DGXKYSPYSLVAEE5Y4ZQ3I&oauth_token=BNNWRWLRJIQ31AVOXGYDOCCERWVBLU5CPOF2CTS0JFKTV3WV&v=20180604'.format(NY_venue_id, CLIENT_ID, CLIENT_SECRET,ACCESS_TOKEN, VERSION)\nurl"
        },
        {
            "cell_type": "code",
            "execution_count": 58,
            "metadata": {},
            "outputs": [
                {
                    "name": "stdout",
                    "output_type": "stream",
                    "text": "dict_keys(['id', 'name', 'contact', 'location', 'canonicalUrl', 'categories', 'verified', 'stats', 'url', 'price', 'hasMenu', 'likes', 'like', 'dislike', 'ok', 'rating', 'ratingColor', 'ratingSignals', 'menu', 'allowMenuUrlEdit', 'beenHere', 'specials', 'photos', 'reasons', 'hereNow', 'createdAt', 'tips', 'shortUrl', 'timeZone', 'listed', 'popular', 'seasonalHours', 'pageUpdates', 'inbox', 'attributes', 'bestPhoto', 'colors'])\n"
                },
                {
                    "data": {
                        "text/plain": "{'id': '4c40f185e26920a1d5bb5de7',\n 'name': \"Yolanda's Italian Pizzeria & Restaurant\",\n 'contact': {'phone': '7189932709', 'formattedPhone': '(718) 993-2709'},\n 'location': {'address': '292 E 149th St',\n  'crossStreet': 'off Morris Avenue',\n  'lat': 40.81709844985412,\n  'lng': -73.92186622574978,\n  'labeledLatLngs': [{'label': 'display',\n    'lat': 40.81709844985412,\n    'lng': -73.92186622574978},\n   {'label': 'entrance', 'lat': 40.816997, 'lng': -73.921803}],\n  'postalCode': '10451',\n  'cc': 'US',\n  'city': 'Bronx',\n  'state': 'NY',\n  'country': 'United States',\n  'formattedAddress': ['292 E 149th St (off Morris Avenue)',\n   'Bronx, NY 10451']},\n 'canonicalUrl': 'https://foursquare.com/v/yolandas-italian-pizzeria--restaurant/4c40f185e26920a1d5bb5de7',\n 'categories': [{'id': '4bf58dd8d48988d1ca941735',\n   'name': 'Pizza Place',\n   'pluralName': 'Pizza Places',\n   'shortName': 'Pizza',\n   'icon': {'prefix': 'https://ss3.4sqi.net/img/categories_v2/food/pizza_',\n    'suffix': '.png'},\n   'primary': True}],\n 'verified': False,\n 'stats': {'tipCount': 7},\n 'url': 'http://yolandasrestaurant.com',\n 'price': {'tier': 1, 'message': 'Cheap', 'currency': '$'},\n 'hasMenu': True,\n 'likes': {'count': 9,\n  'groups': [{'type': 'others',\n    'count': 9,\n    'items': [{'id': '8038032',\n      'firstName': 'Kabir',\n      'lastName': 'de Leeuw',\n      'gender': 'male',\n      'countryCode': 'US',\n      'photo': {'prefix': 'https://fastly.4sqi.net/img/user/',\n       'suffix': '/KBDZEZOR1Z0WMLZO.jpg'}},\n     {'id': '26802194',\n      'firstName': 'Raven',\n      'lastName': 'Dorantes',\n      'gender': 'female',\n      'countryCode': 'US',\n      'photo': {'prefix': 'https://fastly.4sqi.net/img/user/',\n       'suffix': '/26802194_C6AS47tP_VV3aF4Uoi5nbTbQYMDEr79WmINEGeKQ_lfeLX2awihNIERJMuhtFvui_j13Zz9Jz.jpg'}},\n     {'id': '74372031',\n      'firstName': 'Yoshua',\n      'lastName': 'Kenneth',\n      'gender': 'male',\n      'countryCode': 'US',\n      'photo': {'prefix': 'https://fastly.4sqi.net/img/user/',\n       'suffix': '/74372031-VHVFKSB4S3K0ZBVM.jpg'}},\n     {'id': '16381781',\n      'firstName': 'Lia',\n      'lastName': 'Beltran',\n      'gender': 'female',\n      'countryCode': 'US',\n      'photo': {'prefix': 'https://fastly.4sqi.net/img/user/',\n       'suffix': '/2FZWLJK5YTA0JAFG.jpg'}}]}],\n  'summary': 'Kabir de Leeuw, Raven Dorantes, Yoshua Kenneth & 6 others'},\n 'like': False,\n 'dislike': False,\n 'ok': False,\n 'rating': 7.9,\n 'ratingColor': 'C5DE35',\n 'ratingSignals': 21,\n 'menu': {'type': 'Menu',\n  'label': 'Menu',\n  'anchor': 'View Menu',\n  'url': 'https://foursquare.com/v/yolandas-italian-pizzeria--restaurant/4c40f185e26920a1d5bb5de7/menu',\n  'mobileUrl': 'https://foursquare.com/v/4c40f185e26920a1d5bb5de7/device_menu'},\n 'allowMenuUrlEdit': True,\n 'beenHere': {'count': 0,\n  'unconfirmedCount': 0,\n  'marked': False,\n  'lastCheckinExpiredAt': 0},\n 'specials': {'count': 0, 'items': []},\n 'photos': {'count': 6,\n  'groups': [{'type': 'venue',\n    'name': 'Venue photos',\n    'count': 6,\n    'items': [{'id': '5c4f86bb5d891b002c4b8484',\n      'createdAt': 1548715707,\n      'source': {'name': 'Swarm for iOS', 'url': 'https://www.swarmapp.com'},\n      'prefix': 'https://fastly.4sqi.net/img/general/',\n      'suffix': '/62197819_BWz-4KprlWQ7maXfQjUsqkVoiGkz3uFHWRprXIZRQy8.jpg',\n      'width': 1920,\n      'height': 1440,\n      'user': {'id': '62197819',\n       'firstName': 'Bennie',\n       'lastName': 'Fernandez',\n       'gender': 'male',\n       'countryCode': 'US',\n       'photo': {'prefix': 'https://fastly.4sqi.net/img/user/',\n        'suffix': '/XT0DKEHX200ZIBRQ.jpg'}},\n      'visibility': 'public'}]}]},\n 'reasons': {'count': 0, 'items': []},\n 'hereNow': {'count': 0, 'summary': 'Nobody here', 'groups': []},\n 'createdAt': 1279324549,\n 'tips': {'count': 7,\n  'groups': [{'type': 'following',\n    'name': 'Tips from people you follow',\n    'count': 0,\n    'items': []},\n   {'type': 'others',\n    'name': 'All tips',\n    'count': 7,\n    'items': [{'id': '51cb1234498e7b937df9a1c9',\n      'createdAt': 1372262964,\n      'text': 'Hidden little authentic gem in The Bronx. Sauce and service are outstanding!',\n      'type': 'user',\n      'canonicalUrl': 'https://foursquare.com/item/51cb1234498e7b937df9a1c9',\n      'likes': {'count': 1,\n       'groups': [{'type': 'others',\n         'count': 1,\n         'items': [{'id': '38638390',\n           'firstName': 'Arthur',\n           'lastName': 'Palmer',\n           'gender': 'male',\n           'countryCode': 'US',\n           'photo': {'prefix': 'https://fastly.4sqi.net/img/user/',\n            'suffix': '/2EILBAXJHBNN1W0Q.jpg'}}]}],\n       'summary': '1 like'},\n      'like': False,\n      'logView': True,\n      'agreeCount': 1,\n      'disagreeCount': 0,\n      'todo': {'count': 0},\n      'user': {'id': '29531420',\n       'firstName': 'Tara',\n       'lastName': 'Maldonado',\n       'gender': 'female',\n       'countryCode': 'US',\n       'photo': {'prefix': 'https://fastly.4sqi.net/img/user/',\n        'suffix': '/30FNBSYXP20N1MRE.jpg'}},\n      'authorInteractionType': 'liked'}]}]},\n 'shortUrl': 'http://4sq.com/c5wYv6',\n 'timeZone': 'America/New_York',\n 'listed': {'count': 10,\n  'groups': [{'type': 'others',\n    'name': 'Lists from other people',\n    'count': 10,\n    'items': [{'id': '5266941a498ea4dfb9d73de7',\n      'name': 'A Bronx Pizza Tour With BP Ruben Diaz Jr.',\n      'description': '',\n      'type': 'others',\n      'user': {'id': '21646809',\n       'firstName': 'Gothamist',\n       'gender': 'none',\n       'countryCode': 'US',\n       'photo': {'prefix': 'https://fastly.4sqi.net/img/user/',\n        'suffix': '/21646809-ZFSVLXT5BZYS4ESZ.png'},\n       'type': 'page'},\n      'editable': False,\n      'public': True,\n      'collaborative': False,\n      'url': '/gothamist/list/a-bronx-pizza-tour-with-bp-ruben-diaz-jr',\n      'canonicalUrl': 'https://foursquare.com/gothamist/list/a-bronx-pizza-tour-with-bp-ruben-diaz-jr',\n      'createdAt': 1382454298,\n      'updatedAt': 1382454978,\n      'photo': {'id': '5266969c11d2e926e7142f55',\n       'createdAt': 1382454940,\n       'prefix': 'https://fastly.4sqi.net/img/general/',\n       'suffix': '/21646809_pvfXKp7stqLpkFfjyQr9-obiLkf_hRWQ6ZVXNwt8AtQ.jpg',\n       'width': 640,\n       'height': 426,\n       'user': {'id': '21646809',\n        'firstName': 'Gothamist',\n        'gender': 'none',\n        'countryCode': 'US',\n        'photo': {'prefix': 'https://fastly.4sqi.net/img/user/',\n         'suffix': '/21646809-ZFSVLXT5BZYS4ESZ.png'},\n        'type': 'page'},\n       'visibility': 'public'},\n      'logView': True,\n      'followers': {'count': 16},\n      'listItems': {'count': 8,\n       'items': [{'id': 'v4c40f185e26920a1d5bb5de7',\n         'createdAt': 1382454720}]}},\n     {'id': '4f0e11e9e4b01660dd2f5db1',\n      'name': 'The 20 best value restaurants in Bronx, NY',\n      'description': '',\n      'type': 'others',\n      'user': {'id': '1727290',\n       'firstName': 'Clarisel',\n       'lastName': 'Gonzalez',\n       'gender': 'female',\n       'countryCode': 'US',\n       'photo': {'prefix': 'https://fastly.4sqi.net/img/user/',\n        'suffix': '/XIEU0BVUTWOT2P0S.jpg'}},\n      'editable': False,\n      'public': True,\n      'collaborative': True,\n      'url': '/prsun/list/the-20-best-value-restaurants-in-bronx-ny',\n      'canonicalUrl': 'https://foursquare.com/prsun/list/the-20-best-value-restaurants-in-bronx-ny',\n      'createdAt': 1326322153,\n      'updatedAt': 1338126296,\n      'followers': {'count': 0},\n      'listItems': {'count': 3,\n       'items': [{'id': 'v4c40f185e26920a1d5bb5de7',\n         'createdAt': 1326322270}]}}]}]},\n 'popular': {'isOpen': False,\n  'isLocalHoliday': False,\n  'timeframes': [{'days': 'Today',\n    'includesToday': True,\n    'open': [{'renderedTime': '8:00 AM\u201311:00 AM'},\n     {'renderedTime': '1:00 PM\u20132:00 PM'},\n     {'renderedTime': '5:00 PM\u20137:00 PM'}],\n    'segments': []},\n   {'days': 'Mon',\n    'open': [{'renderedTime': '11:00 AM\u20138:00 PM'}],\n    'segments': []},\n   {'days': 'Tue', 'open': [{'renderedTime': 'Noon\u20139:00 PM'}], 'segments': []},\n   {'days': 'Wed',\n    'open': [{'renderedTime': '11:00 AM\u20138:00 PM'}],\n    'segments': []},\n   {'days': 'Thu',\n    'open': [{'renderedTime': '11:00 AM\u20139:00 PM'}],\n    'segments': []},\n   {'days': 'Fri',\n    'open': [{'renderedTime': '11:00 AM\u20133:00 PM'},\n     {'renderedTime': '5:00 PM\u201310:00 PM'}],\n    'segments': []},\n   {'days': 'Sat',\n    'open': [{'renderedTime': '11:00 AM\u20139:00 PM'}],\n    'segments': []}]},\n 'seasonalHours': [],\n 'pageUpdates': {'count': 0, 'items': []},\n 'inbox': {'count': 0, 'items': []},\n 'attributes': {'groups': [{'type': 'price',\n    'name': 'Price',\n    'summary': '$',\n    'count': 1,\n    'items': [{'displayName': 'Price',\n      'displayValue': '$',\n      'priceTier': 1}]}]},\n 'bestPhoto': {'id': '5c4f86bb5d891b002c4b8484',\n  'createdAt': 1548715707,\n  'source': {'name': 'Swarm for iOS', 'url': 'https://www.swarmapp.com'},\n  'prefix': 'https://fastly.4sqi.net/img/general/',\n  'suffix': '/62197819_BWz-4KprlWQ7maXfQjUsqkVoiGkz3uFHWRprXIZRQy8.jpg',\n  'width': 1920,\n  'height': 1440,\n  'visibility': 'public'},\n 'colors': {'highlightColor': {'photoId': '5c4f86bb5d891b002c4b8484',\n   'value': -14149608},\n  'highlightTextColor': {'photoId': '5c4f86bb5d891b002c4b8484', 'value': -1},\n  'algoVersion': 3}}"
                    },
                    "execution_count": 58,
                    "metadata": {},
                    "output_type": "execute_result"
                }
            ],
            "source": "result = requests.get(url).json()\nprint(result['response']['venue'].keys())\nresult['response']['venue']"
        },
        {
            "cell_type": "code",
            "execution_count": 59,
            "metadata": {},
            "outputs": [
                {
                    "name": "stdout",
                    "output_type": "stream",
                    "text": "7.9\n"
                }
            ],
            "source": "try:\n    print(result['response']['venue']['rating'])\nexcept:\n    print('This venue has not been rated yet.')"
        },
        {
            "cell_type": "markdown",
            "metadata": {},
            "source": "Now let's try Houston."
        },
        {
            "cell_type": "code",
            "execution_count": 60,
            "metadata": {},
            "outputs": [
                {
                    "data": {
                        "text/plain": "'https://api.foursquare.com/v2/venues/4c40f185e26920a1d5bb5de7?client_id=BVHVVQMLE03WWNN1YMOZZ5BBT4SGCVWQA3Y2DGVA44ZBXLUJ&client_secret=GL12QT0SOAFRYPELNEH0RUTO3J0DGXKYSPYSLVAEE5Y4ZQ3I&oauth_token=BNNWRWLRJIQ31AVOXGYDOCCERWVBLU5CPOF2CTS0JFKTV3WV&v=20180604'"
                    },
                    "execution_count": 60,
                    "metadata": {},
                    "output_type": "execute_result"
                }
            ],
            "source": "TX_venue_id = '4abb7d4ff964a520d78320e3'\nurl = 'https://api.foursquare.com/v2/venues/4c40f185e26920a1d5bb5de7?client_id=BVHVVQMLE03WWNN1YMOZZ5BBT4SGCVWQA3Y2DGVA44ZBXLUJ&client_secret=GL12QT0SOAFRYPELNEH0RUTO3J0DGXKYSPYSLVAEE5Y4ZQ3I&oauth_token=BNNWRWLRJIQ31AVOXGYDOCCERWVBLU5CPOF2CTS0JFKTV3WV&v=20180604'.format(NY_venue_id, CLIENT_ID, CLIENT_SECRET,ACCESS_TOKEN, VERSION)\nurl"
        },
        {
            "cell_type": "code",
            "execution_count": 61,
            "metadata": {},
            "outputs": [
                {
                    "name": "stdout",
                    "output_type": "stream",
                    "text": "dict_keys(['id', 'name', 'contact', 'location', 'canonicalUrl', 'categories', 'verified', 'stats', 'url', 'price', 'hasMenu', 'likes', 'like', 'dislike', 'ok', 'rating', 'ratingColor', 'ratingSignals', 'menu', 'allowMenuUrlEdit', 'beenHere', 'specials', 'photos', 'reasons', 'hereNow', 'createdAt', 'tips', 'shortUrl', 'timeZone', 'listed', 'popular', 'seasonalHours', 'pageUpdates', 'inbox', 'attributes', 'bestPhoto', 'colors'])\n7.9\n"
                }
            ],
            "source": "result = requests.get(url).json()\nprint(result['response']['venue'].keys())\nresult['response']['venue']\n\ntry:\n    print(result['response']['venue']['rating'])\nexcept:\n    print('This venue has not been rated yet.')"
        },
        {
            "cell_type": "code",
            "execution_count": 62,
            "metadata": {
                "scrolled": true
            },
            "outputs": [
                {
                    "name": "stdout",
                    "output_type": "stream",
                    "text": "dict_keys(['id', 'name', 'contact', 'location', 'canonicalUrl', 'categories', 'verified', 'stats', 'url', 'price', 'hasMenu', 'likes', 'like', 'dislike', 'ok', 'rating', 'ratingColor', 'ratingSignals', 'menu', 'allowMenuUrlEdit', 'beenHere', 'specials', 'photos', 'reasons', 'hereNow', 'createdAt', 'tips', 'shortUrl', 'timeZone', 'listed', 'popular', 'seasonalHours', 'pageUpdates', 'inbox', 'attributes', 'bestPhoto', 'colors'])\n7.9\n"
                }
            ],
            "source": "TX_venue_id = '4f32962b19836c91c7e649f1'\nurl = 'https://api.foursquare.com/v2/venues/4c40f185e26920a1d5bb5de7?client_id=BVHVVQMLE03WWNN1YMOZZ5BBT4SGCVWQA3Y2DGVA44ZBXLUJ&client_secret=GL12QT0SOAFRYPELNEH0RUTO3J0DGXKYSPYSLVAEE5Y4ZQ3I&oauth_token=BNNWRWLRJIQ31AVOXGYDOCCERWVBLU5CPOF2CTS0JFKTV3WV&v=20180604'.format(NY_venue_id, CLIENT_ID, CLIENT_SECRET,ACCESS_TOKEN, VERSION)\nurl\n\nresult = requests.get(url).json()\nprint(result['response']['venue'].keys())\nresult['response']['venue']\n\ntry:\n    print(result['response']['venue']['rating'])\nexcept:\n    print('This venue has not been rated yet.')"
        },
        {
            "cell_type": "markdown",
            "metadata": {},
            "source": "Now Seattle"
        },
        {
            "cell_type": "code",
            "execution_count": 63,
            "metadata": {},
            "outputs": [
                {
                    "name": "stdout",
                    "output_type": "stream",
                    "text": "dict_keys(['id', 'name', 'contact', 'location', 'canonicalUrl', 'categories', 'verified', 'stats', 'url', 'price', 'hasMenu', 'likes', 'like', 'dislike', 'ok', 'rating', 'ratingColor', 'ratingSignals', 'menu', 'allowMenuUrlEdit', 'beenHere', 'specials', 'photos', 'reasons', 'hereNow', 'createdAt', 'tips', 'shortUrl', 'timeZone', 'listed', 'popular', 'seasonalHours', 'pageUpdates', 'inbox', 'attributes', 'bestPhoto', 'colors'])\n7.9\n"
                }
            ],
            "source": "WA_venue_id = '50a2a4b8e4b0d2d4297f779c'\nurl = 'https://api.foursquare.com/v2/venues/4c40f185e26920a1d5bb5de7?client_id=BVHVVQMLE03WWNN1YMOZZ5BBT4SGCVWQA3Y2DGVA44ZBXLUJ&client_secret=GL12QT0SOAFRYPELNEH0RUTO3J0DGXKYSPYSLVAEE5Y4ZQ3I&oauth_token=BNNWRWLRJIQ31AVOXGYDOCCERWVBLU5CPOF2CTS0JFKTV3WV&v=20180604'.format(NY_venue_id, CLIENT_ID, CLIENT_SECRET,ACCESS_TOKEN, VERSION)\nurl\n\nresult = requests.get(url).json()\nprint(result['response']['venue'].keys())\nresult['response']['venue']\n\ntry:\n    print(result['response']['venue']['rating'])\nexcept:\n    print('This venue has not been rated yet.')"
        },
        {
            "cell_type": "code",
            "execution_count": 64,
            "metadata": {},
            "outputs": [
                {
                    "name": "stdout",
                    "output_type": "stream",
                    "text": "dict_keys(['id', 'name', 'contact', 'location', 'canonicalUrl', 'categories', 'verified', 'stats', 'url', 'price', 'hasMenu', 'likes', 'like', 'dislike', 'ok', 'rating', 'ratingColor', 'ratingSignals', 'menu', 'allowMenuUrlEdit', 'beenHere', 'specials', 'photos', 'reasons', 'hereNow', 'createdAt', 'tips', 'shortUrl', 'timeZone', 'listed', 'popular', 'seasonalHours', 'pageUpdates', 'inbox', 'attributes', 'bestPhoto', 'colors'])\n7.9\n"
                }
            ],
            "source": "WA_venue_id = '4f3228a119836c91c7bbf2cc'\nurl = 'https://api.foursquare.com/v2/venues/4c40f185e26920a1d5bb5de7?client_id=BVHVVQMLE03WWNN1YMOZZ5BBT4SGCVWQA3Y2DGVA44ZBXLUJ&client_secret=GL12QT0SOAFRYPELNEH0RUTO3J0DGXKYSPYSLVAEE5Y4ZQ3I&oauth_token=BNNWRWLRJIQ31AVOXGYDOCCERWVBLU5CPOF2CTS0JFKTV3WV&v=20180604'.format(NY_venue_id, CLIENT_ID, CLIENT_SECRET,ACCESS_TOKEN, VERSION)\nurl\n\nresult = requests.get(url).json()\nprint(result['response']['venue'].keys())\nresult['response']['venue']\n\ntry:\n    print(result['response']['venue']['rating'])\nexcept:\n    print('This venue has not been rated yet.')"
        },
        {
            "cell_type": "code",
            "execution_count": 65,
            "metadata": {},
            "outputs": [
                {
                    "name": "stdout",
                    "output_type": "stream",
                    "text": "dict_keys(['id', 'name', 'contact', 'location', 'canonicalUrl', 'categories', 'verified', 'stats', 'url', 'price', 'hasMenu', 'likes', 'like', 'dislike', 'ok', 'rating', 'ratingColor', 'ratingSignals', 'menu', 'allowMenuUrlEdit', 'beenHere', 'specials', 'photos', 'reasons', 'hereNow', 'createdAt', 'tips', 'shortUrl', 'timeZone', 'listed', 'popular', 'seasonalHours', 'pageUpdates', 'inbox', 'attributes', 'bestPhoto', 'colors'])\n7.9\n"
                }
            ],
            "source": "WA_venue_id = '4f3227cd19836c91c7bba092'\nurl = 'https://api.foursquare.com/v2/venues/4c40f185e26920a1d5bb5de7?client_id=BVHVVQMLE03WWNN1YMOZZ5BBT4SGCVWQA3Y2DGVA44ZBXLUJ&client_secret=GL12QT0SOAFRYPELNEH0RUTO3J0DGXKYSPYSLVAEE5Y4ZQ3I&oauth_token=BNNWRWLRJIQ31AVOXGYDOCCERWVBLU5CPOF2CTS0JFKTV3WV&v=20180604'.format(NY_venue_id, CLIENT_ID, CLIENT_SECRET,ACCESS_TOKEN, VERSION)\nurl\n\nresult = requests.get(url).json()\nprint(result['response']['venue'].keys())\nresult['response']['venue']\n\ntry:\n    print(result['response']['venue']['rating'])\nexcept:\n    print('This venue has not been rated yet.')"
        },
        {
            "cell_type": "code",
            "execution_count": 66,
            "metadata": {},
            "outputs": [
                {
                    "name": "stdout",
                    "output_type": "stream",
                    "text": "dict_keys(['id', 'name', 'contact', 'location', 'canonicalUrl', 'categories', 'verified', 'stats', 'url', 'price', 'hasMenu', 'likes', 'like', 'dislike', 'ok', 'rating', 'ratingColor', 'ratingSignals', 'menu', 'allowMenuUrlEdit', 'beenHere', 'specials', 'photos', 'reasons', 'hereNow', 'createdAt', 'tips', 'shortUrl', 'timeZone', 'listed', 'popular', 'seasonalHours', 'pageUpdates', 'inbox', 'attributes', 'bestPhoto', 'colors'])\n7.9\n"
                }
            ],
            "source": "WA_venue_id = '582fa3ae9b615c49208a81dc'\nurl = 'https://api.foursquare.com/v2/venues/4c40f185e26920a1d5bb5de7?client_id=BVHVVQMLE03WWNN1YMOZZ5BBT4SGCVWQA3Y2DGVA44ZBXLUJ&client_secret=GL12QT0SOAFRYPELNEH0RUTO3J0DGXKYSPYSLVAEE5Y4ZQ3I&oauth_token=BNNWRWLRJIQ31AVOXGYDOCCERWVBLU5CPOF2CTS0JFKTV3WV&v=20180604'.format(NY_venue_id, CLIENT_ID, CLIENT_SECRET,ACCESS_TOKEN, VERSION)\nurl\n\nresult = requests.get(url).json()\nprint(result['response']['venue'].keys())\nresult['response']['venue']\n\ntry:\n    print(result['response']['venue']['rating'])\nexcept:\n    print('This venue has not been rated yet.')"
        },
        {
            "cell_type": "code",
            "execution_count": 67,
            "metadata": {},
            "outputs": [
                {
                    "name": "stdout",
                    "output_type": "stream",
                    "text": "dict_keys(['id', 'name', 'contact', 'location', 'canonicalUrl', 'categories', 'verified', 'stats', 'url', 'price', 'hasMenu', 'likes', 'like', 'dislike', 'ok', 'rating', 'ratingColor', 'ratingSignals', 'menu', 'allowMenuUrlEdit', 'beenHere', 'specials', 'photos', 'reasons', 'hereNow', 'createdAt', 'tips', 'shortUrl', 'timeZone', 'listed', 'popular', 'seasonalHours', 'pageUpdates', 'inbox', 'attributes', 'bestPhoto', 'colors'])\n7.9\n"
                }
            ],
            "source": "WA_venue_id = '4befa9fdea570f47a59e8fd2'\nurl = 'https://api.foursquare.com/v2/venues/4c40f185e26920a1d5bb5de7?client_id=BVHVVQMLE03WWNN1YMOZZ5BBT4SGCVWQA3Y2DGVA44ZBXLUJ&client_secret=GL12QT0SOAFRYPELNEH0RUTO3J0DGXKYSPYSLVAEE5Y4ZQ3I&oauth_token=BNNWRWLRJIQ31AVOXGYDOCCERWVBLU5CPOF2CTS0JFKTV3WV&v=20180604'.format(NY_venue_id, CLIENT_ID, CLIENT_SECRET,ACCESS_TOKEN, VERSION)\nurl\n\nresult = requests.get(url).json()\nprint(result['response']['venue'].keys())\nresult['response']['venue']\n\ntry:\n    print(result['response']['venue']['rating'])\nexcept:\n    print('This venue has not been rated yet.')"
        },
        {
            "cell_type": "markdown",
            "metadata": {},
            "source": "And then let's do Massachusetts"
        },
        {
            "cell_type": "code",
            "execution_count": 68,
            "metadata": {},
            "outputs": [
                {
                    "name": "stdout",
                    "output_type": "stream",
                    "text": "dict_keys(['id', 'name', 'contact', 'location', 'canonicalUrl', 'categories', 'verified', 'stats', 'url', 'price', 'hasMenu', 'likes', 'like', 'dislike', 'ok', 'rating', 'ratingColor', 'ratingSignals', 'menu', 'allowMenuUrlEdit', 'beenHere', 'specials', 'photos', 'reasons', 'hereNow', 'createdAt', 'tips', 'shortUrl', 'timeZone', 'listed', 'popular', 'seasonalHours', 'pageUpdates', 'inbox', 'attributes', 'bestPhoto', 'colors'])\n7.9\n"
                }
            ],
            "source": "MA_venue_id = '4ebcaee49adf8b96f8dbaf3a'\nurl = 'https://api.foursquare.com/v2/venues/4c40f185e26920a1d5bb5de7?client_id=BVHVVQMLE03WWNN1YMOZZ5BBT4SGCVWQA3Y2DGVA44ZBXLUJ&client_secret=GL12QT0SOAFRYPELNEH0RUTO3J0DGXKYSPYSLVAEE5Y4ZQ3I&oauth_token=BNNWRWLRJIQ31AVOXGYDOCCERWVBLU5CPOF2CTS0JFKTV3WV&v=20180604'.format(NY_venue_id, CLIENT_ID, CLIENT_SECRET,ACCESS_TOKEN, VERSION)\nurl\n\nresult = requests.get(url).json()\nprint(result['response']['venue'].keys())\nresult['response']['venue']\n\ntry:\n    print(result['response']['venue']['rating'])\nexcept:\n    print('This venue has not been rated yet.')"
        },
        {
            "cell_type": "code",
            "execution_count": 69,
            "metadata": {},
            "outputs": [
                {
                    "name": "stdout",
                    "output_type": "stream",
                    "text": "dict_keys(['id', 'name', 'contact', 'location', 'canonicalUrl', 'categories', 'verified', 'stats', 'url', 'price', 'hasMenu', 'likes', 'like', 'dislike', 'ok', 'rating', 'ratingColor', 'ratingSignals', 'menu', 'allowMenuUrlEdit', 'beenHere', 'specials', 'photos', 'reasons', 'hereNow', 'createdAt', 'tips', 'shortUrl', 'timeZone', 'listed', 'popular', 'seasonalHours', 'pageUpdates', 'inbox', 'attributes', 'bestPhoto', 'colors'])\n7.9\n"
                }
            ],
            "source": "MA_venue_id = '5d19462f17d3b90023f58792'\nurl = 'https://api.foursquare.com/v2/venues/4c40f185e26920a1d5bb5de7?client_id=BVHVVQMLE03WWNN1YMOZZ5BBT4SGCVWQA3Y2DGVA44ZBXLUJ&client_secret=GL12QT0SOAFRYPELNEH0RUTO3J0DGXKYSPYSLVAEE5Y4ZQ3I&oauth_token=BNNWRWLRJIQ31AVOXGYDOCCERWVBLU5CPOF2CTS0JFKTV3WV&v=20180604'.format(NY_venue_id, CLIENT_ID, CLIENT_SECRET,ACCESS_TOKEN, VERSION)\nurl\n\nresult = requests.get(url).json()\nprint(result['response']['venue'].keys())\nresult['response']['venue']\n\ntry:\n    print(result['response']['venue']['rating'])\nexcept:\n    print('This venue has not been rated yet.')"
        },
        {
            "cell_type": "code",
            "execution_count": 70,
            "metadata": {},
            "outputs": [
                {
                    "name": "stdout",
                    "output_type": "stream",
                    "text": "dict_keys(['id', 'name', 'contact', 'location', 'canonicalUrl', 'categories', 'verified', 'stats', 'url', 'price', 'hasMenu', 'likes', 'like', 'dislike', 'ok', 'rating', 'ratingColor', 'ratingSignals', 'menu', 'allowMenuUrlEdit', 'beenHere', 'specials', 'photos', 'reasons', 'hereNow', 'createdAt', 'tips', 'shortUrl', 'timeZone', 'listed', 'popular', 'seasonalHours', 'pageUpdates', 'inbox', 'attributes', 'bestPhoto', 'colors'])\n7.9\n"
                }
            ],
            "source": "MA_venue_id = '4f322cba19836c91c7bd83c7'\nurl = 'https://api.foursquare.com/v2/venues/4c40f185e26920a1d5bb5de7?client_id=BVHVVQMLE03WWNN1YMOZZ5BBT4SGCVWQA3Y2DGVA44ZBXLUJ&client_secret=GL12QT0SOAFRYPELNEH0RUTO3J0DGXKYSPYSLVAEE5Y4ZQ3I&oauth_token=BNNWRWLRJIQ31AVOXGYDOCCERWVBLU5CPOF2CTS0JFKTV3WV&v=20180604'.format(NY_venue_id, CLIENT_ID, CLIENT_SECRET,ACCESS_TOKEN, VERSION)\nurl\n\nresult = requests.get(url).json()\nprint(result['response']['venue'].keys())\nresult['response']['venue']\n\ntry:\n    print(result['response']['venue']['rating'])\nexcept:\n    print('This venue has not been rated yet.')"
        },
        {
            "cell_type": "markdown",
            "metadata": {},
            "source": "# 5. and 6. Results and Discussion and Conclusion"
        },
        {
            "cell_type": "markdown",
            "metadata": {},
            "source": "While the results of searching for Italian restuarants came back rather well, it would appear that the analysis of each of the restuarants popularity were rather inconclusive since all of them cam back as 7.9. \n\nThis is a decent rating for the restaurants and would definitely warrant a sit down to eat at. However, the original problem of \"where is the best Italian restuarant in these cities\" still remains somewhat unanswered. \n\nA few ways to perhaps improve this study would be the following:\n\n1. Expand the radius \n2. Expand the type of cuisine to include more options\n3. Include more information on the restaurant, such as item menus, reservations required, etc. \n"
        },
        {
            "cell_type": "code",
            "execution_count": null,
            "metadata": {},
            "outputs": [],
            "source": ""
        }
    ],
    "metadata": {
        "kernelspec": {
            "display_name": "Python 3.7",
            "language": "python",
            "name": "python3"
        },
        "language_info": {
            "codemirror_mode": {
                "name": "ipython",
                "version": 3
            },
            "file_extension": ".py",
            "mimetype": "text/x-python",
            "name": "python",
            "nbconvert_exporter": "python",
            "pygments_lexer": "ipython3",
            "version": "3.7.9"
        }
    },
    "nbformat": 4,
    "nbformat_minor": 1
}